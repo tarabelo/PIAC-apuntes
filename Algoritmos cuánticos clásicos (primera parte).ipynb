{
  "cells": [
    {
      "cell_type": "markdown",
      "metadata": {
        "id": "view-in-github",
        "colab_type": "text"
      },
      "source": [
        "<a href=\"https://colab.research.google.com/github/tarabelo/PIAC-apuntes/blob/main/Algoritmos%20cu%C3%A1nticos%20cl%C3%A1sicos%20(primera%20parte).ipynb\" target=\"_parent\"><img src=\"https://colab.research.google.com/assets/colab-badge.svg\" alt=\"Open In Colab\"/></a>"
      ]
    },
    {
      "cell_type": "code",
      "source": [
        "# Instalamos qiskit en el notebook\n",
        "!pip install qiskit qiskit-aer pylatexenc"
      ],
      "metadata": {
        "colab": {
          "base_uri": "https://localhost:8080/"
        },
        "id": "T0gD2RamevFL",
        "outputId": "7c54bde0-e7e3-44e9-c7c7-f566efdf18be"
      },
      "id": "T0gD2RamevFL",
      "execution_count": 1,
      "outputs": [
        {
          "output_type": "stream",
          "name": "stdout",
          "text": [
            "Collecting qiskit\n",
            "  Downloading qiskit-1.2.4-cp38-abi3-manylinux_2_17_x86_64.manylinux2014_x86_64.whl.metadata (12 kB)\n",
            "Collecting qiskit-aer\n",
            "  Downloading qiskit_aer-0.15.1-cp310-cp310-manylinux_2_17_x86_64.manylinux2014_x86_64.whl.metadata (8.0 kB)\n",
            "Collecting pylatexenc\n",
            "  Downloading pylatexenc-2.10.tar.gz (162 kB)\n",
            "\u001b[2K     \u001b[90m━━━━━━━━━━━━━━━━━━━━━━━━━━━━━━━━━━━━━━━━\u001b[0m \u001b[32m162.6/162.6 kB\u001b[0m \u001b[31m2.8 MB/s\u001b[0m eta \u001b[36m0:00:00\u001b[0m\n",
            "\u001b[?25h  Preparing metadata (setup.py) ... \u001b[?25l\u001b[?25hdone\n",
            "Collecting rustworkx>=0.15.0 (from qiskit)\n",
            "  Downloading rustworkx-0.15.1-cp38-abi3-manylinux_2_17_x86_64.manylinux2014_x86_64.whl.metadata (9.9 kB)\n",
            "Requirement already satisfied: numpy<3,>=1.17 in /usr/local/lib/python3.10/dist-packages (from qiskit) (1.26.4)\n",
            "Requirement already satisfied: scipy>=1.5 in /usr/local/lib/python3.10/dist-packages (from qiskit) (1.13.1)\n",
            "Requirement already satisfied: sympy>=1.3 in /usr/local/lib/python3.10/dist-packages (from qiskit) (1.13.1)\n",
            "Collecting dill>=0.3 (from qiskit)\n",
            "  Downloading dill-0.3.9-py3-none-any.whl.metadata (10 kB)\n",
            "Requirement already satisfied: python-dateutil>=2.8.0 in /usr/local/lib/python3.10/dist-packages (from qiskit) (2.8.2)\n",
            "Collecting stevedore>=3.0.0 (from qiskit)\n",
            "  Downloading stevedore-5.3.0-py3-none-any.whl.metadata (2.3 kB)\n",
            "Requirement already satisfied: typing-extensions in /usr/local/lib/python3.10/dist-packages (from qiskit) (4.12.2)\n",
            "Collecting symengine<0.14,>=0.11 (from qiskit)\n",
            "  Downloading symengine-0.13.0-cp310-cp310-manylinux_2_17_x86_64.manylinux2014_x86_64.whl.metadata (1.2 kB)\n",
            "Requirement already satisfied: psutil>=5 in /usr/local/lib/python3.10/dist-packages (from qiskit-aer) (5.9.5)\n",
            "Requirement already satisfied: six>=1.5 in /usr/local/lib/python3.10/dist-packages (from python-dateutil>=2.8.0->qiskit) (1.16.0)\n",
            "Collecting pbr>=2.0.0 (from stevedore>=3.0.0->qiskit)\n",
            "  Downloading pbr-6.1.0-py2.py3-none-any.whl.metadata (3.4 kB)\n",
            "Requirement already satisfied: mpmath<1.4,>=1.1.0 in /usr/local/lib/python3.10/dist-packages (from sympy>=1.3->qiskit) (1.3.0)\n",
            "Downloading qiskit-1.2.4-cp38-abi3-manylinux_2_17_x86_64.manylinux2014_x86_64.whl (4.8 MB)\n",
            "\u001b[2K   \u001b[90m━━━━━━━━━━━━━━━━━━━━━━━━━━━━━━━━━━━━━━━━\u001b[0m \u001b[32m4.8/4.8 MB\u001b[0m \u001b[31m21.4 MB/s\u001b[0m eta \u001b[36m0:00:00\u001b[0m\n",
            "\u001b[?25hDownloading qiskit_aer-0.15.1-cp310-cp310-manylinux_2_17_x86_64.manylinux2014_x86_64.whl (12.3 MB)\n",
            "\u001b[2K   \u001b[90m━━━━━━━━━━━━━━━━━━━━━━━━━━━━━━━━━━━━━━━━\u001b[0m \u001b[32m12.3/12.3 MB\u001b[0m \u001b[31m45.9 MB/s\u001b[0m eta \u001b[36m0:00:00\u001b[0m\n",
            "\u001b[?25hDownloading dill-0.3.9-py3-none-any.whl (119 kB)\n",
            "\u001b[2K   \u001b[90m━━━━━━━━━━━━━━━━━━━━━━━━━━━━━━━━━━━━━━━━\u001b[0m \u001b[32m119.4/119.4 kB\u001b[0m \u001b[31m6.5 MB/s\u001b[0m eta \u001b[36m0:00:00\u001b[0m\n",
            "\u001b[?25hDownloading rustworkx-0.15.1-cp38-abi3-manylinux_2_17_x86_64.manylinux2014_x86_64.whl (2.0 MB)\n",
            "\u001b[2K   \u001b[90m━━━━━━━━━━━━━━━━━━━━━━━━━━━━━━━━━━━━━━━━\u001b[0m \u001b[32m2.0/2.0 MB\u001b[0m \u001b[31m45.2 MB/s\u001b[0m eta \u001b[36m0:00:00\u001b[0m\n",
            "\u001b[?25hDownloading stevedore-5.3.0-py3-none-any.whl (49 kB)\n",
            "\u001b[2K   \u001b[90m━━━━━━━━━━━━━━━━━━━━━━━━━━━━━━━━━━━━━━━━\u001b[0m \u001b[32m49.7/49.7 kB\u001b[0m \u001b[31m2.7 MB/s\u001b[0m eta \u001b[36m0:00:00\u001b[0m\n",
            "\u001b[?25hDownloading symengine-0.13.0-cp310-cp310-manylinux_2_17_x86_64.manylinux2014_x86_64.whl (49.7 MB)\n",
            "\u001b[2K   \u001b[90m━━━━━━━━━━━━━━━━━━━━━━━━━━━━━━━━━━━━━━━━\u001b[0m \u001b[32m49.7/49.7 MB\u001b[0m \u001b[31m13.4 MB/s\u001b[0m eta \u001b[36m0:00:00\u001b[0m\n",
            "\u001b[?25hDownloading pbr-6.1.0-py2.py3-none-any.whl (108 kB)\n",
            "\u001b[2K   \u001b[90m━━━━━━━━━━━━━━━━━━━━━━━━━━━━━━━━━━━━━━━━\u001b[0m \u001b[32m108.5/108.5 kB\u001b[0m \u001b[31m5.7 MB/s\u001b[0m eta \u001b[36m0:00:00\u001b[0m\n",
            "\u001b[?25hBuilding wheels for collected packages: pylatexenc\n",
            "  Building wheel for pylatexenc (setup.py) ... \u001b[?25l\u001b[?25hdone\n",
            "  Created wheel for pylatexenc: filename=pylatexenc-2.10-py3-none-any.whl size=136816 sha256=24f3d3e8b2e42c201dbcf5fdf5a8cfa77044a37d33d7037dddfaa53f5fc74412\n",
            "  Stored in directory: /root/.cache/pip/wheels/d3/31/8b/e09b0386afd80cfc556c00408c9aeea5c35c4d484a9c762fd5\n",
            "Successfully built pylatexenc\n",
            "Installing collected packages: pylatexenc, symengine, rustworkx, pbr, dill, stevedore, qiskit, qiskit-aer\n",
            "Successfully installed dill-0.3.9 pbr-6.1.0 pylatexenc-2.10 qiskit-1.2.4 qiskit-aer-0.15.1 rustworkx-0.15.1 stevedore-5.3.0 symengine-0.13.0\n"
          ]
        }
      ]
    },
    {
      "cell_type": "code",
      "execution_count": 10,
      "id": "formal-celebration",
      "metadata": {
        "id": "formal-celebration"
      },
      "outputs": [],
      "source": [
        "import numpy as np\n",
        "from math import sqrt\n",
        "\n",
        "# importing Qiskit\n",
        "from qiskit import QuantumCircuit, QuantumRegister, ClassicalRegister, transpile\n",
        "from qiskit.quantum_info import Statevector\n",
        "from qiskit_aer import AerSimulator\n",
        "# import basic plot tools\n",
        "from qiskit.visualization import plot_histogram\n",
        "\n",
        "# Funciones auxiliares\n",
        "\n",
        "# Función para simular y mostrar el vector de estado\n",
        "def obten_estado(qcirc, etiqueta=\"|\\psi\\!\\!> = \", bloch=False):\n",
        "    # Usamos el simulador de vector de estado\n",
        "    # https://qiskit.github.io/qiskit-aer/stubs/qiskit_aer.AerSimulator.html\n",
        "    sim = AerSimulator(method='statevector')\n",
        "    qc_obj = transpile(qcirc, sim)\n",
        "    result = sim.run(qc_obj).result()\n",
        "    estado = result.get_statevector()\n",
        "    display(estado.draw('latex', prefix=etiqueta))\n",
        "    if bloch:\n",
        "      display(estado.draw('bloch'))\n",
        "\n",
        "# Funcion para obtener y mostrar la matriz unitaria\n",
        "def obten_unitaria(qcirc, etiqueta):\n",
        "    # Usamos el simulador de matriz unitaria\n",
        "    sim_u = AerSimulator(method='unitary')\n",
        "    qc_obj = transpile(qcirc, sim_u)\n",
        "    result = sim_u.run(qcirc).result()\n",
        "    unitary = result.get_unitary(qcirc)\n",
        "    display(unitary.draw('latex', prefix=etiqueta))"
      ]
    },
    {
      "cell_type": "markdown",
      "id": "unlikely-secretariat",
      "metadata": {
        "id": "unlikely-secretariat"
      },
      "source": [
        "# Algoritmos cuánticos \"clásicos\"\n",
        "\n",
        "Algoritmos que presentan una ventaja real sobre sus homólogos clásicos.\n",
        "\n",
        "Algunas características:\n",
        " - Introducidos en los años 90 del siglo XX\n",
        " - Suponen que tenemos computadores cuánticos ideales\n",
        " - Algunos de ellos carecen de utilidad práctica, mientras que otros suelen formar parte de algoritmos más complejos."
      ]
    },
    {
      "cell_type": "markdown",
      "id": "substantial-medline",
      "metadata": {
        "id": "substantial-medline"
      },
      "source": [
        "### Contenidos\n",
        "\n",
        "1. [Paralelismo cuántico](#paralelismo)\n",
        "1. [Oráculos cuánticos](#oraculo)\n",
        "2. [Algoritmo de Deutsch](#deutsch)\n",
        "3. [Algoritmo de Deutsch-Jozsa](#dj)\n",
        "4. [Algoritmo de Bernstein-Vazirani](#bv)\n",
        "4. [Algoritmo de periodicidad de Simon](#simon)\n",
        "5. [Algoritmo de búsqueda de Grover: amplificación de amplitud](#grover)"
      ]
    },
    {
      "cell_type": "markdown",
      "id": "parental-continent",
      "metadata": {
        "id": "parental-continent"
      },
      "source": [
        "# Paralelismo cuántico <a id=\"paralelismo\"></a>\n",
        "\n",
        "Permite evaluar una función $f(x)$ para múltiples valores de $x$ simultáneamente."
      ]
    },
    {
      "cell_type": "markdown",
      "id": "failing-jason",
      "metadata": {
        "id": "failing-jason"
      },
      "source": [
        "Sea $f(x): \\{0,1\\}\\rightarrow\\{0,1\\}$. Para poder usar esa función en un sistema cuántico tenemos que obtener una unitaria $U_f$ que la implemente. Una forma simple es:\n",
        "\n",
        "<center><img src=\"https://drive.google.com/uc?export=view&id=1wE_Ts7MoneY2S4p11SqYHT4o0_SI7vEd\" alt=\"Puerta reversible\" width=\"300\"  /></center>\n",
        "\n",
        "Al cúbit auxiliar $|y\\rangle$ se le denomina *ancilla*\n",
        "\n",
        "\n",
        "Es fácil ver que $U_f$ es su propia inversa:\n",
        "\n",
        "<center><img src=\"https://drive.google.com/uc?export=view&id=1pHBMmR3su74ziSuXJK0p9zr1sAGejti_\" alt=\"Puerta reversible demo\" width=\"600\"  /></center>\n"
      ]
    },
    {
      "cell_type": "markdown",
      "id": "f3375ca1",
      "metadata": {
        "id": "f3375ca1"
      },
      "source": [
        "Para un sistema de dos cúbits $|yx\\rangle=|y\\rangle\\otimes|x\\rangle$ (siguiendo el orden de Qiskit) tenemos:\n",
        "\n",
        "$$\n",
        "U_f|yx\\rangle = |y\\oplus f(x)\\rangle\\otimes|x\\rangle\n",
        "$$\n",
        "\n",
        "Si hacemos $|x\\rangle = \\tfrac{1}{\\sqrt{2}}(|0\\rangle+|1\\rangle)$ e $|y\\rangle=|0\\rangle$:\n",
        "\n",
        "$$\n",
        "\\begin{aligned}\n",
        "U_f\\left(|0\\rangle\\otimes|\\tfrac{1}{\\sqrt{2}}(|0\\rangle+|1\\rangle)\\rangle\\right) &\n",
        "= U_f\\left(|\\tfrac{1}{\\sqrt{2}}(|00\\rangle+|01\\rangle)\\right)\n",
        "= \\tfrac{1}{\\sqrt{2}}\\left(U_f|00\\rangle+U_f|01\\rangle\\right) \\\\\n",
        "& = \\tfrac{1}{\\sqrt{2}}\\left(|0\\oplus f(0)\\rangle\\otimes|0\\rangle+|0\\oplus f(1)\\rangle\\otimes|1\\rangle\\right)\n",
        "= \\tfrac{1}{\\sqrt{2}}\\left(|f(0)\\rangle\\otimes|0\\rangle+|f(1)\\rangle\\otimes|1\\rangle\\right)\n",
        "\\end{aligned}\n",
        "$$\n",
        "\n",
        "Una única aplicación de $U_f$ obtiene a la vez $f(0)$ y $f(1)$.\n",
        "\n",
        "Este resultado se puede generalizar a un estado de $n$ cubits $|\\psi\\rangle = \\tfrac{1}{\\sqrt{2^n}}\\sum_{i=0}^{2^n-1} |i\\rangle$:\n",
        "\n",
        "$$\n",
        "U_f\\left(|0\\rangle\\otimes|\\psi\\rangle\\right) = \\frac{1}{\\sqrt{2^n}}\\sum_{i=0}^{2^n-1} |f(i)\\rangle\\otimes|i\\rangle\n",
        "$$\n",
        "\n",
        "Se evalúan simultáneamente todos los $f(x), \\forall x=0\\ldots 2^{n-1}$!\n",
        "\n",
        "&nbsp;\n",
        "\n",
        "<details><summary>¿Sirve esto para algo?</summary>\n",
        "Realmente, este paralelismo no sirve de mucho, ya que al medir solo vamos a obtener un valor de  $|i,f(i)\\rangle$ (y, además, no sabemos cuál va a ser!).\n",
        "</details>"
      ]
    },
    {
      "cell_type": "markdown",
      "id": "5a86052a",
      "metadata": {
        "id": "5a86052a"
      },
      "source": [
        "# Oráculos cuánticos <a id=\"oraculo\"></a>"
      ]
    },
    {
      "cell_type": "markdown",
      "id": "4971c046",
      "metadata": {
        "id": "4971c046"
      },
      "source": [
        "# Oráculos cuánticos <a id=\"oraculo\"></a>\n",
        "\n",
        "Función de \"caja negra\" de la que solo podemos conocer su salida dada una entrada.\n",
        "\n",
        "Los primeros algoritmos que veremos permiten extraer propiedades de un oráculo.\n",
        "\n",
        "\n",
        "#### Ejemplo:\n",
        "\n",
        "Sea una función $f(x): \\{0,1\\}\\rightarrow\\{0,1\\}$. Solo hay 4 versiones de esta función:\n",
        "\n",
        "<center><img src=\"https://drive.google.com/uc?export=view&id=1hLNmVOxHoBaCkN6zYnEV3YP10aXIhwJk\" alt=\"Oráculo\" width=\"600\"  /></center>\n",
        "\n",
        "\n",
        "Estas funciones pueden expresarse como matrices:\n",
        "\n",
        "$$\n",
        "f_0 = \\begin{bmatrix}1 & 0\\\\0 & 1\\end{bmatrix}\\qquad\n",
        "f_1 = \\begin{bmatrix}0 & 1\\\\1 & 0\\end{bmatrix}\\qquad\n",
        "f_2 = \\begin{bmatrix}1 & 1\\\\0 & 0\\end{bmatrix}\\qquad\n",
        "f_3 = \\begin{bmatrix}0 & 0\\\\1 & 1\\end{bmatrix}\n",
        "$$\n",
        "\n",
        "Podemos convertir esas matrices en unitarias $U_{f_i}$ para usar en el circuito anterior.\n",
        "\n",
        "Por ejemplo, para $f_0$, podemos obtener la matriz correspondiente a $U_f$ a partir de la siguiente tabla:\n",
        "\n",
        "<center><img src=\"https://drive.google.com/uc?export=view&id=1q0VWpLV2AvreY43Jms_UMfs0Ahb8tRIM\" alt=\"Tabla f0\" width=\"400\"  /></center>\n",
        "\n",
        "\n",
        "Por tanto la matriz $U_{f_0}$ es:\n",
        "\n",
        "$$\n",
        "U_{f_0} =\n",
        "\\begin{bmatrix}\n",
        "1 & 0 & 0 & 0\\\\\n",
        "0 & 0 & 0 & 1\\\\\n",
        "0 & 0 & 1 & 0\\\\\n",
        "0 & 1 & 0 & 0\\end{bmatrix}\n",
        "$$"
      ]
    },
    {
      "cell_type": "markdown",
      "id": "98f376b0",
      "metadata": {
        "id": "98f376b0"
      },
      "source": [
        "### Ejercicio 1\n",
        "\n",
        "Obtén las matrices para las otras tres funciones."
      ]
    },
    {
      "cell_type": "markdown",
      "source": [],
      "metadata": {
        "id": "_wGYSRKAfYvt"
      },
      "id": "_wGYSRKAfYvt"
    },
    {
      "cell_type": "markdown",
      "id": "39645a71",
      "metadata": {
        "id": "39645a71"
      },
      "source": [
        "\n",
        "\n",
        "---\n",
        "\n"
      ]
    },
    {
      "cell_type": "markdown",
      "id": "e8181ed8",
      "metadata": {
        "id": "e8181ed8"
      },
      "source": [
        "La matriz $U_{f_0}$ corresponde a una puerta CNOT:"
      ]
    },
    {
      "cell_type": "code",
      "execution_count": 5,
      "id": "8d2ba80f",
      "metadata": {
        "colab": {
          "base_uri": "https://localhost:8080/",
          "height": 191
        },
        "id": "8d2ba80f",
        "outputId": "f16a70be-9328-450f-e6ef-3e65ff764d52"
      },
      "outputs": [
        {
          "output_type": "execute_result",
          "data": {
            "text/plain": [
              "<Figure size 376.915x200.667 with 1 Axes>"
            ],
            "image/png": "[encoded data removed]"
          },
          "metadata": {},
          "execution_count": 5
        }
      ],
      "source": [
        "x = QuantumRegister(1, name=\"|x\\\\rangle\")\n",
        "y = QuantumRegister(1, name=\"|y\\\\rangle\")\n",
        "qc = QuantumCircuit(x,y)\n",
        "\n",
        "# Aplica CNOT, primer parámetro target, segundo control\n",
        "qc.cx(x,y)\n",
        "qc.save_unitary()\n",
        "qc.draw('mpl')"
      ]
    },
    {
      "cell_type": "code",
      "execution_count": 6,
      "id": "ab2831ba",
      "metadata": {
        "colab": {
          "base_uri": "https://localhost:8080/",
          "height": 98
        },
        "id": "ab2831ba",
        "outputId": "5c4855ad-58fd-489a-f8aa-eeeb740e3aae"
      },
      "outputs": [
        {
          "output_type": "display_data",
          "data": {
            "text/plain": [
              "<IPython.core.display.Latex object>"
            ],
            "text/latex": "$$\nU_{f_0} = \n\\begin{bmatrix}\n1 & 0 & 0 & 0  \\\\\n 0 & 0 & 0 & 1  \\\\\n 0 & 0 & 1 & 0  \\\\\n 0 & 1 & 0 & 0  \\\\\n \\end{bmatrix}\n$$"
          },
          "metadata": {}
        }
      ],
      "source": [
        "obten_unitaria(qc, \"U_{f_0} = \")"
      ]
    },
    {
      "cell_type": "markdown",
      "id": "b662eb04",
      "metadata": {
        "id": "b662eb04"
      },
      "source": [
        "Qiskit permite definir este circuito como una puerta:"
      ]
    },
    {
      "cell_type": "code",
      "execution_count": 7,
      "id": "5d1e56c0",
      "metadata": {
        "id": "5d1e56c0"
      },
      "outputs": [],
      "source": [
        "# Oráculo para f0\n",
        "def f0_oraculo():\n",
        "    \"\"\"\n",
        "    Define un oraculo para la funcion f0\n",
        "        return: circuito de 2 cúbit en forma de puerta\n",
        "    \"\"\"\n",
        "    x = QuantumRegister(1, name=\"|x\\\\rangle\")\n",
        "    y = QuantumRegister(1, name=\"|y\\\\rangle\")\n",
        "    qc = QuantumCircuit(x,y)\n",
        "    # Aplica CNOT, primer parámetro target, segundo control\n",
        "    qc.cx(x,y)\n",
        "\n",
        "\n",
        "    oraculo = qc.to_gate()\n",
        "    oraculo.name = \"$U_{f_0}$\"\n",
        "    return(oraculo)"
      ]
    },
    {
      "cell_type": "markdown",
      "id": "02bca9e1",
      "metadata": {
        "id": "02bca9e1"
      },
      "source": [
        "### Demostración del paralelismo cuántico\n",
        "\n",
        "Podemos ver como funciona el paralelismo cuántico haciendo un circuito en Qiskit con el oraculo asociado a $f_0$."
      ]
    },
    {
      "cell_type": "code",
      "execution_count": 8,
      "id": "1b94827b",
      "metadata": {
        "colab": {
          "base_uri": "https://localhost:8080/",
          "height": 191
        },
        "id": "1b94827b",
        "outputId": "0f47845c-057a-4550-f8ce-401e459400eb"
      },
      "outputs": [
        {
          "output_type": "execute_result",
          "data": {
            "text/plain": [
              "<Figure size 627.748x200.667 with 1 Axes>"
            ],
            "image/png": "[encoded data removed]"
          },
          "metadata": {},
          "execution_count": 8
        }
      ],
      "source": [
        "x = QuantumRegister(1, name=\"|x\\\\rangle\")\n",
        "y = QuantumRegister(1, name=\"|y\\\\rangle\")\n",
        "qc = QuantumCircuit(x,y)\n",
        "estado_mas = Statevector([1/sqrt(2), 1/sqrt(2)])\n",
        "qc.initialize(estado_mas,0)\n",
        "\n",
        "# Añadimos el oráculo\n",
        "qc = qc.compose(f0_oraculo())\n",
        "qc.save_statevector()\n",
        "qc.draw('mpl')"
      ]
    },
    {
      "cell_type": "code",
      "execution_count": 9,
      "id": "e49eb547",
      "metadata": {
        "colab": {
          "base_uri": "https://localhost:8080/",
          "height": 40
        },
        "id": "e49eb547",
        "outputId": "b80be2d8-e7d1-495e-870e-75f36e49f57b"
      },
      "outputs": [
        {
          "output_type": "display_data",
          "data": {
            "text/plain": [
              "<IPython.core.display.Latex object>"
            ],
            "text/latex": "$$|\\psi\\!\\!> = \\frac{\\sqrt{2}}{2} |00\\rangle+\\frac{\\sqrt{2}}{2} |11\\rangle$$"
          },
          "metadata": {}
        }
      ],
      "source": [
        "obten_estado(qc)"
      ]
    },
    {
      "cell_type": "markdown",
      "id": "03c439c2",
      "metadata": {
        "id": "03c439c2"
      },
      "source": [
        "Se trata del estado:\n",
        "$$\n",
        "|\\psi\\rangle = \\tfrac{1}{\\sqrt{2}}(|00\\rangle+|11\\rangle) = \\tfrac{1}{\\sqrt{2}}(|f_0(0),0\\rangle+|f_1(1),1\\rangle)\n",
        "$$"
      ]
    },
    {
      "cell_type": "markdown",
      "id": "d8227cd6",
      "metadata": {
        "id": "d8227cd6"
      },
      "source": [
        "### Ejercicio 2\n",
        "\n",
        "Crea funciones oráculo en Qiskit para las otras 3 matrices y prueba el paralelismo cuantico en los 3 casos."
      ]
    },
    {
      "cell_type": "code",
      "execution_count": null,
      "id": "15073822",
      "metadata": {
        "id": "15073822"
      },
      "outputs": [],
      "source": []
    },
    {
      "cell_type": "markdown",
      "id": "b4312e45",
      "metadata": {
        "id": "b4312e45"
      },
      "source": [
        "## Complejidad de consultas\n",
        "\n",
        "En un algoritmo que hace uso de un oráculo, se denomina complejidad de consultas (*query complexity*) al número medio de *consultas* al oráculo que se necesitan para resolver el problema.\n",
        "\n",
        "La complejidad se expresa a través de la *notación asintótica*, principalmente la notación *Big-O*.\n",
        "\n",
        "Así, si el número $n$ de accesos al oráculo crece exponencialmente, la complejidad será $\\mathcal{O}\\left(2^n\\right)$ y si lo hace linealmente $\\mathcal{O}\\left(n\\right)$.\n",
        "\n",
        "Los algoritmos cuánticos que veremos a continuación tienen una menor complejidad de consultas que sus equivalentes clásicos."
      ]
    },
    {
      "cell_type": "markdown",
      "id": "fbcf6628",
      "metadata": {
        "id": "fbcf6628"
      },
      "source": [
        "-------------------------------\n",
        "-------------------------------\n",
        "-------------------------------"
      ]
    },
    {
      "cell_type": "markdown",
      "id": "built-provision",
      "metadata": {
        "id": "built-provision"
      },
      "source": [
        "# Algoritmo de Deutsch <a id=\"deutsch\"></a>\n",
        "\n",
        "Las funciones $f(x): \\{0,1\\}\\rightarrow\\{0,1\\}$ se denominan:\n",
        "\n",
        "- Constantes: si $f(0)=f(1)$\n",
        "- Balanceadas: si $f(0)\\ne f(1)$\n",
        "\n",
        "De las 4 funciones anteriores, $f_0$ y $f_1$ son balanceadas mientras que $f_2$ y $f_3$ son constantes.\n",
        "\n",
        "Dada una función $f(x): \\{0,1\\}\\rightarrow\\{0,1\\}$ desconocida, un algoritmo clásico necesita 2 llamadas a $f$ para determinar si es constante o balanceada.\n",
        "\n",
        "El **algoritmo cuántico de Deutsch** puede determinarlo con una sola llamada a $f$.\n",
        "\n",
        "Partimos del circuito siguiente:\n",
        "\n",
        "<center><img src=\"https://drive.google.com/uc?export=view&id=1npbfKEwOqZA1EOUl8JeoytuQ7e0b7v1C\" alt=\"Deutsch\" width=\"800\"  /></center>"
      ]
    },
    {
      "cell_type": "markdown",
      "id": "thirty-madrid",
      "metadata": {
        "id": "thirty-madrid"
      },
      "source": [
        "Estado después de la puerta X:\n",
        "$$\n",
        "|\\psi_0\\rangle = |10\\rangle\n",
        "$$\n",
        "\n",
        "Estado despues de las H:\n",
        "$$\n",
        "|\\psi_1\\rangle = |-+\\rangle = \\frac{|0\\rangle - |1\\rangle}{\\sqrt{2}}\\otimes \\frac{|0\\rangle + |1\\rangle}{\\sqrt{2}} = |y\\rangle \\otimes|x\\rangle\n",
        "$$\n",
        "\n",
        "Y se tiene que:\n",
        "\n",
        "$$\n",
        "y\\oplus f(x) = \\frac{|0\\rangle - |1\\rangle}{\\sqrt{2}}\\oplus f(x) = \\frac{|0\\oplus f(x)\\rangle - |1\\oplus f(x)\\rangle}{\\sqrt{2}} =\n",
        "\\begin{cases}\n",
        "\\frac{|0\\rangle - |1\\rangle}{\\sqrt{2}}, & \\text{si } f(x) = 0\\\\\n",
        "\\frac{|1\\rangle - |0\\rangle}{\\sqrt{2}}, & \\text{si } f(x) = 1\n",
        "\\end{cases}\n",
        "$$\n",
        "\n",
        "por lo que podemos escribir:\n",
        "$$\n",
        "y\\oplus f(x) = (-1)^{f(x)}\\frac{|0\\rangle - |1\\rangle}{\\sqrt{2}}\n",
        "$$\n",
        "\n",
        "De aquí se tiene que:\n",
        "\n",
        "$$\n",
        "|\\psi_2\\rangle = \\frac{1}{\\sqrt{2}}(-1)^{f(x)} (|0\\rangle - |1\\rangle)\\otimes |x\\rangle =\n",
        "\\frac{1}{\\sqrt{2}} (|0\\rangle - |1\\rangle)\\otimes (-1)^{f(x)}|x\\rangle\n",
        "$$\n",
        "Y podemos escribir:\n",
        "$$\n",
        "(-1)^{f(x)}|x\\rangle = |(-1)^{f(x)}x\\rangle =\n",
        "\\frac{(-1)^{f(0)}|0\\rangle + (-1)^{f(1)}|1\\rangle}{\\sqrt{2}}\n",
        "$$\n",
        "\n",
        "Por lo tanto, el estado $|\\psi_2\\rangle$ queda:\n",
        "$$\n",
        "|\\psi_2\\rangle =\n",
        "\\frac{|0\\rangle - |1\\rangle}{\\sqrt{2}}\\otimes\n",
        "\\frac{(-1)^{f(0)}|0\\rangle + (-1)^{f(1)}|1\\rangle}{\\sqrt{2}} =\n",
        "\\begin{cases}\n",
        "\\pm\\left[\\frac{|0\\rangle - |1\\rangle}{\\sqrt{2}}\\right] \\otimes \\left[\\frac{|0\\rangle + |1\\rangle}{\\sqrt{2}}\\right], & \\text{si } f(0) = f(1)\\\\\\mbox{}\\\\\n",
        "\\pm\\left[\\frac{|0\\rangle - |1\\rangle}{\\sqrt{2}}\\right] \\otimes  \\left[\\frac{|0\\rangle - |1\\rangle}{\\sqrt{2}}\\right], & \\text{si } f(0) \\neq f(1)\n",
        "\\end{cases}\n",
        "$$\n",
        "\n",
        "Al aplicar la última `H`:\n",
        "\n",
        "$$\n",
        "|\\psi_3\\rangle =\n",
        "\\begin{cases}\n",
        "\\pm\\frac{|0\\rangle - |1\\rangle}{\\sqrt{2}} \\otimes |0\\rangle, & \\text{si } f(0) = f(1)\\\\\\mbox{}\\\\\n",
        "\\pm\\frac{|0\\rangle - |1\\rangle}{\\sqrt{2}} \\otimes |1\\rangle, & \\text{si } f(0) \\neq f(1)\n",
        "\\end{cases}\n",
        "$$\n",
        "\n",
        "Midiendo el cúbit de arriba vamos a obtener, con total certeza, un $0$ si $f(0)=f(1)$ o un $1$ si $f(0)\\ne f(1)$, con una sola evaluacion de $f(x)$.\n"
      ]
    },
    {
      "cell_type": "markdown",
      "id": "46042999",
      "metadata": {
        "id": "46042999"
      },
      "source": [
        "### Ejercicio 3\n",
        "\n",
        "Implementa un circuito en Qiskit para probar el algoritmo de Deutsch con los oráculos definidos para las funciones $f_{0-3}$. Comprueba que es capaz de determinar si la función es constante o balanceada."
      ]
    },
    {
      "cell_type": "code",
      "execution_count": null,
      "id": "b5f816b2",
      "metadata": {
        "id": "b5f816b2"
      },
      "outputs": [],
      "source": [
        "# Empieza creando un circuito a partir de un oráculo con un bit de medida\n",
        "def deutsch_qc(oraculo):\n",
        "    x = QuantumRegister(1, name=\"|x\\\\rangle\")\n",
        "    y = QuantumRegister(1, name=\"|y\\\\rangle\")\n",
        "    meas = ClassicalRegister(1, name=\"Medida\")\n",
        "    qc = QuantumCircuit(x,y,meas)\n",
        "\n",
        "    # TODO: Añade las puertas iniciales\n",
        "\n",
        "\n",
        "    # TODO: Añade el oraculo\n",
        "    qc = qc.compose()\n",
        "\n",
        "    # TODO: Añade la última puerta H\n",
        "\n",
        "    # TODO: Añade la medida\n",
        "\n",
        "    # Devuelve el circuito\n",
        "    return qc"
      ]
    },
    {
      "cell_type": "code",
      "execution_count": null,
      "id": "91bb2e02",
      "metadata": {
        "id": "91bb2e02"
      },
      "outputs": [],
      "source": [
        "# Probamos con f0\n",
        "qc = deutsch_qc(f0_oraculo)\n",
        "qc.draw('mpl')"
      ]
    },
    {
      "cell_type": "code",
      "execution_count": null,
      "id": "b1786c90",
      "metadata": {
        "id": "b1786c90"
      },
      "outputs": [],
      "source": [
        "# Hacemos la simulacion\n",
        "sim = AerSimulator(method='automatic')\n",
        "qc_obj = transpile(qc, sim)\n",
        "result = sim.run(qc_obj, shots=1024).result()\n",
        "plot_histogram(result.get_counts())"
      ]
    },
    {
      "cell_type": "code",
      "execution_count": null,
      "id": "991acfb6",
      "metadata": {
        "id": "991acfb6"
      },
      "outputs": [],
      "source": [
        "# TODO: Probar con las otras 3 funciones\n",
        "sim = AerSimulator(method='automatic')\n",
        "for f in [f1_oraculo, f2_oraculo, f3_oraculo]:\n",
        "    qc = deutsch_qc(f)\n",
        "    # hacemos la simulacion\n",
        "    qc_obj = transpile(qc, sim)\n",
        "    result = sim.run(qc_obj, shots=1024).result()\n",
        "    display(plot_histogram(result.get_counts()))"
      ]
    },
    {
      "cell_type": "markdown",
      "id": "marine-mechanism",
      "metadata": {
        "id": "marine-mechanism"
      },
      "source": [
        "# Algoritmo de Deutsch-Jozsa <a id=\"dj\"></a>\n",
        "\n",
        "Es una generalización a $n$ bits del anterior. Dada una función (oráculo) $f(\\{x_{n-1},x_{n-2},\\ldots,x_1,x_{0}\\}) \\rightarrow \\{0,1\\}$, que es, o bien, _balanceada_, o bien, _constante_, determinar el tipo:\n",
        "\n",
        "- Función constante: la salida de $f(x)$ es, o bien, 0, o bien, 1 $\\forall x$\n",
        "- Función balanceada: devuelve 0 para la mitad de las entradas y 1 para la otra mitad\n",
        "\n",
        "**Solución clásica**\n",
        "\n",
        "Un algoritmo clásico necesita efectuar en el mejor caso $2$ y en el peor $2^{n-1}+1$ evaluaciones de $f(x)$, por lo que su complejidad es exponencial $\\mathcal{O}(2^n)$.\n",
        "\n",
        "**Solución cuántica**\n",
        "\n",
        "El algoritmo cuántico ([D. Deutsch and R. Jozsa, 1992](https://doi.org/10.1098%2Frspa.1992.0167)) solo necesita una evaluación del oráculo $f(x)$ (ganancia exponencial).\n",
        "\n",
        "El circuito usado es:\n",
        "\n",
        "<center><img src=\"https://drive.google.com/uc?export=view&id=1SRf5wmYaN4NmLgjT7MXm0v4XsUEIASQW\" alt=\"Deutsch-Jozsa\" width=\"800\"  /></center>\n",
        "\n",
        "Pasos:\n",
        "\n",
        "<ol>\n",
        "<li>\n",
        "Estado inicial:\n",
        "        \n",
        "\n",
        "$$\\vert \\psi_0 \\rangle = \\vert 1\\rangle \\vert0\\rangle^{\\otimes n} $$\n",
        "</li>\n",
        "    \n",
        "<li>\n",
        "Después de aplicar las primeras puertas H:\n",
        "$$\\vert \\psi_1 \\rangle = \\frac{1}{\\sqrt{2^{n+1}}}\\sum_{x=0}^{2^n-1} \\left(|0\\rangle - |1 \\rangle \\right)\\vert x\\rangle $$\n",
        "</li>\n",
        "<p>\n",
        "<li>\n",
        "Aplicamos $U_f$ a $\\vert y\\rangle \\vert x\\rangle$ para obtener $\\vert y \\oplus f(x)\\rangle\\vert x\\rangle$, recordando que $y\\oplus f(x) = \\tfrac{1}{\\sqrt{2}} (-1)^{f(x)}(|0\\rangle - |1\\rangle)$:\n",
        "\n",
        "$$\\vert\\psi_2\\rangle  = \\frac{1}{\\sqrt{2^{n+1}}}\\sum_{x=0}^{2^n-1}(-1)^{f(x)}(|0\\rangle - |1\\rangle)|x\\rangle=\\frac{(|0\\rangle - |1\\rangle)}{\\sqrt{2^{n+1}}}\\sum_{x=0}^{2^n-1}(-1)^{f(x)}|x\\rangle$$\n",
        "          </li>\n",
        "<p>\n",
        "<li>Ahora aplicamos una H a cada cúbit en  $|x\\rangle$ (recordemos que $H^{\\otimes n}|x\\rangle = \\tfrac{1}{\\sqrt{2^n}} \\sum_{i=0}^{2^n-1} (-1)^{x\\cdot i}|i\\rangle)$. Si ya no consideramos el cúbit de abajo, el estado es:<p>\n",
        "$$\n",
        "\\begin{aligned}\n",
        "    \\lvert \\psi_3 \\rangle\n",
        "        & = \\frac{1}{2^n}\\sum_{x=0}^{2^n-1}(-1)^{f(x)}\n",
        "            \\left[ \\sum_{i=0}^{2^n-1}(-1)^{x \\cdot i}\n",
        "            \\vert i \\rangle \\right] \\\\\n",
        "        & = \\frac{1}{2^n}\\sum_{i=0}^{2^n-1}\n",
        "            \\left[ \\sum_{x=0}^{2^n-1}(-1)^{f(x)}(-1)^{x \\cdot i} \\right]\n",
        "            \\vert i \\rangle\n",
        "\\end{aligned}\n",
        "$$\n",
        "       \n",
        "con $x \\cdot i = x_{n-1}i_{n-1}\\oplus x_{n-2}i_{n-2}\\oplus \\ldots \\oplus x_1i_1 \\oplus x_0i_0$.\n",
        "   </li>\n",
        "\n",
        "   <li>Se realiza la medida. La probabilidad de obtener todo 0 ($\\vert i \\rangle=  \\vert 0 \\rangle ^{\\otimes n}$) es:\n",
        "$$\n",
        "       \\left| \\frac{1}{2^n}\\sum_{x=0}^{2^n-1}(-1)^{f(x)} \\right|^2 =\n",
        "       \\begin{cases}\n",
        "       1, \\text{si } f \\text{ es constante}\\\\\n",
        "       0, \\text{si } f \\text{ es balanceada}\n",
        "       \\end{cases}\n",
        "$$\n",
        "   </li>\n",
        "<p>\n",
        "</ol>\n",
        "En conclusión, si a la salida obtenemos todo 0, $f$ es constante. Si obtenemos cualquier otro valor $f$ es balanceada.\n",
        "\n",
        "<p></p>\n",
        "\n",
        "<details>\n",
        "    <summary>Demostración de que $H^{\\otimes n}|x\\rangle = \\tfrac{1}{\\sqrt{2^n}} \\sum_{i=0}^{2^n-1} (-1)^{x\\cdot i}|i\\rangle$</summary>\n",
        "\n",
        "El uso de puertas `H` permite poner los n-cúbits en un estado de superposición.\n",
        "\n",
        "El estado de _superposición completa_ es:\n",
        "\n",
        "$$\n",
        "|+\\rangle^{\\otimes n} = H^{\\otimes n}|0\\rangle^{\\otimes n}\n",
        "$$\n",
        "\n",
        "$H^{\\otimes n}$ se conoce como puerta _Walsh-Hadamard_.\n",
        "\n",
        "Ejemplo para 4 cúbits:\n",
        "\n",
        "$$\n",
        "H^{\\otimes 4}|1010\\rangle = H|1\\rangle\\otimes H|0\\rangle\\otimes H|1\\rangle\\otimes H|0\\rangle = \\\\\n",
        "\\frac{1}{4}\\left[(|0\\rangle - |1\\rangle)\\otimes (|0\\rangle + |1\\rangle) \\otimes (|0\\rangle - |1\\rangle) \\otimes (|0\\rangle + |1\\rangle)\\right] = \\frac{1}{4}\\left[\\\\\n",
        "|0000\\rangle+|0001\\rangle-|0010\\rangle-|0011\\rangle+\\\\\n",
        "|0100\\rangle+|0101\\rangle-|0110\\rangle-|0111\\rangle-\\\\\n",
        "|1000\\rangle-|1001\\rangle+|1010\\rangle+|1011\\rangle-\\\\\n",
        "|1100\\rangle-|1101\\rangle+|1110\\rangle+|1111\\rangle\\phantom{-}\\right]\n",
        "$$\n",
        "\n",
        "En este ejemplo, el signo negativo aparece en los estados $|x_3x_2x_1x_0\\rangle$ para los que se verifica que:\n",
        "    \n",
        "$$\n",
        "(x_3x_2x_1x_0)\\cdot(1010) = x_3\\cdot 1\\oplus x_2\\cdot 0 \\oplus x_1\\cdot 1 \\oplus x_0\\cdot 0 = x_3\\cdot x_1 = 1\n",
        "$$\n",
        "\n",
        "que son los estados para los que $x_3 \\ne x_1$.\n",
        "    \n",
        "En general, para un estado $|x\\rangle = |x_{n-1}x_{n-2}\\ldots x_0\\rangle$ de n-cúbits, se puede escribir:\n",
        "\n",
        "$$\n",
        "H^{\\otimes n}|x\\rangle = \\frac{1}{\\sqrt{2^n}} \\sum_{i=0}^{2^n-1} (-1)^{x\\cdot i}|i\\rangle\n",
        "$$\n",
        "\n",
        "siendo $x\\cdot i = x_{n-1}i_{n-1}\\oplus x_{n-2}i_{n-2}\\oplus \\ldots \\oplus x_0i_0$\n",
        "\n",
        "</details>\n",
        "\n"
      ]
    },
    {
      "cell_type": "markdown",
      "id": "ae30b7ad",
      "metadata": {
        "id": "ae30b7ad"
      },
      "source": [
        "**Ejemplo**\n",
        "Supongamos $n=2$. Las probabilidades asociadas a cada salida son:\n",
        "\n",
        "$$\n",
        "p(0) = \\left|\\frac{1}{4} \\sum_{x=0}^{3}(-1)^{f(x)}(-1)^{x \\cdot 0} \\right|^2 = \\left|\\frac{1}{4} \\left[ (-1)^{f(0)}(-1)^{0} + (-1)^{f(1)}(-1)^{0} + (-1)^{f(2)}(-1)^{0} + (-1)^{f(3)}(-1)^{0}\\right]  \\right|^2\n",
        "$$\n",
        "$$\n",
        "p(1) = \\left|\\frac{1}{4} \\sum_{x=0}^{3}(-1)^{f(x)}(-1)^{x \\cdot 1} \\right|^2 = \\left|\\frac{1}{4} \\left[ (-1)^{f(0)}(-1)^{0} + (-1)^{f(1)}(-1)^{1} + (-1)^{f(2)}(-1)^{0} + (-1)^{f(3)}(-1)^{1}\\right]  \\right|^2\n",
        "$$\n",
        "$$\n",
        "p(2) = \\left|\\frac{1}{4} \\sum_{x=0}^{3}(-1)^{f(x)}(-1)^{x \\cdot 2} \\right|^2 = \\left|\\frac{1}{4} \\left[ (-1)^{f(0)}(-1)^{0} + (-1)^{f(1)}(-1)^{0} + (-1)^{f(2)}(-1)^{1} + (-1)^{f(3)}(-1)^{1}\\right]  \\right|^2\n",
        "$$\n",
        "$$\n",
        "p(3) = \\left|\\frac{1}{4} \\sum_{x=0}^{3}(-1)^{f(x)}(-1)^{x \\cdot 3} \\right|^2 = \\left|\\frac{1}{4} \\left[ (-1)^{f(0)}(-1)^{0} + (-1)^{f(1)}(-1)^{1} + (-1)^{f(2)}(-1)^{1} + (-1)^{f(3)}(-1)^{0}\\right]  \\right|^2\n",
        "$$\n",
        "\n",
        "Es fácil ver que si $f$ es constante, $p(0)=1$ y $p(1)=p(2)=p(3)=0$, ya que se anulan los términos. Por contra, si $f$ es balanceada $p(0)=0$."
      ]
    },
    {
      "cell_type": "markdown",
      "id": "3d5cd1d0",
      "metadata": {
        "id": "3d5cd1d0"
      },
      "source": [
        "### Ejercicio 4\n",
        "\n",
        "Determina qué valor se va a medir si $f(0) = f(1) = 0$ y $f(2) = f(3) = 1$."
      ]
    },
    {
      "cell_type": "markdown",
      "id": "26263e9e",
      "metadata": {
        "id": "26263e9e"
      },
      "source": [
        "-------------------------------\n",
        "-------------------------------\n",
        "-------------------------------"
      ]
    },
    {
      "cell_type": "markdown",
      "id": "wound-racing",
      "metadata": {
        "id": "wound-racing"
      },
      "source": [
        "# Algoritmo de Bernstein-Vazirani <a id=\"bv\"></a>\n",
        "\n",
        "Es una versión del anterior en la que el oráculo $f(\\{x_{n-1},x_{n-2},\\ldots,x_{0}\\}) \\rightarrow \\{0,1\\}$ es de la forma $f_s(x) = s\\cdot x = s_{n-1}x_{n-1} \\oplus s_{n-2}x_{n-2} \\oplus \\ldots \\oplus s_{0}x_{0}$, con $s_i\\in\\{0,1\\}$, donde $s$ es desconocido. El objetivo es encontrar el valor de $s$.\n",
        "\n",
        "**Solución clásica**\n",
        "\n",
        "Para obtener $s$, un algoritmo clásico tiene que hacer $n$ invocaciones de $f_s(x)$ con los valores $x=2^i$ con $i \\in \\{0,\\ldots,n-1\\}$.\n",
        "\n",
        "$$\n",
        "s_0 = f_s(000\\ldots 01)\\\\\n",
        "s_1 = f_s(000\\ldots 10)\\\\\n",
        "\\cdots\\\\\n",
        "s_{n-1} = f_s(100\\ldots 00)\n",
        "$$\n",
        "\n",
        "**Solución cuántica**\n",
        "\n",
        "El algoritmo cuántico ([E. Bernstein y U. Vazirani, 1997](https://doi.org/10.1137/S0097539796300921)) necesita 1 sola invocación del oráculo.\n",
        "\n",
        "El circuito es idéntico al de Deutsch-Jozsa, solo cambia la función oráculo.\n",
        "\n",
        "Al igual que antes tenemos:\n",
        "\n",
        "$$            \n",
        "\\lvert \\psi_3 \\rangle  = \\frac{1}{2^n}\\sum_{i=0}^{2^n-1}\n",
        "                    \\left[ \\sum_{x=0}^{2^n-1}(-1)^{f_s(x)}(-1)^{x \\cdot i} \\right]\n",
        "                    \\vert i \\rangle =\n",
        "                    \\frac{1}{2^n}\\sum_{i=0}^{2^n-1}\n",
        "                    \\left[ \\sum_{x=0}^{2^n-1}(-1)^{s\\cdot x}(-1)^{x \\cdot i} \\right]\n",
        "                    \\vert i \\rangle =\n",
        "                    \\sum_{i=0}^{2^n-1}\n",
        "                    \\left[ \\frac{1}{2^n}\\sum_{x=0}^{2^n-1}(-1)^{s\\cdot x}(-1)^{x \\cdot i} \\right]\n",
        "$$\n",
        "\n",
        "El sumatorio sobre $x$ se puede escribir:\n",
        "\n",
        "$$\n",
        "\\frac{1}{2^n} \\sum_{x=0}^{2^n-1}(-1)^{s\\cdot x}(-1)^{x \\cdot i} = \\frac{1}{2^n} \\sum_{x=0}^{2^n-1}(-1)^{(s\\cdot x) \\oplus (x \\cdot i)} = \\frac{1}{2^n} \\sum_{x=0}^{2^n-1}(-1)^{(s \\oplus i)\\cdot x}\n",
        "=\n",
        "       \\begin{cases}\n",
        "       1, \\text{si } s \\oplus i = 0\\\\\n",
        "       0, \\text{si } s \\oplus i = 1\n",
        "       \\end{cases}\n",
        "$$                    \n",
        "\n",
        "Y $s \\oplus i = 0 \\Rightarrow s = i$, es decir, que la amplitud no nula es, precisamente, $|s\\rangle$.\n",
        "\n",
        "**Ejemplo**: supongamos $n=2$. Aplicando el algoritmo tenemos en el paso 2:\n",
        "\n",
        "$$\n",
        "\\lvert \\psi_2 \\rangle  \n",
        "    = \\frac{|0\\rangle - |1\\rangle}{\\sqrt{2^{n+1}}}\\sum_{x=0}^{2^n-1}(-1)^{f(x)}|x\\rangle\n",
        "    = \\frac{|0\\rangle - |1\\rangle}{2\\sqrt{2}}\n",
        "                 \\left[\n",
        "                 (-1)^{s\\cdot 00}|00\\rangle +\n",
        "                 (-1)^{s\\cdot 01}|01\\rangle +\n",
        "                 (-1)^{s\\cdot 10}|10\\rangle +\n",
        "                 (-1)^{s\\cdot 11}|11\\rangle\\right]\n",
        "$$\n",
        "\n",
        "Si suponemos $s=11$, el estado será:\n",
        "\n",
        "$$\n",
        "\\lvert \\psi_2 \\rangle =   \\frac{|0\\rangle - |1\\rangle}{2\\sqrt{2}}\n",
        "                 \\left[\n",
        "                 (-1)^{11\\cdot 00}|00\\rangle +\n",
        "                 (-1)^{11\\cdot 01}|01\\rangle +\n",
        "                 (-1)^{11\\cdot 10}|10\\rangle +\n",
        "                 (-1)^{11\\cdot 11}|11\\rangle\\right] =\n",
        "                 \\frac{1}{2}(|00\\rangle - |01\\rangle - |10\\rangle + |11\\rangle)\n",
        "$$\n",
        "\n",
        "Y al aplicar las `H`:\n",
        "\n",
        "$$\n",
        "\\lvert \\psi_3 \\rangle =   \\frac{1}{4}\\left[\n",
        "(|0\\rangle+|1\\rangle)\\otimes(|0\\rangle+|1\\rangle) -\n",
        "(|0\\rangle+|1\\rangle)\\otimes(|0\\rangle-|1\\rangle) -\n",
        "(|0\\rangle-|1\\rangle)\\otimes(|0\\rangle+|1\\rangle) +\n",
        "(|0\\rangle-|1\\rangle)\\otimes(|0\\rangle-|1\\rangle)\n",
        "\\right] = \\\\\n",
        "= \\frac{1}{4}\\left[\n",
        "|00\\rangle + |01\\rangle + |10\\rangle + |11\\rangle - |00\\rangle + |01\\rangle - |10\\rangle + |11\\rangle  \n",
        "- |00\\rangle - |01\\rangle + |10\\rangle + |11\\rangle + |00\\rangle - |01\\rangle - |10\\rangle + |11\\rangle\n",
        "\\right] = \\\\\n",
        "= |11\\rangle = |s\\rangle\n",
        "$$"
      ]
    },
    {
      "cell_type": "markdown",
      "id": "a5b6f12c",
      "metadata": {
        "id": "a5b6f12c"
      },
      "source": [
        "### Ejercicio 5\n",
        "\n",
        "Implementa un oráculo para el algoritmo de Bernstein-Vazirani con $n$ bits y $s$ aleatoria."
      ]
    },
    {
      "cell_type": "code",
      "execution_count": null,
      "id": "external-construction",
      "metadata": {
        "id": "external-construction"
      },
      "outputs": [],
      "source": [
        "# Obtenemos s como una lista de valores binarios aleatoria\n",
        "def get_s(n):\n",
        "    s = list()\n",
        "    for q in range(n):\n",
        "        if np.random.randint(2) == 1:\n",
        "            s.append(1)\n",
        "        else:\n",
        "            s.append(0)\n",
        "    return(s)"
      ]
    },
    {
      "cell_type": "code",
      "execution_count": null,
      "id": "338d242c",
      "metadata": {
        "id": "338d242c"
      },
      "outputs": [],
      "source": [
        "def bv_oraculo(n):\n",
        "    \"\"\"\n",
        "    Devuelve un oraculo para el algoritmo de Bernstein-Vazirani\n",
        "\n",
        "        n: Número de cúbits de entrada\n",
        "        return: circuito de n+1 cúbit en forma de puerta\n",
        "    \"\"\"\n",
        "    x = QuantumRegister(n, name=\"|x\\\\rangle\")\n",
        "    y = QuantumRegister(1, name=\"|y\\\\rangle\")\n",
        "    qc = QuantumCircuit(x,y)\n",
        "    s = get_s(n)\n",
        "\n",
        "    # El oráculo puede implementarse con puertas CNOT controladas\n",
        "    # por los cúbits para los que el bit en s vale 1\n",
        "\n",
        "    sinv = s[::-1] # Invertimos s para recorrerlo del bit menos al más significativo\n",
        "\n",
        "    ...................................\n",
        "\n",
        "    # Salida\n",
        "    oraculo = qc.to_gate()\n",
        "    oraculo.name = \"$U_{f}$\"\n",
        "    return oraculo"
      ]
    },
    {
      "cell_type": "markdown",
      "id": "b34c149d",
      "metadata": {
        "id": "b34c149d"
      },
      "source": [
        "------------------------\n",
        "------------------------\n",
        "------------------------"
      ]
    },
    {
      "cell_type": "markdown",
      "id": "iraqi-decimal",
      "metadata": {
        "id": "iraqi-decimal"
      },
      "source": [
        "# Algoritmo de periodicidad de Simon <a id=\"simon\"></a>\n",
        "\n",
        "En este caso, el oráculo es una función $f_c:\\{0,1\\}^n \\rightarrow \\{0,1\\}^n$ que depende de un número binario desconocido $c=c_{n-1}c_{n-2}\\ldots c_0 \\ne 0$, con $c_i \\in \\{0,1\\}$, tal que, para todos los valores $x,y \\in \\{0,1\\}^n$ se tiene que:\n",
        "$$\n",
        "f_c(x) = f_c(y) \\Leftrightarrow y=x\\oplus c \\text{   (o que }x\\oplus y =c\\text{)}\n",
        "$$\n",
        "\n",
        "Es decir, los valores de $f_c$ se repiten con un cierto patrón dado por $c$, que se denomina período. Por ejemplo, supongamos $n=3$ y $c=5\\equiv 101$:\n",
        "\n",
        "$$\n",
        "\\hphantom{00} x\\hphantom{0 \\oplus 1} c \\hphantom{01 = 1} y\\hphantom{01 \\Rightarrow f_c(0) = f_c(5)}\\\\\n",
        "000 \\oplus 101 = 101 \\Rightarrow f_c(0) = f_c(5)\\\\\n",
        "001 \\oplus 101 = 100 \\Rightarrow f_c(1) = f_c(4)\\\\\n",
        "010 \\oplus 101 = 111 \\Rightarrow f_c(2) = f_c(7)\\\\\n",
        "011 \\oplus 101 = 110 \\Rightarrow f_c(3) = f_c(6)\\\\\n",
        "100 \\oplus 101 = 001 \\Rightarrow f_c(4) = f_c(1)\\\\\n",
        "101 \\oplus 101 = 000 \\Rightarrow f_c(5) = f_c(0)\\\\\n",
        "110 \\oplus 101 = 011 \\Rightarrow f_c(6) = f_c(3)\\\\\n",
        "111 \\oplus 101 = 010 \\Rightarrow f_c(7) = f_c(2)\n",
        "$$\n",
        "\n",
        "**Solución clásica**\n",
        "\n",
        "Un algoritmo clásico necesita evaluar la función hasta encontrar dos valores $x$ e $y$ tales que $f_c(x) = f_c(y)$. Dados esos valores, se tiene que $c=x\\oplus y$.\n",
        "\n",
        "En el peor de los casos tenemos que buscar en la mitad de los valores, efectuando $2^{n-1}+1$ evaluaciones de $f(x)$.\n",
        "\n",
        "**Solución cuántica**\n",
        "\n",
        "El algoritmo cuántico ([D. R. Simon, 1997](https://doi.org/10.1137/S0097539796298637)) solo necesita $n$ evaluaciones.\n",
        "\n",
        "El circuito que se utiliza es similar al que venimos usando pero con $n$ bits de ancilla:\n",
        "\n",
        "<center><img src=\"https://drive.google.com/uc?export=view&id=1x8fmuY7WjcTh9iIrjY3-Fhp95pT_IbRf\" alt=\"Simon\" width=\"800\"  /></center>\n",
        "\n",
        "\n",
        "\n",
        "Pasos:\n",
        "\n",
        "<ol>\n",
        "   <li>\n",
        "        Estado inicial:\n",
        "        \n",
        "\n",
        "$$\\vert \\psi_0 \\rangle = \\vert0\\rangle^{\\otimes n} \\vert 0\\rangle^{\\otimes n}$$\n",
        "\n",
        "\n",
        "   </li>\n",
        "    \n",
        "<li>Después de aplicar las primeras puertas H:\n",
        "$$\\vert \\psi_1 \\rangle = \\frac{1}{\\sqrt{2^n}}\\sum_{x=0}^{2^n-1}|0\\rangle \\vert x\\rangle$$\n",
        "</li>\n",
        "   <p>\n",
        "<li>Aplicamos $U_f$ a $\\vert y\\rangle\\vert x\\rangle$ para obtener $\\vert y \\oplus f(x)\\rangle\\vert x\\rangle$:\n",
        "$$\n",
        "\\lvert \\psi_2 \\rangle  \n",
        "= \\frac{1}{\\sqrt{2^n}}\\sum_{x=0}^{2^n-1}|0\\oplus f(x)\\rangle|x\\rangle =  \n",
        "\\frac{1}{\\sqrt{2^n}}\\sum_{x=0}^{2^n-1}|f(x)\\rangle|x\\rangle\n",
        "$$\n",
        "</li>\n",
        "<p>\n",
        "<li>Ahora aplicamos una H a cada cúbit en  $|x\\rangle$ (recordemos que $H^{\\otimes n}|x\\rangle = \\frac{1}{\\sqrt{2^n}} \\sum_{i=0}^{2^n-1} (-1)^{x\\cdot i}|i\\rangle)$<p>\n",
        "$$\n",
        "\\begin{aligned}\n",
        "    \\lvert \\psi_3 \\rangle\n",
        "          = \\frac{1}{2^n} \\sum_{x=0}^{2^n-1}|f(x)\\rangle \\sum_{i=0}^{2^n-1}(-1)^{x \\cdot i} \\vert i \\rangle\n",
        "          = \\frac{1}{2^n}\\sum_{x=0}^{2^n-1}\n",
        "            \\left[ \\sum_{i=0}^{2^n-1}(-1)^{x \\cdot i}\n",
        "            \\vert f(x) \\rangle \\vert i \\rangle \\right]\n",
        "\\end{aligned}\n",
        "$$\n",
        "</li><br>\n",
        "</ol>\n",
        "\n",
        "Sabemos que para cada $\\vert x \\rangle$ y para cada $\\vert i \\rangle$ se verifica que $\\vert f(x) \\rangle\\vert i \\rangle = \\vert f(x\\oplus c) \\rangle\\vert i \\rangle$. Para un par de este tipo, los sumandos son:\n",
        "\n",
        "$$\n",
        "\\frac{(-1)^{x \\cdot i} + (-1)^{(x\\oplus c) \\cdot i}}{2^n}\\vert f(x) \\rangle\\vert i \\rangle =\n",
        "\\frac{(-1)^{x \\cdot i} + (-1)^{(x\\cdot i)\\oplus (c\\cdot i)}}{2^n}\\vert f(x)\\rangle\\vert i\\rangle =\n",
        "\\frac{(-1)^{x \\cdot i}[1+(-1)^{c \\cdot i}]}{2^n}\\vert f(x)\\rangle\\vert i\\rangle\n",
        "$$\n",
        "\n",
        "Así, si $c \\cdot i = 1$ el termino correspondiente a $\\vert f(x)\\rangle\\vert i\\rangle$ se anula, y solo quedan los terminos para los que $c \\cdot i = 0$.\n",
        "\n",
        "Repitiendo varias veces la medida, podemos encontrar diferentes valores de $|i\\rangle$ y, a partir de esas ecuaciones, obtener $c$.\n",
        "\n",
        "**Ejemplo**\n",
        "\n",
        "Supongamos $f:\\{0,1\\}^3 \\rightarrow \\{0,1\\}^3$ tal que:\n",
        "$$\n",
        "f(0) = f(5) = 4\\\\\n",
        "f(1) = f(4) = 1\\\\\n",
        "f(2) = f(7) = 5\\\\\n",
        "f(3) = f(6) = 7\n",
        "$$\n",
        "\n",
        "Es fácil comprobar que $f$ cumple los requisitos para aplicar el algoritmo de Simon.\n",
        "\n",
        "Aplicando los pasos anteriores, en el paso 3 tenemos:\n",
        "\n",
        "   \n",
        "       \n",
        "$$\n",
        "\\lvert \\psi_3 \\rangle\n",
        "                 = \\frac{1}{8}\\sum_{x=0}^{7}\n",
        "                    \\sum_{i=0}^{7}(-1)^{x \\cdot i}\n",
        "                    \\vert f(x)\\rangle\\vert i\\rangle =\n",
        "                    \\frac{1}{8}[\\\\\n",
        "|f(0)\\rangle|0\\rangle +  |f(0)\\rangle|1\\rangle +  |f(0)\\rangle|2\\rangle +  |f(0)\\rangle|3\\rangle + \\\\\n",
        "|f(0)\\rangle|4\\rangle +  |f(0)\\rangle|5\\rangle +  |f(0)\\rangle|6\\rangle +  |f(0)\\rangle|7\\rangle +\\\\[5pt]\n",
        "|f(1)\\rangle|0\\rangle -  |f(1)\\rangle|1\\rangle +  |f(1)\\rangle|2\\rangle -  |f(1)\\rangle|3\\rangle + \\\\\n",
        "|f(1)\\rangle|4\\rangle -  |f(1)\\rangle|5\\rangle +  |f(1)\\rangle|6\\rangle -  |f(1)\\rangle|7\\rangle +\\\\[5pt]\n",
        "|f(2)\\rangle|0\\rangle +  |f(2)\\rangle|1\\rangle -  |f(2)\\rangle|2\\rangle -  |f(2)\\rangle|3\\rangle + \\\\\n",
        "|f(2)\\rangle|4\\rangle +  |f(2)\\rangle|5\\rangle -  |f(2)\\rangle|6\\rangle -  |f(2)\\rangle|7\\rangle +\\\\[5pt]\n",
        "|f(3)\\rangle|0\\rangle -  |f(3)\\rangle|1\\rangle -  |f(3)\\rangle|2\\rangle +  |f(3)\\rangle|3\\rangle + \\\\\n",
        "|f(3)\\rangle|4\\rangle -  |f(3)\\rangle|5\\rangle -  |f(3)\\rangle|6\\rangle +  |f(3)\\rangle|7\\rangle +\\\\[5pt]\n",
        "|f(4)\\rangle|0\\rangle +  |f(4)\\rangle|1\\rangle +  |f(4)\\rangle|2\\rangle +  |f(4)\\rangle|3\\rangle - \\\\\n",
        "|f(4)\\rangle|4\\rangle -  |f(4)\\rangle|5\\rangle -  |f(4)\\rangle|6\\rangle -  |f(4)\\rangle|7\\rangle +\\\\[5pt]\n",
        "|f(5)\\rangle|0\\rangle -  |f(5)\\rangle|1\\rangle +  |f(5)\\rangle|2\\rangle -  |f(5)\\rangle|3\\rangle - \\\\\n",
        "|f(5)\\rangle|4\\rangle +  |f(5)\\rangle|5\\rangle -  |f(5)\\rangle|6\\rangle +  |f(5)\\rangle|7\\rangle +\\\\[5pt]\n",
        "|f(6)\\rangle|0\\rangle +  |f(6)\\rangle|1\\rangle -  |f(6)\\rangle|2\\rangle -  |f(6)\\rangle|3\\rangle - \\\\\n",
        "|f(6)\\rangle|4\\rangle -  |f(6)\\rangle|5\\rangle +  |f(6)\\rangle|6\\rangle +  |f(6)\\rangle|7\\rangle +\\\\[5pt]\n",
        "|f(7)\\rangle|0\\rangle -  |f(7)\\rangle|1\\rangle -  |f(7)\\rangle|2\\rangle +  |f(7)\\rangle|3\\rangle - \\\\\n",
        "|f(7)\\rangle|4\\rangle +  |f(7)\\rangle|5\\rangle +  |f(7)\\rangle|6\\rangle -  |f(7)\\rangle|7\\rangle\\ ]\n",
        "$$\n",
        "\n",
        "Substituyendo los valores de $f$:\n",
        "\n",
        "$$\n",
        "\\lvert \\psi_3 \\rangle = \\frac{1}{8}[\\\\\n",
        "|4\\rangle|0\\rangle +  |4\\rangle|1\\rangle +  |4\\rangle|2\\rangle +  |4\\rangle|3\\rangle +  \n",
        "|4\\rangle|4\\rangle +  |4\\rangle|5\\rangle +  |4\\rangle|6\\rangle +  |4\\rangle|7\\rangle +\\\\[5pt]\n",
        "|1\\rangle|0\\rangle -  |1\\rangle|1\\rangle +  |1\\rangle|2\\rangle -  |1\\rangle|3\\rangle +  \n",
        "|1\\rangle|4\\rangle -  |1\\rangle|5\\rangle +  |1\\rangle|6\\rangle -  |1\\rangle|7\\rangle +\\\\[5pt]\n",
        "|5\\rangle|0\\rangle +  |5\\rangle|1\\rangle -  |5\\rangle|2\\rangle -  |5\\rangle|3\\rangle +  \n",
        "|5\\rangle|4\\rangle +  |5\\rangle|5\\rangle -  |5\\rangle|6\\rangle -  |5\\rangle|7\\rangle +\\\\[5pt]\n",
        "|7\\rangle|0\\rangle -  |7\\rangle|1\\rangle -  |7\\rangle|2\\rangle +  |7\\rangle|3\\rangle +  \n",
        "|7\\rangle|4\\rangle -  |7\\rangle|5\\rangle -  |7\\rangle|6\\rangle +  |7\\rangle|7\\rangle +\\\\[5pt]\n",
        "|1\\rangle|0\\rangle +  |1\\rangle|1\\rangle +  |1\\rangle|2\\rangle +  |1\\rangle|3\\rangle -  \n",
        "|1\\rangle|4\\rangle -  |1\\rangle|5\\rangle -  |1\\rangle|6\\rangle -  |1\\rangle|7\\rangle +\\\\[5pt]\n",
        "|4\\rangle|0\\rangle -  |4\\rangle|1\\rangle +  |4\\rangle|2\\rangle -  |4\\rangle|3\\rangle -  \n",
        "|4\\rangle|4\\rangle +  |4\\rangle|5\\rangle -  |4\\rangle|6\\rangle +  |4\\rangle|7\\rangle +\\\\[5pt]\n",
        "|7\\rangle|0\\rangle +  |7\\rangle|1\\rangle -  |7\\rangle|2\\rangle -  |7\\rangle|3\\rangle -  \n",
        "|7\\rangle|4\\rangle -  |7\\rangle|5\\rangle +  |7\\rangle|6\\rangle +  |7\\rangle|7\\rangle +\\\\[5pt]\n",
        "|5\\rangle|0\\rangle -  |5\\rangle|1\\rangle -  |5\\rangle|2\\rangle +  |5\\rangle|3\\rangle -  \n",
        "|5\\rangle|4\\rangle +  |5\\rangle|5\\rangle +  |5\\rangle|6\\rangle -  |5\\rangle|7\\rangle\\ ]\n",
        "$$\n",
        "\n",
        "Simplificando:\n",
        "$$\n",
        "\\lvert \\psi_3 \\rangle = \\frac{1}{4}\\left[\\\\\n",
        "|4\\rangle|0\\rangle+|1\\rangle|0\\rangle+|5\\rangle|0\\rangle+|7\\rangle|0\\rangle+\\\\\n",
        "|4\\rangle|2\\rangle+|1\\rangle|2\\rangle-|5\\rangle|2\\rangle-|7\\rangle|2\\rangle+\\\\\n",
        "|4\\rangle|5\\rangle-|1\\rangle|5\\rangle+|5\\rangle|5\\rangle-|7\\rangle|5\\rangle+\\\\\n",
        "|4\\rangle|7\\rangle-|1\\rangle|7\\rangle-|5\\rangle|7\\rangle+|7\\rangle|7\\rangle\\ \\right]\n",
        "$$\n",
        "\n",
        "Que podemos escribir como:\n",
        "$$\n",
        "\\lvert \\psi_3 \\rangle = \\frac{1}{4}\\left[\\\\\n",
        "(|4\\rangle+|1\\rangle+|5\\rangle+|7\\rangle) \\otimes|0\\rangle+\\\\\n",
        "(|4\\rangle+|1\\rangle-|5\\rangle-|7\\rangle)\\otimes|2\\rangle+\\\\\n",
        "(|4\\rangle-|1\\rangle+|5\\rangle-|7\\rangle)\\otimes|5\\rangle+\\\\\n",
        "(|4\\rangle-|1\\rangle-|5\\rangle+|7\\rangle)\\otimes|7\\rangle\\ \\right]\n",
        "$$\n",
        "\n",
        "Al medir los 3 bits $|x\\rangle$ obtenemos, con igual probabilidad, $|000\\rangle$, $|010\\rangle$, $|101\\rangle$ o $|111\\rangle$. Para esos valores, su producto bit a bit por $c$ (módulo 2) da 0, por lo que tenemos, si $c=c_2c_1c_0$, con $c_i\\in \\{0,1\\}$, las siguientes ecuaciones:\n",
        "\n",
        "i. $|000\\rangle\\cdot c = 0\\cdot c_2\\oplus 0\\cdot c_1 \\oplus 0\\cdot c_0 = 0$\n",
        "\n",
        "ii. $|010\\rangle\\cdot c = 0\\cdot c_2\\oplus 1\\cdot c_1 \\oplus 0\\cdot c_0 = 0$\n",
        "\n",
        "iii. $|101\\rangle\\cdot c = 1\\cdot c_2\\oplus 0\\cdot c_1 \\oplus 1\\cdot c_0 = 0$\n",
        "\n",
        "iv. $|111\\rangle\\cdot c = 1\\cdot c_2\\oplus 1\\cdot c_1 \\oplus 1\\cdot c_0 = 0$\n",
        "\n",
        " la ecuación (ii) indica que $c_1 = 0$, la (iii) que $c_2\\oplus c_0 =0$ y la (iv) que $c_2\\oplus c_1 \\oplus c_0 =0$. Las únicas opciones para $c$ son $000$ o $101$, y como $c\\neq 0$, tenemos que $c=5$."
      ]
    },
    {
      "cell_type": "markdown",
      "id": "439b4488",
      "metadata": {
        "id": "439b4488"
      },
      "source": [
        "### Ejercicio 6\n",
        "\n",
        "Usamos el algoritmo de Simon para $n=3$ y obtenemos a la salida los siguientes estados: $|000\\rangle$, $|001\\rangle$, $|110\\rangle$ y $|111\\rangle$. ¿Cuánto vale $c$?"
      ]
    },
    {
      "cell_type": "markdown",
      "id": "a66e691e",
      "metadata": {
        "id": "a66e691e"
      },
      "source": []
    },
    {
      "cell_type": "markdown",
      "id": "73cae579",
      "metadata": {
        "id": "73cae579"
      },
      "source": [
        "### Oráculo para el algoritmo de Simon\n",
        "\n",
        "Supongamos $n=3$ y $c=110$. Una posible función es la siguiente:\n",
        "\n",
        "$$\n",
        "f(000) = f(110) = 000\\\\\n",
        "f(001) = f(111) = 001\\\\\n",
        "f(010) = f(100) = 100\\\\\n",
        "f(011) = f(101) = 101\n",
        "$$\n",
        "\n",
        "Esta función se define como sigue. Sea $i$ la posición del bit a 1 menos significativo de $c$ (en el ejemplo, $i=1$). Definimos f como:\n",
        "\n",
        "$$\n",
        "f(x) =\n",
        "\\begin{cases}\n",
        "x \\text{, si } x_i = 0\\\\\n",
        "x\\oplus c \\text{, si } x_i = 1\n",
        "\\end{cases}\n",
        "$$\n",
        "\n",
        "Para implementar esa función podemos hacer lo siguiente:\n",
        "\n",
        "1. Copiamos el valor de $|x\\rangle$ en los cúbits de ancilla para tener $|x\\rangle|x\\rangle$.\n",
        "2. Sea $i$ la posición del bit a 1 menos significativo de $c$. Usamos puertas CNOT con:\n",
        "   - Cúbit de control: $x_i$\n",
        "   - Cúbits target: todas las ancillas con $j\\ge i$ para las $j$ que verifiquen que $c_j = 1$.\n",
        "3. Adicionalmente, se pueden permutar e invertir las ancillas para introducir variabilidad."
      ]
    },
    {
      "cell_type": "code",
      "execution_count": null,
      "id": "e6a34ffc",
      "metadata": {
        "id": "e6a34ffc"
      },
      "outputs": [],
      "source": [
        "# Ejemplo de oráculo para n=3 y c=110\n",
        "# init es el valor inicial del registro x\n",
        "def simon_oraculo_simple(init):\n",
        "    x = QuantumRegister(3, name=\"|x\\\\rangle\")\n",
        "    ancilla = QuantumRegister(3, name=\"|ancilla\\\\rangle\")\n",
        "    meas = ClassicalRegister(3, name=\"Medida\")\n",
        "    qc = QuantumCircuit(x, ancilla, meas)\n",
        "    qc.initialize(init)\n",
        "\n",
        "    # Hacemos la copia de la x a las ancillas\n",
        "    qc.cx(x,ancilla)\n",
        "\n",
        "    qc.barrier()\n",
        "\n",
        "    qc.cx(x[1],ancilla[1])\n",
        "    qc.cx(x[1],ancilla[2])\n",
        "\n",
        "    qc.barrier()\n",
        "\n",
        "    qc.measure(ancilla, meas)\n",
        "    return(qc)"
      ]
    },
    {
      "cell_type": "code",
      "execution_count": null,
      "id": "3f75c4dd",
      "metadata": {
        "id": "3f75c4dd",
        "colab": {
          "base_uri": "https://localhost:8080/",
          "height": 533
        },
        "outputId": "959200d1-c57d-4f65-bd30-251daef05252"
      },
      "outputs": [
        {
          "output_type": "execute_result",
          "data": {
            "text/plain": [
              "<Figure size 1141.55x618.722 with 1 Axes>"
            ],
            "image/png": "[encoded data removed]"
          },
          "metadata": {},
          "execution_count": 37
        }
      ],
      "source": [
        "qc = simon_oraculo_simple(0)\n",
        "qc.draw('mpl')"
      ]
    },
    {
      "cell_type": "code",
      "source": [
        "# Probamos para diferentes valores\n",
        "sim = AerSimulator(method='automatic')\n",
        "for x in range(8):\n",
        "    qc = simon_oraculo_simple(x)\n",
        "\n",
        "    # Ejecutamos una simulación y obtenemos los resultados\n",
        "    qc_obj = transpile(qc, sim)\n",
        "    salida = sim.run(qc_obj, shots=1).result().get_counts()\n",
        "\n",
        "    print('f({0:03b}) = {1}'.format(x,list(salida.keys())[0]))"
      ],
      "metadata": {
        "colab": {
          "base_uri": "https://localhost:8080/"
        },
        "id": "jsX3zt0FvUKU",
        "outputId": "07c774d7-1ea2-44ea-85ac-a9cd39540771"
      },
      "id": "jsX3zt0FvUKU",
      "execution_count": null,
      "outputs": [
        {
          "output_type": "stream",
          "name": "stdout",
          "text": [
            "f(000) = 000\n",
            "f(001) = 001\n",
            "f(010) = 100\n",
            "f(011) = 101\n",
            "f(100) = 100\n",
            "f(101) = 101\n",
            "f(110) = 000\n",
            "f(111) = 001\n"
          ]
        }
      ]
    },
    {
      "cell_type": "markdown",
      "id": "99e5da51",
      "metadata": {
        "id": "99e5da51"
      },
      "source": [
        "### Ejercicio 7\n",
        "\n",
        "Programa en Qiskit un oráculo para el algoritmo de Simon que implemente la función:$f:\\{0,1\\}^3 \\rightarrow \\{0,1\\}^3$ tal que:\n",
        "\n",
        "$$\n",
        "f(0) = f(5) = 4\\\\\n",
        "f(1) = f(4) = 5\\\\\n",
        "f(2) = f(7) = 6\\\\\n",
        "f(3) = f(6) = 7\n",
        "$$"
      ]
    },
    {
      "cell_type": "code",
      "execution_count": null,
      "id": "a93e00c4",
      "metadata": {
        "id": "a93e00c4"
      },
      "outputs": [],
      "source": []
    },
    {
      "cell_type": "markdown",
      "id": "b263cc7d",
      "metadata": {
        "id": "b263cc7d"
      },
      "source": [
        "-------------------------------\n",
        "--------------------------------\n",
        "---------------------------------"
      ]
    },
    {
      "cell_type": "markdown",
      "id": "monetary-aerospace",
      "metadata": {
        "id": "monetary-aerospace"
      },
      "source": [
        "# Algoritmo de búsqueda de Grover: amplificación de amplitud <a id=\"grover\"></a>"
      ]
    },
    {
      "cell_type": "markdown",
      "id": "outstanding-paper",
      "metadata": {
        "id": "outstanding-paper"
      },
      "source": [
        "Este algoritmo busca un dato en una lista no estructurada.\n",
        "\n",
        "El oráculo $f:\\{0,1\\}^n \\rightarrow \\{0,1\\}$ es tal que existe un único $x_i$ tal que:\n",
        "$$\n",
        "f(x) =\n",
        "\\begin{cases}\n",
        "1, \\text{si } x=x_i\\\\\n",
        "0, \\text{si } x\\ne x_i\n",
        "\\end{cases}\n",
        "$$\n",
        "\n",
        "Buscamos $x_i$.\n",
        "\n",
        "**Nota**: Es posible generalizar el algoritmo para cuando existe más de un dato $x_i$\n",
        "\n",
        "**Solución clásica**\n",
        "\n",
        "Si $N=2^n$ es el número de datos en la lista, un algoritmo clásico necesita efectuar, en el peor de los casos $N$ evaluaciones de $f(x)$, y de media $N/2$, por lo que la complejidad es $\\mathcal{O}(2^n)$\n",
        "\n",
        "**Solución cuántica**\n",
        "\n",
        "El algoritmo cuántico ([L. K. Grover, 1996](http://doi.acm.org/10.1145/237814.237866)) solo necesita $\\mathcal{O}\\left(\\sqrt{2^n}\\right)$ evaluaciones.\n",
        "\n",
        "El algoritmo tiene dos partes:\n",
        "\n",
        "### Inversión de fase\n",
        "\n",
        "Mediante el siguiente circuito invertimos la fase de $|x_i\\rangle$:\n",
        "\n",
        "\n",
        "<center><img src=\"https://drive.google.com/uc?export=view&id=1GQrOSYGXzA06IfD4LKAqwwe0V-B8NNFC\" alt=\"Grover inversion de fase\" width=\"800\"  /></center>\n",
        "\n",
        "\n",
        "Pasos:\n",
        "\n",
        "<ol>\n",
        "   <li>\n",
        "        Estado inicial:\n",
        "        \n",
        "\n",
        "$$\\vert \\psi_0 \\rangle =  \\vert1\\rangle\\vert0\\rangle^{\\otimes n}$$\n",
        "\n",
        "\n",
        "   </li>\n",
        "    \n",
        "   <li>\n",
        "        Después de aplicar las primeras puertas H:\n",
        "$$\\vert \\psi_1 \\rangle = \\frac{1}{\\sqrt{2^{n+1}}}\\sum_{x=0}^{2^n-1} (|0\\rangle-|1\\rangle)\\vert x\\rangle $$\n",
        "   </li>\n",
        "   <p>\n",
        "   <li>\n",
        "        Aplicamos $U_f$ a $\\vert y\\rangle\\vert x\\rangle$ para obtener $\\vert y \\oplus f(x)\\rangle\\vert x\\rangle$:\n",
        "        $$\n",
        "            \\lvert \\psi_2 \\rangle  \n",
        "                 = \\frac{1}{\\sqrt{2^{n+1}}}\\sum_{x=0}^{2^n-1}(|0\\oplus f(x)\\rangle - |1\\oplus f(x)\\rangle)|x\\rangle\n",
        "        $$\n",
        "          </li>\n",
        "<p>\n",
        "   <li>Como $f(x) = 1$ si $x = x_i$ y $f(x)=0$ en otro caso podemos escribir:\n",
        "$$\n",
        "\\begin{aligned}\n",
        "\\lvert \\psi_2 \\rangle  \n",
        "&= \\frac{1}{\\sqrt{2^{n+1}}}\\left[\\left(|0\\oplus f(x_i)\\rangle - |1\\oplus f(x_i)\\rangle\\right)|x_i\\rangle + \\sum_{x\\ne x_i}\\left(|0\\oplus f(x)\\rangle - |1\\oplus f(x)\\rangle\\right)|x\\rangle\\right] \\\\\n",
        "&= \\frac{1}{\\sqrt{2^{n+1}}}\\left[(|1\\rangle - |0\\rangle)|x_i\\rangle + \\sum_{x\\ne x_i}\\left(|0\\rangle - |1\\rangle\\right)|x\\rangle\\right] \\\\\n",
        "&= \\frac{1}{\\sqrt{2^{n+1}}}\\left[\\left(\\sum_{x\\ne x_i}\\left(|0\\rangle - |1\\rangle\\right)|x\\rangle\\right) - (|0\\rangle - |1\\rangle)|x_i\\rangle\\right] \\\\\n",
        "&= \\frac{|0\\rangle - |1\\rangle}{\\sqrt{2}}\\frac{\\sum_{x\\ne x_i}|x\\rangle- |x_i\\rangle}{\\sqrt{2^{n}}}\n",
        "\\end{aligned}\n",
        "$$  \n",
        "          </li><br>\n",
        "</ol>\n",
        "\n",
        "El estado que medimos es, por lo tanto:\n",
        "\n",
        "$$\n",
        "\\frac{\\sum_{x\\ne x_i}|x\\rangle- |x_i\\rangle}{\\sqrt{2^{n}}}\n",
        "$$\n",
        "\n",
        "Vemos que el estado $|x_i\\rangle$ aparece con signo negativo.\n",
        "\n",
        "Implementar esta inversión de fase es simple.  Con 2 cúbits queremos invertir el estado $s = |10\\rangle$:\n",
        "\n",
        "1. Partimos de un estado en superposición\n",
        "$$\n",
        "\\frac{|00\\rangle + |01\\rangle + |10\\rangle + |11\\rangle}{2}\n",
        "$$\n",
        "2. Invertimos los cúbits para los cuales hay un 0 en $s$ y obtenemos:\n",
        "$$\n",
        "\\frac{|01\\rangle + |00\\rangle + |11\\rangle + |10\\rangle}{2}\n",
        "$$\n",
        "3. Aplicamos una puerta CZ entre los cúbits, que cambia el signo al estado $|11\\rangle$\n",
        "$$\n",
        "\\frac{|01\\rangle + |00\\rangle - |11\\rangle + |10\\rangle}{2}\n",
        "$$\n",
        "4. Volvemos a invertir los cúbits para los cuales hay un 0 en $s$:\n",
        "$$\n",
        "\\frac{|00\\rangle + |01\\rangle - |10\\rangle + |11\\rangle}{2}\n",
        "$$"
      ]
    },
    {
      "cell_type": "markdown",
      "id": "rough-queen",
      "metadata": {
        "id": "rough-queen"
      },
      "source": [
        "El problema es que, al medir, obtenemos con igual probabilidad cualquier valor de $|x\\rangle$ ya que lo único que diferencia a $|x_i\\rangle$ es la fase. Necesitamos convertir diferencias de fase en diferencias de amplitud."
      ]
    },
    {
      "cell_type": "markdown",
      "id": "5221a390",
      "metadata": {
        "id": "5221a390"
      },
      "source": [
        "### Ejercicio 8\n",
        "\n",
        "Programa en Qiskit un circuito de 3 cúbits que implemente la inversión de fase para un estado determinado, usando una puerta CCZ. Obten el vector de estado para ver el cambio de fase. Obtén también el histograma de las salidas para ver que no se distingue el estado marcado.\n",
        "\n",
        "¿Es posible hacerlo para $n$ cúbits? Busca como implementar en Qiskit una puerta controlada por múltiples cúbits."
      ]
    },
    {
      "cell_type": "code",
      "execution_count": null,
      "id": "buried-bruce",
      "metadata": {
        "id": "buried-bruce"
      },
      "outputs": [],
      "source": []
    },
    {
      "cell_type": "markdown",
      "id": "waiting-onion",
      "metadata": {
        "id": "waiting-onion"
      },
      "source": [
        "## Amplificación de amplitud"
      ]
    },
    {
      "cell_type": "markdown",
      "id": "static-rider",
      "metadata": {
        "id": "static-rider"
      },
      "source": [
        "La AA se basa en aumentar la amplitud de los estados que tengan una fase negativa. La idea básica es la *inversión sobre la media*.\n",
        "\n",
        "Supongamos el vector (decimal) $v=[10,10,10,-10,10]^T$. La media de esos valores es $\\overline{v}=6$. Y la diferencia, en valor absoluto, entre $v[3]$ y el resto de valores es $0$.\n",
        "\n",
        "Invertir sobre la media consiste en repetir esta operación:\n",
        "\n",
        "$$\n",
        "v^\\prime = \\overline{v} + (\\overline{v}-v) = 2\\overline{v} -v,\\quad i = 0,1,2\\ldots\n",
        "$$\n",
        "\n",
        "cambiando en cada iteración el signo del elemento negativo de $v$.\n",
        "\n",
        "Aplicando esta operación al vector anterior obtenemos:\n",
        "\n",
        "$$\n",
        "v^\\prime=2\\times6 - v = [12,12,12,12,12]^T - [10,10,10,-10,10]^T = [2,2,2,22,2]^T\n",
        "$$\n",
        "\n",
        "La media sigue siendo la misma pero el tercer valor, antes negativo, se separa del resto. La diferencia ahora es $20$.\n",
        "\n",
        "Podemos repetir el procedimiento, negando $v[3]$ para obtener $v=[2,2,2,-22,2]^T$ de media $\\overline{v}=-2.8$. Volviendo a calcular $v^\\prime$, obtenemos:\n",
        "\n",
        "$$\n",
        "v^\\prime=2\\times-2.8 - v = [-5.6,-5.6,-5.6,-5.6,-5.6]^T - [2,2,2,-22,2]^T = [-7.6,-7.6,-7.6,16.4,-7.6]^T\n",
        "$$\n",
        "\n",
        "La diferencia, en valor absoluto, entre $v[3]$ y el resto de valores se reduce a $8.8$.\n",
        "\n",
        "En general, si $N$ es grande, a medida que aplicamos la inversión sobre la media esta diferencia se agranda, pero llega un punto en que empieza a disminuir.\n",
        "\n",
        "Se puede demostrar que para un vector de $N$ elementos (con $N$ grande), el número de inversiones que obtienen la máxima separación es $\\mathcal{O}(\\sqrt{N})$.\n",
        "\n",
        "Podemos expresar este mecanismo usando matrices. Sea, de nuevo, $v=[10,10,10,-10,10]^T$ y la matriz:\n",
        "\n",
        "$$\n",
        "A=\\frac{1}{5}\n",
        "\\begin{bmatrix}\n",
        "1 & 1 & 1 & 1 & 1\\\\\n",
        "1 & 1 & 1 & 1 & 1\\\\\n",
        "1 & 1 & 1 & 1 & 1\\\\\n",
        "1 & 1 & 1 & 1 & 1\\\\\n",
        "1 & 1 & 1 & 1 & 1\n",
        "\\end{bmatrix}\n",
        "$$\n",
        "\n",
        "Está claro que $Av = [6,6,6,6,6]^T = [\\overline{v}, \\overline{v}, \\overline{v}, \\overline{v}, \\overline{v}]^T$. La operación de inversión la podemos expresar como una operación matricial:\n",
        "\n",
        "$$v^\\prime=2Av-v=(2A-I)v$$\n",
        "\n",
        "Para un vector de $2^n$ elementos, la matriz $2A-1$ será de $2^n\\times 2^n$:\n",
        "$$\n",
        "2A-I=\\frac{2}{2^n}\n",
        "  \\begin{bmatrix}\n",
        "    1 & 1 & \\dots & 1 \\\\\n",
        "    1 & 1 & \\dots & 1 \\\\\n",
        "    \\vdots & \\vdots & \\ddots & \\vdots \\\\\n",
        "    1 & 1 & \\dots & 1\n",
        "  \\end{bmatrix}-\n",
        "  \\begin{bmatrix}\n",
        "    1 & 0 & \\dots & 0 \\\\\n",
        "    0 & 1 & \\dots & 0 \\\\\n",
        "    \\vdots & \\vdots & \\ddots & \\vdots \\\\\n",
        "    0 & 0 & \\dots & 1\n",
        "  \\end{bmatrix} =\\frac{1}{2^{n-1}}\n",
        "  \\begin{bmatrix}\n",
        "    1-2^{n-1} & 1 & \\dots & 1 \\\\\n",
        "    1 & 1-2^{n-1} & \\dots & 1 \\\\\n",
        "    \\vdots & \\vdots & \\ddots & \\vdots \\\\\n",
        "    1 & 1 & \\dots & 1-2^{n-1}\n",
        "  \\end{bmatrix}\n",
        "$$\n",
        "\n",
        "Se puede demostrar que $U = 2A-I$ es una matriz unitaria, por lo que se puede contruir en un circuito cuántico.\n",
        "\n",
        "\n",
        "Para el caso de 2 cúbits, la matriz $2A-I$ queda:\n",
        "$$\n",
        "2A-I=\\frac{1}{2}\n",
        "  \\begin{bmatrix}\n",
        "    -1 & 1 & 1 & 1 \\\\\n",
        "    1 & -1 & 1 & 1 \\\\\n",
        "    1 & 1 & -1 & 1 \\\\\n",
        "    1 & 1 & 1 & -1\n",
        "  \\end{bmatrix}\n",
        "$$\n",
        "\n",
        "Esta matriz se llama operador de difusión o _difusor_ $R_s$.\n",
        "\n",
        "Es fácil verificar que si $|s\\rangle = |+\\rangle^{\\otimes n}$ es el estado de superposición completa, entonces $A = |s\\rangle\\langle s|$, por lo que:\n",
        "\n",
        "$$\n",
        "R_s = 2A-I = 2|s\\rangle\\langle s| -I\n",
        "$$\n",
        "\n",
        "#### Implementación de $R_s$\n",
        "\n",
        "Dado que $|s\\rangle = |+\\rangle^{\\otimes n}= H^{\\otimes n}|0\\rangle^{\\otimes n}$ se tiene :\n",
        "\n",
        "$$\n",
        "R_s = 2\\left(H^{\\otimes n}|0\\rangle^{\\otimes n}\\langle 0|^{\\otimes n}H^{\\dagger\\otimes n}\\right)-I = 2\\left(H^{\\otimes n}|0\\rangle^{\\otimes n}\\langle 0|^{\\otimes n}H^{\\otimes n}\\right)-I\n",
        "$$\n",
        "\n",
        "ya que $H^\\dagger = H$.\n",
        "\n",
        "Además, podemos escribir $I = H^{\\otimes n}H^{\\otimes n}$. Por lo tanto:\n",
        "\n",
        "$$\n",
        "R_s = 2\\left(H^{\\otimes n}|0\\rangle^{\\otimes n}\\langle 0|^{\\otimes n}H^{\\otimes n}\\right)- H^{\\otimes n}H^{\\otimes n} = H^{\\otimes n}\\left(2|0\\rangle^{\\otimes n}\\langle 0|^{\\otimes n}-I\\right)H^{\\otimes n} = H^{\\otimes n}R_0H^{\\otimes n}\n",
        "$$\n",
        "\n",
        "siendo:\n",
        "\n",
        "$$\n",
        "R_0 = 2|0\\rangle^{\\otimes n}\\langle 0|^{\\otimes n}-I\n",
        "$$\n",
        "\n",
        "Es decir, podemos implementar $R_s$ como $R_0$ rodeado de puertas H:\n",
        "\n",
        "<img src=\"https://github.com/tarabelo/PIAC-apuntes/blob/main/images/difusor0.svg?raw=1\" alt=\"Difusor Rs\" style=\"width: 200px;\"/>\n",
        "\n",
        "#### Implementación de $R_0$\n",
        "\n",
        "Es posible comprobar que $R_0$ aplicado a cualquier estado cambia el signo de $|i\\rangle$ para todo $i\\ne 0$.\n",
        "\n",
        "Ejemplo:\n",
        "\n",
        "$$\n",
        "R_0|++\\rangle = \\frac{1}{2}\\left(2|00\\rangle\\langle 00|-I\\right)\\left(|00\\rangle+|01\\rangle+|10\\rangle+|11\\rangle\\right) = \\\\\n",
        "\\frac{1}{2}\\left(2|00\\rangle\\langle 00|00\\rangle + 2|00\\rangle\\langle 00|01\\rangle + 2|00\\rangle\\langle 00|10\\rangle + 2|00\\rangle\\langle 00|11\\rangle - |00\\rangle-|01\\rangle-|10\\rangle-|11\\rangle\\right) = \\frac{1}{2}\\left(|00\\rangle-|01\\rangle-|10\\rangle-|11\\rangle\\right)\n",
        "$$\n",
        "\n",
        "Para implementar esta operación, podemos empezar usando una puerta Z controlada:\n",
        "\n",
        "<img src=\"https://github.com/tarabelo/PIAC-apuntes/blob/main/images/difusor1.svg?raw=1\" alt=\"Difusor R0\" style=\"width: 100px;\"/>\n",
        "\n",
        "Si se aplica al estado $|+\\rangle^{\\otimes n}$ cambia el signo del estado $|1\\rangle^{\\otimes n}$:\n",
        "\n",
        "$$\n",
        "\\frac{1}{2}\\left(|00\\rangle+|01\\rangle+|10\\rangle-|11\\rangle\\right)\n",
        "$$\n",
        "\n",
        "Si añadimos puertas X a todos los cúbits, cambiamos el signo del estado $|0\\rangle^{\\otimes n}$\n",
        "\n",
        "<img src=\"https://github.com/tarabelo/PIAC-apuntes/blob/main/images/difusor2.svg?raw=1\" alt=\"Difusor R0\" style=\"width: 200px;\"/>\n",
        "\n",
        "$$\n",
        "\\frac{1}{2}\\left(-|00\\rangle+|01\\rangle+|10\\rangle+|11\\rangle\\right)\n",
        "$$\n",
        "\n",
        "Para obtener el resultado que buscamos, podemos usar que las puertas ZXZX aplicadas a un cúbit le cambián el signo:\n",
        "\n",
        "$$\n",
        "ZXZX|\\phi\\rangle = -|\\phi\\rangle\n",
        "$$\n",
        "\n",
        "Si se aplican estas puertas al cúbit más significativo, obtebdremos el resultado:\n",
        "\n",
        "\n",
        "<img src=\"https://github.com/tarabelo/PIAC-apuntes/blob/main/images/difusor3.svg?raw=1\" alt=\"Difusor R0\" style=\"width: 400px;\"/>\n",
        "\n",
        "$$\n",
        "\\frac{1}{2}\\left(|00\\rangle-|01\\rangle-|10\\rangle-|11\\rangle\\right)\n",
        "$$\n",
        "\n",
        "Se pueden simplificar las dos X consecutivas, por lo que la implementación de $R_0$ queda:\n",
        "\n",
        "<img src=\"https://github.com/tarabelo/PIAC-apuntes/blob/main/images/difusor4.svg?raw=1\" alt=\"Difusor R0\" style=\"width: 400px;\"/>\n",
        "\n"
      ]
    },
    {
      "cell_type": "markdown",
      "id": "ed460c50",
      "metadata": {
        "id": "ed460c50"
      },
      "source": [
        "### Ejercicio 9\n",
        "\n",
        "Programa en Qiskit una función que devuelva una puerta $R_s$ para un número arbitrario de cúbits.\n",
        "\n",
        "Obtén la matriz unitaria asociada y comprueba que coincide con lo esperado."
      ]
    },
    {
      "cell_type": "code",
      "execution_count": null,
      "id": "0e19dd5a",
      "metadata": {
        "id": "0e19dd5a"
      },
      "outputs": [],
      "source": []
    },
    {
      "cell_type": "markdown",
      "id": "checked-lighting",
      "metadata": {
        "id": "checked-lighting"
      },
      "source": [
        "Juntando la inversión de fase con la amplificación de amplitud, el circuito que implementa el algoritmo de Grover queda:\n",
        "\n",
        "<img src=\"https://github.com/tarabelo/PIAC-apuntes/blob/main/images/Grover2.svg?raw=1\" alt=\"Grover completo\" style=\"width: 800px;\"/>"
      ]
    },
    {
      "cell_type": "markdown",
      "id": "18e8ebd3",
      "metadata": {
        "id": "18e8ebd3"
      },
      "source": [
        "## Interpretación geométrica del algoritmo de Grover\n",
        "\n",
        "Sea $|s\\rangle$ el estado inicial del algoritmo de Grover (superposición completa) y sea $w$ el valor para el que $f(w)=1$. Podemos escribir el estado inicial como:\n",
        "\n",
        "$$\n",
        "|s\\rangle = \\frac{1}{\\sqrt{2^{n}}}{\\sum_{x=0}^{2^n-1}|x\\rangle} = \\frac{\\sum_{x\\ne w}|x\\rangle + |w\\rangle}{\\sqrt{2^{n}}} = \\sqrt{\\frac{2^n-1}{2^n}}\\frac{1}{\\sqrt{2^n-1}}\\sum_{x\\ne w}|x\\rangle + \\frac{1}{\\sqrt{2^n}}|w\\rangle\n",
        "$$\n",
        "\n",
        "Si denotamos:\n",
        "$$\n",
        "\\begin{aligned}\n",
        "|r\\rangle &= \\frac{1}{\\sqrt{2^n-1}}\\sum_{x\\ne x_i}|x\\rangle\\\\\n",
        "N &= 2^n\n",
        "\\end{aligned}\n",
        "$$\n",
        "\n",
        "podemos escribir este estado como:\n",
        "\n",
        "$$\n",
        "|s\\rangle = \\frac{1}{\\sqrt{N}}|w\\rangle + \\sqrt{\\frac{N-1}{N}}|r\\rangle\n",
        "$$\n",
        "\n",
        "Y como\n",
        "\n",
        "$$\n",
        "\\left(\\frac{1}{\\sqrt{N}}\\right)^2 + \\left(\\sqrt{\\frac{N-1}{N}}\\right)^2 = 1\n",
        "$$\n",
        "\n",
        "existe $\\theta$ tal que podemos escribir el estado como:\n",
        "\n",
        "$$\n",
        "|s\\rangle =\\sin\\theta|w\\rangle + \\cos\\theta|r\\rangle\n",
        "$$\n",
        "\n",
        "Podemos representar este estado así:\n",
        "\n",
        "<img src=\"https://github.com/tarabelo/PIAC-apuntes/blob/main/images/GeoGrover1.png?raw=1\" alt=\"Geo Grover 1\" style=\"width: 200px;\"/>\n",
        "\n",
        "Si a este estado le aplicamos la inversión de fase, $U_f$, se le cambia el signo a $|w\\rangle$:\n",
        "\n",
        "$$\n",
        "U_f|s\\rangle = -\\sin\\theta|w\\rangle + \\cos\\theta|r\\rangle\n",
        "$$\n",
        "\n",
        "que equivale a una reflexión con respecto al eje $|r\\rangle$:\n",
        "\n",
        "<img src=\"https://github.com/tarabelo/PIAC-apuntes/blob/main/images/GeoGrover2.png?raw=1\" alt=\"Geo Grover 2\" style=\"width: 200px;\"/>\n",
        "\n",
        "Ahora aplicamos la amplificación de amplitud. El difusor $R_s = 2|s\\rangle\\langle s| -I$ mantiene el estado $|s\\rangle$ pero invierte cualquier estado ortogonal a $|s\\rangle$:\n",
        "\n",
        "$$\n",
        "\\begin{aligned}\n",
        "R_s|s\\rangle &= 2|s\\rangle\\langle s|s\\rangle - |s\\rangle = 2|s\\rangle - |s\\rangle = |s\\rangle\\\\\n",
        "R_s|s^\\perp\\rangle &= 2|s\\rangle\\langle s|s^\\perp\\rangle - |s^\\perp\\rangle = -|s^\\perp\\rangle\\\\\n",
        "\\end{aligned}\n",
        "$$\n",
        "\n",
        "ya que $\\langle s|s\\rangle=1$ y $\\langle s|s^\\perp\\rangle=0$. Es decir, $R_s$ produce una reflexión sobre $|s\\rangle$.\n",
        "\n",
        "Si aplicamos $R_s$ al estado $U_f|s\\rangle$ tendremos el estado reflejado sobre $|s\\rangle$:\n",
        "\n",
        "<img src=\"https://github.com/tarabelo/PIAC-apuntes/blob/main/images/GeoGrover3.png?raw=1\" alt=\"Geo Grover 2\" style=\"width: 200px;\"/>\n",
        "\n",
        "Si aplicamos de nuevo las dos reflexiones $U_f$ y $R_s$ tendremos:\n",
        "\n",
        "<img src=\"https://github.com/tarabelo/PIAC-apuntes/blob/main/images/GeoGrover4.png?raw=1\" alt=\"Geo Grover 4\" style=\"width: 200px;\"/>\n",
        "\n",
        "Si continuamos aplicando las reflexiones, el estado se irá acercando a $|w\\rangle$ que es la solución buscada.\n",
        "\n",
        "**¿Cuándo se alcanza $|w\\rangle$?**\n",
        "\n",
        "Cada vez que aplicamos las reflexiones, el estado avanza un ángulo $2\\theta$ con respecto a $|s\\rangle$. Sea $t$ el número de reflexiones para llegar a $|w\\rangle$:\n",
        "\n",
        "$$\n",
        "\\begin{aligned}\n",
        "\\theta + 2\\theta\\cdot t = \\frac{\\pi}{2} \\Rightarrow t = \\frac{\\pi}{4\\theta} - \\frac{1}{2}\n",
        "\\end{aligned}\n",
        "$$\n",
        "\n",
        "Como $\\sin\\theta = \\frac{1}{\\sqrt{N}}$, si $N$ es grande:\n",
        "\n",
        "$$\n",
        "\\theta = \\sin^{-1}\\left(\\frac{1}{\\sqrt{N}}\\right) \\approx \\frac{1}{\\sqrt{N}}\n",
        "$$\n",
        "\n",
        "Por lo que:\n",
        "\n",
        "$$\n",
        "t \\approx \\frac{\\pi}{4}\\sqrt{N} - \\frac{1}{2} \\approx \\frac{\\pi}{4}\\sqrt{N}\n",
        "$$\n",
        "\n",
        "Por lo que el número de repeticiones del algoritmo es $\\mathcal{O}(\\sqrt{2^n})$"
      ]
    },
    {
      "cell_type": "code",
      "execution_count": null,
      "id": "bfe0e09a",
      "metadata": {
        "id": "bfe0e09a"
      },
      "outputs": [],
      "source": []
    }
  ],
  "metadata": {
    "kernelspec": {
      "display_name": "Python 3 (ipykernel)",
      "language": "python",
      "name": "python3"
    },
    "language_info": {
      "codemirror_mode": {
        "name": "ipython",
        "version": 3
      },
      "file_extension": ".py",
      "mimetype": "text/x-python",
      "name": "python",
      "nbconvert_exporter": "python",
      "pygments_lexer": "ipython3",
      "version": "3.12.2"
    },
    "colab": {
      "provenance": [],
      "include_colab_link": true
    }
  },
  "nbformat": 4,
  "nbformat_minor": 5
}