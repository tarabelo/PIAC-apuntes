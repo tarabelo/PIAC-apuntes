{
  "cells": [
    {
      "cell_type": "markdown",
      "metadata": {
        "id": "view-in-github",
        "colab_type": "text"
      },
      "source": [
        "<a href=\"https://colab.research.google.com/github/tarabelo/PIAC-apuntes/blob/main/Pr%C3%A1ctica%205%3A%20algoritmo%20de%20Grover.ipynb\" target=\"_parent\"><img src=\"https://colab.research.google.com/assets/colab-badge.svg\" alt=\"Open In Colab\"/></a>"
      ]
    },
    {
      "cell_type": "markdown",
      "source": [
        "# **PON TU NOMBRE AQUÍ**"
      ],
      "metadata": {
        "id": "ryryAvMs8duN"
      },
      "id": "ryryAvMs8duN"
    },
    {
      "cell_type": "markdown",
      "id": "1d515781",
      "metadata": {
        "id": "1d515781"
      },
      "source": [
        "# Práctica 5: algoritmo de Grover\n",
        "\n",
        "Implementa en Qiskit el algoritmo de Grover para para un número arbitrario de cúbits."
      ]
    },
    {
      "cell_type": "code",
      "execution_count": null,
      "id": "dc94dc16",
      "metadata": {
        "id": "dc94dc16"
      },
      "outputs": [],
      "source": []
    },
    {
      "cell_type": "markdown",
      "id": "a5e530b8",
      "metadata": {
        "id": "a5e530b8"
      },
      "source": [
        "--------------------\n",
        "-------------------\n",
        "------------------"
      ]
    }
  ],
  "metadata": {
    "kernelspec": {
      "display_name": "Python 3 (ipykernel)",
      "language": "python",
      "name": "python3"
    },
    "language_info": {
      "codemirror_mode": {
        "name": "ipython",
        "version": 3
      },
      "file_extension": ".py",
      "mimetype": "text/x-python",
      "name": "python",
      "nbconvert_exporter": "python",
      "pygments_lexer": "ipython3",
      "version": "3.11.4"
    },
    "colab": {
      "provenance": [],
      "include_colab_link": true
    }
  },
  "nbformat": 4,
  "nbformat_minor": 5
}