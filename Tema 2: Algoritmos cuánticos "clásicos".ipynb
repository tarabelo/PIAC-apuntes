{
  "cells": [
    {
      "cell_type": "markdown",
      "metadata": {
        "id": "view-in-github",
        "colab_type": "text"
      },
      "source": [
        "<a href=\"https://colab.research.google.com/github/tarabelo/PIAC-apuntes/blob/main/Tema%202%3A%20Algoritmos%20cu%C3%A1nticos%20%22cl%C3%A1sicos%22.ipynb\" target=\"_parent\"><img src=\"https://colab.research.google.com/assets/colab-badge.svg\" alt=\"Open In Colab\"/></a>"
      ]
    },
    {
      "cell_type": "code",
      "source": [
        "# Instalamos qiskit en el notebook\n",
        "!pip install qiskit qiskit-aer pylatexenc"
      ],
      "metadata": {
        "id": "T0gD2RamevFL"
      },
      "id": "T0gD2RamevFL",
      "execution_count": null,
      "outputs": []
    },
    {
      "cell_type": "code",
      "execution_count": 2,
      "id": "formal-celebration",
      "metadata": {
        "id": "formal-celebration"
      },
      "outputs": [],
      "source": [
        "import numpy as np\n",
        "from math import sqrt\n",
        "\n",
        "# importing Qiskit\n",
        "from qiskit import QuantumCircuit, QuantumRegister, ClassicalRegister, transpile\n",
        "from qiskit.quantum_info import Statevector\n",
        "from qiskit_aer import AerSimulator\n",
        "# import basic plot tools\n",
        "from qiskit.visualization import plot_histogram\n",
        "\n",
        "# Funciones auxiliares\n",
        "\n",
        "# Función para simular y mostrar el vector de estado\n",
        "def obten_estado(qcirc, etiqueta=\"|\\psi\\!\\!> = \", bloch=False):\n",
        "    # Usamos el simulador de vector de estado\n",
        "    # https://qiskit.github.io/qiskit-aer/stubs/qiskit_aer.AerSimulator.html\n",
        "    sim = AerSimulator(method='statevector')\n",
        "    qc_obj = transpile(qcirc, sim)\n",
        "    result = sim.run(qc_obj).result()\n",
        "    estado = result.get_statevector()\n",
        "    display(estado.draw('latex', prefix=etiqueta))\n",
        "    if bloch:\n",
        "      display(estado.draw('bloch'))\n",
        "\n",
        "# Funcion para obtener y mostrar la matriz unitaria\n",
        "def obten_unitaria(qcirc, etiqueta):\n",
        "    # Usamos el simulador de matriz unitaria\n",
        "    sim_u = AerSimulator(method='unitary')\n",
        "    qc_obj = transpile(qcirc, sim_u)\n",
        "    result = sim_u.run(qcirc).result()\n",
        "    unitary = result.get_unitary(qcirc)\n",
        "    display(unitary.draw('latex', prefix=etiqueta))"
      ]
    },
    {
      "cell_type": "code",
      "source": [
        "# Oráculos creados en el apartado anterior\n",
        "# Oráculo para f0\n",
        "def f0_oraculo():\n",
        "    \"\"\"\n",
        "    Define un oraculo para la funcion f0\n",
        "        return: circuito de 2 cúbit en forma de puerta\n",
        "    \"\"\"\n",
        "    x = QuantumRegister(1, name=\"|x\\\\rangle\")\n",
        "    y = QuantumRegister(1, name=\"|y\\\\rangle\")\n",
        "    qc = QuantumCircuit(x,y)\n",
        "\n",
        "    # Aplica CNOT, primer parámetro target, segundo control\n",
        "    qc.cx(x,y)\n",
        "\n",
        "\n",
        "    oraculo = qc.to_gate()\n",
        "    oraculo.name = \"$U_{f_0}$\"\n",
        "    return(oraculo)\n",
        "\n",
        "# Oráculo para f1\n",
        "def f1_oraculo():\n",
        "    \"\"\"\n",
        "    Define un oraculo para la funcion f1\n",
        "        return: circuito de 2 cúbit en forma de puerta\n",
        "    \"\"\"\n",
        "    x = QuantumRegister(1, name=\"|x\\\\rangle\")\n",
        "    y = QuantumRegister(1, name=\"|y\\\\rangle\")\n",
        "    qc = QuantumCircuit(x,y)\n",
        "\n",
        "    # Invierte el cúbit x\n",
        "    qc.x(x)\n",
        "    # Aplica CNOT, primer parámetro control, segundo target\n",
        "    qc.cx(x,y)\n",
        "    # recupera el cúbit x\n",
        "    qc.x(x)\n",
        "\n",
        "    oraculo = qc.to_gate()\n",
        "    oraculo.name = \"$U_{f_1}$\"\n",
        "    return(oraculo)\n",
        "\n",
        "# Oráculo para f2\n",
        "def f2_oraculo():\n",
        "    \"\"\"\n",
        "    Define un oraculo para la funcion f2\n",
        "        return: circuito de 2 cúbit en forma de puerta\n",
        "    \"\"\"\n",
        "    x = QuantumRegister(1, name=\"|x\\\\rangle\")\n",
        "    y = QuantumRegister(1, name=\"|y\\\\rangle\")\n",
        "    qc = QuantumCircuit(x,y)\n",
        "\n",
        "    # Función identidad\n",
        "\n",
        "    oraculo = qc.to_gate()\n",
        "    oraculo.name = \"$U_{f_2}$\"\n",
        "    return(oraculo)\n",
        "\n",
        "# Oráculo para f3\n",
        "def f3_oraculo():\n",
        "    \"\"\"\n",
        "    Define un oraculo para la funcion f3\n",
        "        return: circuito de 2 cúbit en forma de puerta\n",
        "    \"\"\"\n",
        "    x = QuantumRegister(1, name=\"|x\\\\rangle\")\n",
        "    y = QuantumRegister(1, name=\"|y\\\\rangle\")\n",
        "    qc = QuantumCircuit(x,y)\n",
        "\n",
        "    # Invierte el cúbit y\n",
        "    qc.x(y)\n",
        "\n",
        "    oraculo = qc.to_gate()\n",
        "    oraculo.name = \"$U_{f_3}$\"\n",
        "    return(oraculo)"
      ],
      "metadata": {
        "id": "mef892EC54sf"
      },
      "id": "mef892EC54sf",
      "execution_count": null,
      "outputs": []
    },
    {
      "cell_type": "markdown",
      "id": "unlikely-secretariat",
      "metadata": {
        "id": "unlikely-secretariat"
      },
      "source": [
        "# Algoritmos cuánticos \"clásicos\"\n",
        "\n",
        "Algoritmos que presentan una ventaja real sobre sus homólogos clásicos.\n",
        "\n",
        "Algunas características:\n",
        " - Introducidos en los años 90 del siglo XX\n",
        " - Suponen que tenemos computadores cuánticos ideales\n",
        " - Algunos de ellos carecen de utilidad práctica, mientras que otros suelen formar parte de algoritmos más complejos."
      ]
    },
    {
      "cell_type": "markdown",
      "id": "substantial-medline",
      "metadata": {
        "id": "substantial-medline"
      },
      "source": [
        "### Contenidos\n",
        "\n",
        "1. [Algoritmo de Deutsch](#deutsch)\n",
        "3. [Algoritmo de Deutsch-Jozsa](#dj)\n",
        "4. [Algoritmo de Bernstein-Vazirani](#bv)\n",
        "4. [Algoritmo de periodicidad de Simon](#simon)\n"
      ]
    },
    {
      "cell_type": "markdown",
      "id": "fbcf6628",
      "metadata": {
        "id": "fbcf6628"
      },
      "source": [
        "-------------------------------\n",
        "-------------------------------\n",
        "-------------------------------"
      ]
    },
    {
      "cell_type": "markdown",
      "id": "built-provision",
      "metadata": {
        "id": "built-provision"
      },
      "source": [
        "# Algoritmo de Deutsch <a name=\"deutsch\"></a>\n",
        "\n",
        "Las funciones $f(x): \\{0,1\\}\\rightarrow\\{0,1\\}$ se denominan:\n",
        "\n",
        "- Constantes: si $f(0)=f(1)$\n",
        "- Balanceadas: si $f(0)\\ne f(1)$\n",
        "\n",
        "De las 4 funciones anteriores, $f_0$ y $f_1$ son balanceadas mientras que $f_2$ y $f_3$ son constantes.\n",
        "\n",
        "Dada una función $f(x): \\{0,1\\}\\rightarrow\\{0,1\\}$ desconocida, un algoritmo clásico necesita 2 llamadas a $f$ para determinar si es constante o balanceada.\n",
        "\n",
        "El **algoritmo cuántico de Deutsch** puede determinarlo con una sola llamada a $f$.\n",
        "\n",
        "Partimos del circuito siguiente:\n",
        "\n",
        "<center><img src=\"https://drive.google.com/uc?export=view&id=1npbfKEwOqZA1EOUl8JeoytuQ7e0b7v1C\" alt=\"Deutsch\" width=\"800\"  /></center>"
      ]
    },
    {
      "cell_type": "markdown",
      "id": "thirty-madrid",
      "metadata": {
        "id": "thirty-madrid"
      },
      "source": [
        "Estado después de la puerta X:\n",
        "$$\n",
        "|\\psi_0\\rangle = |10\\rangle\n",
        "$$\n",
        "\n",
        "Estado despues de las H:\n",
        "$$\n",
        "|\\psi_1\\rangle = |-+\\rangle = \\frac{|0\\rangle - |1\\rangle}{\\sqrt{2}}\\otimes \\frac{|0\\rangle + |1\\rangle}{\\sqrt{2}} = |y\\rangle \\otimes|x\\rangle\n",
        "$$\n",
        "\n",
        "Y se tiene que:\n",
        "\n",
        "$$\n",
        "|y\\oplus f(x)\\rangle = \\frac{|0\\rangle - |1\\rangle}{\\sqrt{2}}\\oplus f(x) = \\frac{|0\\oplus f(x)\\rangle - |1\\oplus f(x)\\rangle}{\\sqrt{2}} =\n",
        "\\begin{cases}\n",
        "\\frac{|0\\rangle - |1\\rangle}{\\sqrt{2}}, & \\text{si } f(x) = 0\\\\\n",
        "\\frac{|1\\rangle - |0\\rangle}{\\sqrt{2}}, & \\text{si } f(x) = 1\n",
        "\\end{cases}\n",
        "$$\n",
        "\n",
        "por lo que podemos escribir:\n",
        "$$\n",
        "|y\\oplus f(x)\\rangle = (-1)^{f(x)}\\frac{|0\\rangle - |1\\rangle}{\\sqrt{2}}\n",
        "$$\n",
        "\n",
        "De aquí se tiene que:\n",
        "\n",
        "$$\n",
        "|\\psi_2\\rangle = \\frac{1}{\\sqrt{2}}(-1)^{f(x)} (|0\\rangle - |1\\rangle)\\otimes |x\\rangle =\n",
        "\\frac{1}{\\sqrt{2}} (|0\\rangle - |1\\rangle)\\otimes (-1)^{f(x)}|x\\rangle\n",
        "$$\n",
        "Y podemos escribir:\n",
        "$$\n",
        "(-1)^{f(x)}|x\\rangle = |(-1)^{f(x)}x\\rangle =\n",
        "\\frac{(-1)^{f(0)}|0\\rangle + (-1)^{f(1)}|1\\rangle}{\\sqrt{2}}\n",
        "$$\n",
        "\n",
        "Por lo tanto, el estado $|\\psi_2\\rangle$ queda:\n",
        "$$\n",
        "|\\psi_2\\rangle =\n",
        "\\frac{|0\\rangle - |1\\rangle}{\\sqrt{2}}\\otimes\n",
        "\\frac{(-1)^{f(0)}|0\\rangle + (-1)^{f(1)}|1\\rangle}{\\sqrt{2}} =\n",
        "\\begin{cases}\n",
        "\\pm\\left[\\frac{|0\\rangle - |1\\rangle}{\\sqrt{2}}\\right] \\otimes \\left[\\frac{|0\\rangle + |1\\rangle}{\\sqrt{2}}\\right], & \\text{si } f(0) = f(1)\\\\\\mbox{}\\\\\n",
        "\\pm\\left[\\frac{|0\\rangle - |1\\rangle}{\\sqrt{2}}\\right] \\otimes  \\left[\\frac{|0\\rangle - |1\\rangle}{\\sqrt{2}}\\right], & \\text{si } f(0) \\neq f(1)\n",
        "\\end{cases}\n",
        "$$\n",
        "\n",
        "Al aplicar la última `H`:\n",
        "\n",
        "$$\n",
        "|\\psi_3\\rangle =\n",
        "\\begin{cases}\n",
        "\\pm\\frac{|0\\rangle - |1\\rangle}{\\sqrt{2}} \\otimes |0\\rangle, & \\text{si } f(0) = f(1)\\\\\\mbox{}\\\\\n",
        "\\pm\\frac{|0\\rangle - |1\\rangle}{\\sqrt{2}} \\otimes |1\\rangle, & \\text{si } f(0) \\neq f(1)\n",
        "\\end{cases}\n",
        "$$\n",
        "\n",
        "Midiendo el cúbit de arriba vamos a obtener, con total certeza, un $0$ si $f(0)=f(1)$ o un $1$ si $f(0)\\ne f(1)$, con una sola evaluacion de $f(x)$.\n"
      ]
    },
    {
      "cell_type": "markdown",
      "id": "46042999",
      "metadata": {
        "id": "46042999"
      },
      "source": [
        "### Ejercicio 3\n",
        "\n",
        "Implementa un circuito en Qiskit para probar el algoritmo de Deutsch con los oráculos definidos para las funciones $f_{0-3}$. Comprueba que es capaz de determinar si la función es constante o balanceada."
      ]
    },
    {
      "cell_type": "code",
      "execution_count": null,
      "id": "b5f816b2",
      "metadata": {
        "id": "b5f816b2"
      },
      "outputs": [],
      "source": [
        "# Empieza creando un circuito a partir de un oráculo con un bit de medida\n",
        "def deutsch_qc(oraculo):\n",
        "    x = QuantumRegister(1, name=\"|x\\\\rangle\")\n",
        "    y = QuantumRegister(1, name=\"|y\\\\rangle\")\n",
        "    meas = ClassicalRegister(1, name=\"Medida\")\n",
        "    qc = QuantumCircuit(x,y,meas)\n",
        "\n",
        "    # TODO: Añade las puertas iniciales\n",
        "\n",
        "\n",
        "    # TODO: Añade el oraculo\n",
        "    qc = qc.compose()\n",
        "\n",
        "    # TODO: Añade la última puerta H\n",
        "\n",
        "    # TODO: Añade la medida\n",
        "\n",
        "    # Devuelve el circuito\n",
        "    return qc"
      ]
    },
    {
      "cell_type": "code",
      "execution_count": null,
      "id": "91bb2e02",
      "metadata": {
        "id": "91bb2e02"
      },
      "outputs": [],
      "source": [
        "# Probamos con f0\n",
        "qc = deutsch_qc(f0_oraculo)\n",
        "qc.draw('mpl')"
      ]
    },
    {
      "cell_type": "code",
      "execution_count": null,
      "id": "b1786c90",
      "metadata": {
        "id": "b1786c90"
      },
      "outputs": [],
      "source": [
        "# Hacemos la simulacion\n",
        "sim = AerSimulator(method='automatic')\n",
        "qc_obj = transpile(qc, sim)\n",
        "result = sim.run(qc_obj, shots=1024).result()\n",
        "plot_histogram(result.get_counts())"
      ]
    },
    {
      "cell_type": "code",
      "execution_count": null,
      "id": "991acfb6",
      "metadata": {
        "id": "991acfb6"
      },
      "outputs": [],
      "source": [
        "# TODO: Probar con las otras 3 funciones\n",
        "sim = AerSimulator(method='automatic')\n",
        "for f in [f1_oraculo, f2_oraculo, f3_oraculo]:\n",
        "    qc = deutsch_qc(f)\n",
        "    # hacemos la simulacion\n",
        "    qc_obj = transpile(qc, sim)\n",
        "    result = sim.run(qc_obj, shots=1024).result()\n",
        "    display(plot_histogram(result.get_counts()))"
      ]
    },
    {
      "cell_type": "markdown",
      "source": [
        "\n",
        "\n",
        "---\n",
        "\n",
        "\n",
        "\n",
        "---\n",
        "\n",
        "\n",
        "\n",
        "---\n",
        "\n"
      ],
      "metadata": {
        "id": "tzvUrtKRtPz4"
      },
      "id": "tzvUrtKRtPz4"
    },
    {
      "cell_type": "markdown",
      "id": "marine-mechanism",
      "metadata": {
        "id": "marine-mechanism"
      },
      "source": [
        "# Algoritmo de Deutsch-Jozsa <a name=\"dj\"></a>\n",
        "\n",
        "Es una generalización a $n$ bits del anterior. Dada una función (oráculo) $f(\\{x_{n-1},x_{n-2},\\ldots,x_1,x_{0}\\}) \\rightarrow \\{0,1\\}$, que es, o bien, _balanceada_, o bien, _constante_, determinar el tipo:\n",
        "\n",
        "- Función constante: la salida de $f(x)$ es, o bien, 0, o bien, 1 $\\forall x$\n",
        "- Función balanceada: devuelve 0 para la mitad de las entradas y 1 para la otra mitad\n",
        "\n",
        "**Solución clásica**\n",
        "\n",
        "Un algoritmo clásico necesita efectuar en el mejor caso $2$ y en el peor $2^{n-1}+1$ evaluaciones de $f(x)$, por lo que su complejidad es exponencial $\\mathcal{O}(2^n)$.\n",
        "\n",
        "**Solución cuántica**\n",
        "\n",
        "El algoritmo cuántico ([D. Deutsch and R. Jozsa, 1992](https://doi.org/10.1098%2Frspa.1992.0167)) solo necesita una evaluación del oráculo $f(x)$ (ganancia exponencial).\n",
        "\n",
        "El circuito usado es:\n",
        "\n",
        "<center><img src=\"https://drive.google.com/uc?export=view&id=1SRf5wmYaN4NmLgjT7MXm0v4XsUEIASQW\" alt=\"Deutsch-Jozsa\" width=\"800\"  /></center>\n",
        "\n",
        "Pasos:\n",
        "\n",
        "<ol>\n",
        "<li>\n",
        "Estado inicial:\n",
        "        \n",
        "\n",
        "$$\\vert \\psi_0 \\rangle = \\vert 1\\rangle \\vert0\\rangle^{\\otimes n} $$\n",
        "</li>\n",
        "    \n",
        "<li>\n",
        "Después de aplicar las primeras puertas H:\n",
        "$$\\vert \\psi_1 \\rangle = \\frac{1}{\\sqrt{2^{n+1}}}\\sum_{x=0}^{2^n-1} \\left(|0\\rangle - |1 \\rangle \\right)\\vert x\\rangle $$\n",
        "</li>\n",
        "<p>\n",
        "<li>\n",
        "Aplicamos $U_f$ a $\\vert y\\rangle \\vert x\\rangle$ para obtener $\\vert y \\oplus f(x)\\rangle\\vert x\\rangle$, recordando que $y\\oplus f(x) = \\tfrac{1}{\\sqrt{2}} (-1)^{f(x)}(|0\\rangle - |1\\rangle)$:\n",
        "\n",
        "$$\\vert\\psi_2\\rangle  = \\frac{1}{\\sqrt{2^{n+1}}}\\sum_{x=0}^{2^n-1}(-1)^{f(x)}(|0\\rangle - |1\\rangle)|x\\rangle=\\frac{(|0\\rangle - |1\\rangle)}{\\sqrt{2^{n+1}}}\\sum_{x=0}^{2^n-1}(-1)^{f(x)}|x\\rangle$$\n",
        "          </li>\n",
        "<p>\n",
        "<li>Ahora aplicamos una H a cada cúbit en  $|x\\rangle$ (recordemos que $H^{\\otimes n}|x\\rangle = \\tfrac{1}{\\sqrt{2^n}} \\sum_{i=0}^{2^n-1} (-1)^{x\\cdot i}|i\\rangle)$. Si ya no consideramos el cúbit de abajo, el estado es:<p>\n",
        "$$\n",
        "\\begin{aligned}\n",
        "    \\lvert \\psi_3 \\rangle\n",
        "        & = \\frac{1}{2^n}\\sum_{x=0}^{2^n-1}(-1)^{f(x)}\n",
        "            \\left[ \\sum_{i=0}^{2^n-1}(-1)^{x \\cdot i}\n",
        "            \\vert i \\rangle \\right] \\\\\n",
        "        & = \\frac{1}{2^n}\\sum_{i=0}^{2^n-1}\n",
        "            \\left[ \\sum_{x=0}^{2^n-1}(-1)^{f(x)}(-1)^{x \\cdot i} \\right]\n",
        "            \\vert i \\rangle\n",
        "\\end{aligned}\n",
        "$$\n",
        "       \n",
        "con $x \\cdot i = x_{n-1}i_{n-1}\\oplus x_{n-2}i_{n-2}\\oplus \\ldots \\oplus x_1i_1 \\oplus x_0i_0$.\n",
        "   </li>\n",
        "\n",
        "   <li>Se realiza la medida. La probabilidad de obtener todo 0 ($\\vert i \\rangle=  \\vert 0 \\rangle ^{\\otimes n}$) es:\n",
        "$$\n",
        "       \\left| \\frac{1}{2^n}\\sum_{x=0}^{2^n-1}(-1)^{f(x)} \\right|^2 =\n",
        "       \\begin{cases}\n",
        "       1, \\text{si } f \\text{ es constante}\\\\\n",
        "       0, \\text{si } f \\text{ es balanceada}\n",
        "       \\end{cases}\n",
        "$$\n",
        "   </li>\n",
        "<p>\n",
        "</ol>\n",
        "En conclusión, si a la salida obtenemos todo 0, $f$ es constante. Si obtenemos cualquier otro valor $f$ es balanceada.\n",
        "\n",
        "<p></p>\n",
        "\n",
        "\n",
        "\n"
      ]
    },
    {
      "cell_type": "markdown",
      "source": [
        "<details>\n",
        "    <summary><strong>Demostración de que $H^{\\otimes n}|x\\rangle = \\tfrac{1}{\\sqrt{2^n}} \\sum_{i=0}^{2^n-1} (-1)^{x\\cdot i}|i\\rangle$</strong></summary>\n",
        "\n",
        "El uso de puertas `H` permite poner los n-cúbits en un estado de superposición.\n",
        "\n",
        "El estado de _superposición completa_ es:\n",
        "\n",
        "$$\n",
        "|+\\rangle^{\\otimes n} = H^{\\otimes n}|0\\rangle^{\\otimes n}\n",
        "$$\n",
        "\n",
        "$H^{\\otimes n}$ se conoce como puerta _Walsh-Hadamard_.\n",
        "\n",
        "Ejemplo para 4 cúbits:\n",
        "\n",
        "$$\n",
        "H^{\\otimes 4}|1010\\rangle = H|1\\rangle\\otimes H|0\\rangle\\otimes H|1\\rangle\\otimes H|0\\rangle = \\\\\n",
        "\\frac{1}{4}\\left[(|0\\rangle - |1\\rangle)\\otimes (|0\\rangle + |1\\rangle) \\otimes (|0\\rangle - |1\\rangle) \\otimes (|0\\rangle + |1\\rangle)\\right] = \\frac{1}{4}\\left[\\\\\n",
        "|0000\\rangle+|0001\\rangle-|0010\\rangle-|0011\\rangle+\\\\\n",
        "|0100\\rangle+|0101\\rangle-|0110\\rangle-|0111\\rangle-\\\\\n",
        "|1000\\rangle-|1001\\rangle+|1010\\rangle+|1011\\rangle-\\\\\n",
        "|1100\\rangle-|1101\\rangle+|1110\\rangle+|1111\\rangle\\phantom{-}\\right]\n",
        "$$\n",
        "\n",
        "En este ejemplo, el signo negativo aparece en los estados $|x_3x_2x_1x_0\\rangle$ para los que se verifica que:\n",
        "    \n",
        "$$\n",
        "(x_3x_2x_1x_0)\\cdot(1010) = x_3\\cdot 1\\oplus x_2\\cdot 0 \\oplus x_1\\cdot 1 \\oplus x_0\\cdot 0 = x_3\\oplus x_1 = 1\n",
        "$$\n",
        "\n",
        "que son los estados para los que $x_3 \\ne x_1$.\n",
        "    \n",
        "En general, para un estado $|x\\rangle = |x_{n-1}x_{n-2}\\ldots x_0\\rangle$ de n-cúbits, se puede escribir:\n",
        "\n",
        "$$\n",
        "H^{\\otimes n}|x\\rangle = \\frac{1}{\\sqrt{2^n}} \\sum_{i=0}^{2^n-1} (-1)^{x\\cdot i}|i\\rangle\n",
        "$$\n",
        "\n",
        "siendo $x\\cdot i = x_{n-1}i_{n-1}\\oplus x_{n-2}i_{n-2}\\oplus \\ldots \\oplus x_0i_0$\n",
        "\n",
        "</details>"
      ],
      "metadata": {
        "id": "_dTfMSjHA9pc"
      },
      "id": "_dTfMSjHA9pc"
    },
    {
      "cell_type": "markdown",
      "id": "ae30b7ad",
      "metadata": {
        "id": "ae30b7ad"
      },
      "source": [
        "**Ejemplo**\n",
        "Supongamos $n=2$. Las probabilidades asociadas a cada salida son:\n",
        "\n",
        "$$\n",
        "p(0) = \\left|\\frac{1}{4} \\sum_{x=0}^{3}(-1)^{f(x)}(-1)^{x \\cdot 0} \\right|^2 = \\left|\\frac{1}{4} \\left[ (-1)^{f(0)}(-1)^{0} + (-1)^{f(1)}(-1)^{0} + (-1)^{f(2)}(-1)^{0} + (-1)^{f(3)}(-1)^{0}\\right]  \\right|^2\n",
        "$$\n",
        "$$\n",
        "p(1) = \\left|\\frac{1}{4} \\sum_{x=0}^{3}(-1)^{f(x)}(-1)^{x \\cdot 1} \\right|^2 = \\left|\\frac{1}{4} \\left[ (-1)^{f(0)}(-1)^{0} + (-1)^{f(1)}(-1)^{1} + (-1)^{f(2)}(-1)^{0} + (-1)^{f(3)}(-1)^{1}\\right]  \\right|^2\n",
        "$$\n",
        "$$\n",
        "p(2) = \\left|\\frac{1}{4} \\sum_{x=0}^{3}(-1)^{f(x)}(-1)^{x \\cdot 2} \\right|^2 = \\left|\\frac{1}{4} \\left[ (-1)^{f(0)}(-1)^{0} + (-1)^{f(1)}(-1)^{0} + (-1)^{f(2)}(-1)^{1} + (-1)^{f(3)}(-1)^{1}\\right]  \\right|^2\n",
        "$$\n",
        "$$\n",
        "p(3) = \\left|\\frac{1}{4} \\sum_{x=0}^{3}(-1)^{f(x)}(-1)^{x \\cdot 3} \\right|^2 = \\left|\\frac{1}{4} \\left[ (-1)^{f(0)}(-1)^{0} + (-1)^{f(1)}(-1)^{1} + (-1)^{f(2)}(-1)^{1} + (-1)^{f(3)}(-1)^{0}\\right]  \\right|^2\n",
        "$$\n",
        "\n",
        "Es fácil ver que si $f$ es constante, $p(0)=1$ y $p(1)=p(2)=p(3)=0$, ya que se anulan los términos. Por contra, si $f$ es balanceada $p(0)=0$."
      ]
    },
    {
      "cell_type": "markdown",
      "id": "3d5cd1d0",
      "metadata": {
        "id": "3d5cd1d0"
      },
      "source": [
        "### Ejercicio 4\n",
        "\n",
        "Determina qué valor se va a medir si $f(0) = f(1) = 0$ y $f(2) = f(3) = 1$."
      ]
    },
    {
      "cell_type": "markdown",
      "source": [],
      "metadata": {
        "id": "fMWQcAFsHBeu"
      },
      "id": "fMWQcAFsHBeu"
    },
    {
      "cell_type": "markdown",
      "id": "26263e9e",
      "metadata": {
        "id": "26263e9e"
      },
      "source": [
        "-------------------------------\n",
        "-------------------------------\n",
        "-------------------------------"
      ]
    },
    {
      "cell_type": "markdown",
      "id": "wound-racing",
      "metadata": {
        "id": "wound-racing"
      },
      "source": [
        "# Algoritmo de Bernstein-Vazirani <a name=\"bv\"></a>\n",
        "\n",
        "Es una versión del anterior en la que el oráculo $f(\\{x_{n-1},x_{n-2},\\ldots,x_{0}\\}) \\rightarrow \\{0,1\\}$ es de la forma $f_s(x) = s\\cdot x = s_{n-1}x_{n-1} \\oplus s_{n-2}x_{n-2} \\oplus \\ldots \\oplus s_{0}x_{0}$, con $s_i\\in\\{0,1\\}$, donde $s$ es desconocido. El objetivo es encontrar el valor de $s$.\n",
        "\n",
        "**Solución clásica**\n",
        "\n",
        "Para obtener $s$, un algoritmo clásico tiene que hacer $n$ invocaciones de $f_s(x)$ con los valores $x=2^i$ con $i \\in \\{0,\\ldots,n-1\\}$.\n",
        "\n",
        "$$\n",
        "s_0 = f_s(000\\ldots 01)\\\\\n",
        "s_1 = f_s(000\\ldots 10)\\\\\n",
        "\\cdots\\\\\n",
        "s_{n-1} = f_s(100\\ldots 00)\n",
        "$$\n",
        "\n",
        "**Solución cuántica**\n",
        "\n",
        "El algoritmo cuántico ([E. Bernstein y U. Vazirani, 1997](https://doi.org/10.1137/S0097539796300921)) necesita 1 sola invocación del oráculo.\n",
        "\n",
        "El circuito es idéntico al de Deutsch-Jozsa, solo cambia la función oráculo.\n",
        "\n",
        "Al igual que antes tenemos:\n",
        "\n",
        "$$            \n",
        "\\lvert \\psi_3 \\rangle  = \\frac{1}{2^n}\\sum_{i=0}^{2^n-1}\n",
        "                    \\left[ \\sum_{x=0}^{2^n-1}(-1)^{f_s(x)}(-1)^{x \\cdot i} \\right]\n",
        "                    \\vert i \\rangle =\n",
        "                    \\frac{1}{2^n}\\sum_{i=0}^{2^n-1}\n",
        "                    \\left[ \\sum_{x=0}^{2^n-1}(-1)^{s\\cdot x}(-1)^{x \\cdot i} \\right]\n",
        "                    \\vert i \\rangle =\n",
        "                    \\sum_{i=0}^{2^n-1}\n",
        "                    \\left[ \\frac{1}{2^n}\\sum_{x=0}^{2^n-1}(-1)^{s\\cdot x}(-1)^{x \\cdot i} \\right] \\vert i \\rangle\n",
        "$$\n",
        "\n",
        "El sumatorio sobre $x$ se puede escribir:\n",
        "\n",
        "$$\n",
        "\\frac{1}{2^n} \\sum_{x=0}^{2^n-1}(-1)^{s\\cdot x}(-1)^{x \\cdot i} = \\frac{1}{2^n} \\sum_{x=0}^{2^n-1}(-1)^{(s\\cdot x) \\oplus (x \\cdot i)} = \\frac{1}{2^n} \\sum_{x=0}^{2^n-1}(-1)^{(s \\oplus i)\\cdot x}\n",
        "$$                    \n",
        "\n",
        "Este valor se hace 1 si $s \\oplus i = 0 \\Rightarrow s = i$.\n",
        "Es decir, que medimos el estado $|s\\rangle$ con probabilidad 1.\n",
        "\n",
        "**Ejemplo**: supongamos $n=2$. Aplicando el algoritmo tenemos en el paso 2:\n",
        "\n",
        "$$\n",
        "\\lvert \\psi_2 \\rangle  \n",
        "    = \\frac{|0\\rangle - |1\\rangle}{\\sqrt{2^{n+1}}}\\sum_{x=0}^{2^n-1}(-1)^{f(x)}|x\\rangle\n",
        "    = \\frac{|0\\rangle - |1\\rangle}{2\\sqrt{2}}\n",
        "                 \\left[\n",
        "                 (-1)^{s\\cdot 00}|00\\rangle +\n",
        "                 (-1)^{s\\cdot 01}|01\\rangle +\n",
        "                 (-1)^{s\\cdot 10}|10\\rangle +\n",
        "                 (-1)^{s\\cdot 11}|11\\rangle\\right]\n",
        "$$\n",
        "\n",
        "Si suponemos $s=11$, el estado será:\n",
        "\n",
        "$$\n",
        "\\lvert \\psi_2 \\rangle =   \\frac{|0\\rangle - |1\\rangle}{2\\sqrt{2}}\n",
        "                 \\left[\n",
        "                 (-1)^{11\\cdot 00}|00\\rangle +\n",
        "                 (-1)^{11\\cdot 01}|01\\rangle +\n",
        "                 (-1)^{11\\cdot 10}|10\\rangle +\n",
        "                 (-1)^{11\\cdot 11}|11\\rangle\\right] =\n",
        "                 \\frac{1}{2}(|00\\rangle - |01\\rangle - |10\\rangle + |11\\rangle)\n",
        "$$\n",
        "\n",
        "Y al aplicar las `H`:\n",
        "\n",
        "$$\n",
        "\\lvert \\psi_3 \\rangle =   \\frac{1}{4}\\left[\n",
        "(|0\\rangle+|1\\rangle)\\otimes(|0\\rangle+|1\\rangle) -\n",
        "(|0\\rangle+|1\\rangle)\\otimes(|0\\rangle-|1\\rangle) -\n",
        "(|0\\rangle-|1\\rangle)\\otimes(|0\\rangle+|1\\rangle) +\n",
        "(|0\\rangle-|1\\rangle)\\otimes(|0\\rangle-|1\\rangle)\n",
        "\\right] = \\\\\n",
        "= \\frac{1}{4}\\left[\n",
        "|00\\rangle + |01\\rangle + |10\\rangle + |11\\rangle - |00\\rangle + |01\\rangle - |10\\rangle + |11\\rangle  \n",
        "- |00\\rangle - |01\\rangle + |10\\rangle + |11\\rangle + |00\\rangle - |01\\rangle - |10\\rangle + |11\\rangle\n",
        "\\right] = \\\\\n",
        "= |11\\rangle = |s\\rangle\n",
        "$$"
      ]
    },
    {
      "cell_type": "markdown",
      "id": "a5b6f12c",
      "metadata": {
        "id": "a5b6f12c"
      },
      "source": [
        "### Ejercicio 5\n",
        "\n",
        "Implementa un oráculo para el algoritmo de Bernstein-Vazirani con $n$ bits y $s$ aleatoria."
      ]
    },
    {
      "cell_type": "code",
      "execution_count": 3,
      "id": "external-construction",
      "metadata": {
        "id": "external-construction"
      },
      "outputs": [],
      "source": [
        "# Obtenemos s como una lista de valores binarios aleatoria\n",
        "def get_s(n):\n",
        "    s = list()\n",
        "    for q in range(n):\n",
        "        if np.random.randint(2) == 1:\n",
        "            s.append(1)\n",
        "        else:\n",
        "            s.append(0)\n",
        "    return(s)"
      ]
    },
    {
      "cell_type": "code",
      "execution_count": 23,
      "id": "338d242c",
      "metadata": {
        "id": "338d242c"
      },
      "outputs": [],
      "source": [
        "def bv_oraculo(n):\n",
        "    \"\"\"\n",
        "    Devuelve un oraculo para el algoritmo de Bernstein-Vazirani\n",
        "\n",
        "        n: Número de cúbits de entrada\n",
        "        return: circuito de n+1 cúbit en forma de puerta\n",
        "    \"\"\"\n",
        "    x = QuantumRegister(n, name=\"|x\\\\rangle\")\n",
        "    y = QuantumRegister(1, name=\"|y\\\\rangle\")\n",
        "    qc = QuantumCircuit(x,y)\n",
        "    s = get_s(n)\n",
        "    print(s)\n",
        "\n",
        "    # El oráculo puede implementarse con puertas CNOT controladas\n",
        "    # por los cúbits para los que el bit en s vale 1\n",
        "\n",
        "    sinv = s[::-1] # Invertimos s para recorrerlo del bit menos al más significativo\n",
        "\n",
        "    for p in range(n):\n",
        "      if sinv[p] == 1:\n",
        "        qc.cx(x[p],y)\n",
        "\n",
        "    # Salida\n",
        "    oraculo = qc.to_gate()\n",
        "    oraculo.name = \"$U_{f}$\"\n",
        "    return oraculo"
      ]
    },
    {
      "cell_type": "code",
      "source": [
        "n = 3\n",
        "x = QuantumRegister(n, name=\"|x\\\\rangle\")\n",
        "y = QuantumRegister(1, name=\"|y\\\\rangle\")\n",
        "qc = QuantumCircuit(x,y)\n",
        "\n",
        "qc.compose(bv_oraculo(n), inplace=True)\n",
        "qc.decompose().draw('mpl')"
      ],
      "metadata": {
        "id": "RmG0A23lspvw",
        "outputId": "66a95d8b-c8ac-4134-a811-0d93f65e569a",
        "colab": {
          "base_uri": "https://localhost:8080/",
          "height": 337
        }
      },
      "id": "RmG0A23lspvw",
      "execution_count": 26,
      "outputs": [
        {
          "output_type": "stream",
          "name": "stdout",
          "text": [
            "[0, 1, 0]\n"
          ]
        },
        {
          "output_type": "execute_result",
          "data": {
            "text/plain": [
              "<Figure size 228.125x367.889 with 1 Axes>"
            ],
            "image/png": "[encoded data removed]"
          },
          "metadata": {},
          "execution_count": 26
        }
      ]
    },
    {
      "cell_type": "code",
      "source": [
        "print(s)"
      ],
      "metadata": {
        "id": "5pGQdOIMs8it",
        "outputId": "9229d10e-a24b-4127-98d3-7695ca350813",
        "colab": {
          "base_uri": "https://localhost:8080/",
          "height": 141
        }
      },
      "id": "5pGQdOIMs8it",
      "execution_count": 8,
      "outputs": [
        {
          "output_type": "error",
          "ename": "NameError",
          "evalue": "name 's' is not defined",
          "traceback": [
            "\u001b[0;31m---------------------------------------------------------------------------\u001b[0m",
            "\u001b[0;31mNameError\u001b[0m                                 Traceback (most recent call last)",
            "\u001b[0;32m<ipython-input-8-0ff1b7208845>\u001b[0m in \u001b[0;36m<cell line: 1>\u001b[0;34m()\u001b[0m\n\u001b[0;32m----> 1\u001b[0;31m \u001b[0mprint\u001b[0m\u001b[0;34m(\u001b[0m\u001b[0ms\u001b[0m\u001b[0;34m)\u001b[0m\u001b[0;34m\u001b[0m\u001b[0;34m\u001b[0m\u001b[0m\n\u001b[0m",
            "\u001b[0;31mNameError\u001b[0m: name 's' is not defined"
          ]
        }
      ]
    },
    {
      "cell_type": "markdown",
      "id": "b34c149d",
      "metadata": {
        "id": "b34c149d"
      },
      "source": [
        "------------------------\n",
        "------------------------\n",
        "------------------------"
      ]
    },
    {
      "cell_type": "markdown",
      "id": "iraqi-decimal",
      "metadata": {
        "id": "iraqi-decimal"
      },
      "source": [
        "# Algoritmo de periodicidad de Simon <a name=\"simon\"></a>\n",
        "\n",
        "En este caso, el oráculo es una función $f_c:\\{0,1\\}^n \\rightarrow \\{0,1\\}^n$ que depende de un número binario desconocido $c=c_{n-1}c_{n-2}\\ldots c_0 \\ne 0$, con $c_i \\in \\{0,1\\}$, tal que, para todos los valores $x,y \\in \\{0,1\\}^n$ se tiene que:\n",
        "$$\n",
        "f_c(x) = f_c(y) \\Leftrightarrow y=x\\oplus c \\text{   (o que }x\\oplus y =c\\text{)}\n",
        "$$\n",
        "\n",
        "Es decir, los valores de $f_c$ se repiten con un cierto patrón dado por $c$, que se denomina período. Por ejemplo, supongamos $n=3$ y $c=5\\equiv 101$:\n",
        "\n",
        "$$\n",
        "\\hphantom{00} x\\hphantom{0 \\oplus 1} c \\hphantom{01 = 1} y\\hphantom{01 \\Rightarrow f_c(0) = f_c(5)}\\\\\n",
        "000 \\oplus 101 = 101 \\Rightarrow f_c(0) = f_c(5)\\\\\n",
        "001 \\oplus 101 = 100 \\Rightarrow f_c(1) = f_c(4)\\\\\n",
        "010 \\oplus 101 = 111 \\Rightarrow f_c(2) = f_c(7)\\\\\n",
        "011 \\oplus 101 = 110 \\Rightarrow f_c(3) = f_c(6)\\\\\n",
        "100 \\oplus 101 = 001 \\Rightarrow f_c(4) = f_c(1)\\\\\n",
        "101 \\oplus 101 = 000 \\Rightarrow f_c(5) = f_c(0)\\\\\n",
        "110 \\oplus 101 = 011 \\Rightarrow f_c(6) = f_c(3)\\\\\n",
        "111 \\oplus 101 = 010 \\Rightarrow f_c(7) = f_c(2)\n",
        "$$\n",
        "\n",
        "**Solución clásica**\n",
        "\n",
        "Un algoritmo clásico necesita evaluar la función hasta encontrar dos valores $x$ e $y$ tales que $f_c(x) = f_c(y)$. Dados esos valores, se tiene que $c=x\\oplus y$.\n",
        "\n",
        "En el peor de los casos tenemos que buscar en la mitad de los valores, efectuando $2^{n-1}+1$ evaluaciones de $f(x)$.\n",
        "\n",
        "**Solución cuántica**\n",
        "\n",
        "El algoritmo cuántico ([D. R. Simon, 1997](https://doi.org/10.1137/S0097539796298637)) solo necesita $n$ evaluaciones.\n",
        "\n",
        "El circuito que se utiliza es similar al que venimos usando pero con $n$ bits de ancilla:\n",
        "\n",
        "<center><img src=\"https://drive.google.com/uc?export=view&id=1x8fmuY7WjcTh9iIrjY3-Fhp95pT_IbRf\" alt=\"Simon\" width=\"800\"  /></center>\n",
        "\n",
        "\n",
        "\n",
        "Pasos:\n",
        "\n",
        "<ol>\n",
        "   <li>\n",
        "        Estado inicial:\n",
        "        \n",
        "\n",
        "$$\\vert \\psi_0 \\rangle = \\vert0\\rangle^{\\otimes n} \\vert 0\\rangle^{\\otimes n}$$\n",
        "\n",
        "\n",
        "   </li>\n",
        "    \n",
        "<li>Después de aplicar las primeras puertas H:\n",
        "$$\\vert \\psi_1 \\rangle = \\frac{1}{\\sqrt{2^n}}\\sum_{x=0}^{2^n-1}|0\\rangle \\vert x\\rangle$$\n",
        "</li>\n",
        "   <p>\n",
        "<li>Aplicamos $U_f$ a $\\vert y\\rangle\\vert x\\rangle$ para obtener $\\vert y \\oplus f(x)\\rangle\\vert x\\rangle$:\n",
        "$$\n",
        "\\lvert \\psi_2 \\rangle  \n",
        "= \\frac{1}{\\sqrt{2^n}}\\sum_{x=0}^{2^n-1}|0\\oplus f(x)\\rangle|x\\rangle =  \n",
        "\\frac{1}{\\sqrt{2^n}}\\sum_{x=0}^{2^n-1}|f(x)\\rangle|x\\rangle\n",
        "$$\n",
        "</li>\n",
        "<p>\n",
        "<li>Ahora aplicamos una H a cada cúbit en  $|x\\rangle$ (recordemos que $H^{\\otimes n}|x\\rangle = \\frac{1}{\\sqrt{2^n}} \\sum_{i=0}^{2^n-1} (-1)^{x\\cdot i}|i\\rangle)$<p>\n",
        "$$\n",
        "\\begin{aligned}\n",
        "    \\lvert \\psi_3 \\rangle\n",
        "          = \\frac{1}{2^n} \\sum_{x=0}^{2^n-1}|f(x)\\rangle \\sum_{i=0}^{2^n-1}(-1)^{x \\cdot i} \\vert i \\rangle\n",
        "          = \\frac{1}{2^n}\\sum_{x=0}^{2^n-1}\n",
        "            \\left[ \\sum_{i=0}^{2^n-1}(-1)^{x \\cdot i}\n",
        "            \\vert f(x) \\rangle \\vert i \\rangle \\right]\n",
        "\\end{aligned}\n",
        "$$\n",
        "</li><br>\n",
        "</ol>\n",
        "\n",
        "Sabemos que para cada $\\vert x \\rangle$ y para cada $\\vert i \\rangle$ se verifica que $\\vert f(x) \\rangle\\vert i \\rangle = \\vert f(x\\oplus c) \\rangle\\vert i \\rangle$. Para un par de este tipo, los sumandos son:\n",
        "\n",
        "$$\n",
        "\\frac{(-1)^{x \\cdot i} + (-1)^{(x\\oplus c) \\cdot i}}{2^n}\\vert f(x) \\rangle\\vert i \\rangle =\n",
        "\\frac{(-1)^{x \\cdot i} + (-1)^{(x\\cdot i)\\oplus (c\\cdot i)}}{2^n}\\vert f(x)\\rangle\\vert i\\rangle =\n",
        "\\frac{(-1)^{x \\cdot i}[1+(-1)^{c \\cdot i}]}{2^n}\\vert f(x)\\rangle\\vert i\\rangle\n",
        "$$\n",
        "\n",
        "Así, si $c \\cdot i = 1$ el termino correspondiente a $\\vert f(x)\\rangle\\vert i\\rangle$ se anula, y solo quedan los terminos para los que $c \\cdot i = 0$.\n",
        "\n",
        "Repitiendo varias veces la medida, podemos encontrar diferentes valores de $|i\\rangle$ y, a partir de esas ecuaciones, obtener $c$.\n",
        "\n",
        "**Ejemplo**\n",
        "\n",
        "Supongamos $f:\\{0,1\\}^3 \\rightarrow \\{0,1\\}^3$ tal que:\n",
        "$$\n",
        "f(0) = f(5) = 4\\\\\n",
        "f(1) = f(4) = 1\\\\\n",
        "f(2) = f(7) = 5\\\\\n",
        "f(3) = f(6) = 7\n",
        "$$\n",
        "\n",
        "Es fácil comprobar que $f$ cumple los requisitos para aplicar el algoritmo de Simon.\n",
        "\n",
        "Aplicando los pasos anteriores, en el paso 3 tenemos:\n",
        "\n",
        "   \n",
        "       \n",
        "$$\n",
        "\\lvert \\psi_3 \\rangle\n",
        "                 = \\frac{1}{8}\\sum_{x=0}^{7}\n",
        "                    \\sum_{i=0}^{7}(-1)^{x \\cdot i}\n",
        "                    \\vert f(x)\\rangle\\vert i\\rangle =\n",
        "                    \\frac{1}{8}[\\\\\n",
        "|f(0)\\rangle|0\\rangle +  |f(0)\\rangle|1\\rangle +  |f(0)\\rangle|2\\rangle +  |f(0)\\rangle|3\\rangle + \\\\\n",
        "|f(0)\\rangle|4\\rangle +  |f(0)\\rangle|5\\rangle +  |f(0)\\rangle|6\\rangle +  |f(0)\\rangle|7\\rangle +\\\\[5pt]\n",
        "|f(1)\\rangle|0\\rangle -  |f(1)\\rangle|1\\rangle +  |f(1)\\rangle|2\\rangle -  |f(1)\\rangle|3\\rangle + \\\\\n",
        "|f(1)\\rangle|4\\rangle -  |f(1)\\rangle|5\\rangle +  |f(1)\\rangle|6\\rangle -  |f(1)\\rangle|7\\rangle +\\\\[5pt]\n",
        "|f(2)\\rangle|0\\rangle +  |f(2)\\rangle|1\\rangle -  |f(2)\\rangle|2\\rangle -  |f(2)\\rangle|3\\rangle + \\\\\n",
        "|f(2)\\rangle|4\\rangle +  |f(2)\\rangle|5\\rangle -  |f(2)\\rangle|6\\rangle -  |f(2)\\rangle|7\\rangle +\\\\[5pt]\n",
        "|f(3)\\rangle|0\\rangle -  |f(3)\\rangle|1\\rangle -  |f(3)\\rangle|2\\rangle +  |f(3)\\rangle|3\\rangle + \\\\\n",
        "|f(3)\\rangle|4\\rangle -  |f(3)\\rangle|5\\rangle -  |f(3)\\rangle|6\\rangle +  |f(3)\\rangle|7\\rangle +\\\\[5pt]\n",
        "|f(4)\\rangle|0\\rangle +  |f(4)\\rangle|1\\rangle +  |f(4)\\rangle|2\\rangle +  |f(4)\\rangle|3\\rangle - \\\\\n",
        "|f(4)\\rangle|4\\rangle -  |f(4)\\rangle|5\\rangle -  |f(4)\\rangle|6\\rangle -  |f(4)\\rangle|7\\rangle +\\\\[5pt]\n",
        "|f(5)\\rangle|0\\rangle -  |f(5)\\rangle|1\\rangle +  |f(5)\\rangle|2\\rangle -  |f(5)\\rangle|3\\rangle - \\\\\n",
        "|f(5)\\rangle|4\\rangle +  |f(5)\\rangle|5\\rangle -  |f(5)\\rangle|6\\rangle +  |f(5)\\rangle|7\\rangle +\\\\[5pt]\n",
        "|f(6)\\rangle|0\\rangle +  |f(6)\\rangle|1\\rangle -  |f(6)\\rangle|2\\rangle -  |f(6)\\rangle|3\\rangle - \\\\\n",
        "|f(6)\\rangle|4\\rangle -  |f(6)\\rangle|5\\rangle +  |f(6)\\rangle|6\\rangle +  |f(6)\\rangle|7\\rangle +\\\\[5pt]\n",
        "|f(7)\\rangle|0\\rangle -  |f(7)\\rangle|1\\rangle -  |f(7)\\rangle|2\\rangle +  |f(7)\\rangle|3\\rangle - \\\\\n",
        "|f(7)\\rangle|4\\rangle +  |f(7)\\rangle|5\\rangle +  |f(7)\\rangle|6\\rangle -  |f(7)\\rangle|7\\rangle\\ ]\n",
        "$$\n",
        "\n",
        "Substituyendo los valores de $f$:\n",
        "\n",
        "$$\n",
        "\\lvert \\psi_3 \\rangle = \\frac{1}{8}[\\\\\n",
        "|4\\rangle|0\\rangle +  |4\\rangle|1\\rangle +  |4\\rangle|2\\rangle +  |4\\rangle|3\\rangle +  \n",
        "|4\\rangle|4\\rangle +  |4\\rangle|5\\rangle +  |4\\rangle|6\\rangle +  |4\\rangle|7\\rangle +\\\\[5pt]\n",
        "|1\\rangle|0\\rangle -  |1\\rangle|1\\rangle +  |1\\rangle|2\\rangle -  |1\\rangle|3\\rangle +  \n",
        "|1\\rangle|4\\rangle -  |1\\rangle|5\\rangle +  |1\\rangle|6\\rangle -  |1\\rangle|7\\rangle +\\\\[5pt]\n",
        "|5\\rangle|0\\rangle +  |5\\rangle|1\\rangle -  |5\\rangle|2\\rangle -  |5\\rangle|3\\rangle +  \n",
        "|5\\rangle|4\\rangle +  |5\\rangle|5\\rangle -  |5\\rangle|6\\rangle -  |5\\rangle|7\\rangle +\\\\[5pt]\n",
        "|7\\rangle|0\\rangle -  |7\\rangle|1\\rangle -  |7\\rangle|2\\rangle +  |7\\rangle|3\\rangle +  \n",
        "|7\\rangle|4\\rangle -  |7\\rangle|5\\rangle -  |7\\rangle|6\\rangle +  |7\\rangle|7\\rangle +\\\\[5pt]\n",
        "|1\\rangle|0\\rangle +  |1\\rangle|1\\rangle +  |1\\rangle|2\\rangle +  |1\\rangle|3\\rangle -  \n",
        "|1\\rangle|4\\rangle -  |1\\rangle|5\\rangle -  |1\\rangle|6\\rangle -  |1\\rangle|7\\rangle +\\\\[5pt]\n",
        "|4\\rangle|0\\rangle -  |4\\rangle|1\\rangle +  |4\\rangle|2\\rangle -  |4\\rangle|3\\rangle -  \n",
        "|4\\rangle|4\\rangle +  |4\\rangle|5\\rangle -  |4\\rangle|6\\rangle +  |4\\rangle|7\\rangle +\\\\[5pt]\n",
        "|7\\rangle|0\\rangle +  |7\\rangle|1\\rangle -  |7\\rangle|2\\rangle -  |7\\rangle|3\\rangle -  \n",
        "|7\\rangle|4\\rangle -  |7\\rangle|5\\rangle +  |7\\rangle|6\\rangle +  |7\\rangle|7\\rangle +\\\\[5pt]\n",
        "|5\\rangle|0\\rangle -  |5\\rangle|1\\rangle -  |5\\rangle|2\\rangle +  |5\\rangle|3\\rangle -  \n",
        "|5\\rangle|4\\rangle +  |5\\rangle|5\\rangle +  |5\\rangle|6\\rangle -  |5\\rangle|7\\rangle\\ ]\n",
        "$$\n",
        "\n",
        "Simplificando:\n",
        "$$\n",
        "\\lvert \\psi_3 \\rangle = \\frac{1}{4}\\left[\\\\\n",
        "|4\\rangle|0\\rangle+|1\\rangle|0\\rangle+|5\\rangle|0\\rangle+|7\\rangle|0\\rangle+\\\\\n",
        "|4\\rangle|2\\rangle+|1\\rangle|2\\rangle-|5\\rangle|2\\rangle-|7\\rangle|2\\rangle+\\\\\n",
        "|4\\rangle|5\\rangle-|1\\rangle|5\\rangle+|5\\rangle|5\\rangle-|7\\rangle|5\\rangle+\\\\\n",
        "|4\\rangle|7\\rangle-|1\\rangle|7\\rangle-|5\\rangle|7\\rangle+|7\\rangle|7\\rangle\\ \\right]\n",
        "$$\n",
        "\n",
        "Que podemos escribir como:\n",
        "$$\n",
        "\\lvert \\psi_3 \\rangle = \\frac{1}{4}\\left[\\\\\n",
        "(|4\\rangle+|1\\rangle+|5\\rangle+|7\\rangle) \\otimes|0\\rangle+\\\\\n",
        "(|4\\rangle+|1\\rangle-|5\\rangle-|7\\rangle)\\otimes|2\\rangle+\\\\\n",
        "(|4\\rangle-|1\\rangle+|5\\rangle-|7\\rangle)\\otimes|5\\rangle+\\\\\n",
        "(|4\\rangle-|1\\rangle-|5\\rangle+|7\\rangle)\\otimes|7\\rangle\\ \\right]\n",
        "$$\n",
        "\n",
        "Al medir los 3 bits $|x\\rangle$ obtenemos, con igual probabilidad, $|000\\rangle$, $|010\\rangle$, $|101\\rangle$ o $|111\\rangle$. Para esos valores, su producto bit a bit por $c$ (módulo 2) da 0, por lo que tenemos, si $c=c_2c_1c_0$, con $c_i\\in \\{0,1\\}$, las siguientes ecuaciones:\n",
        "\n",
        "i. $|000\\rangle\\cdot c = 0\\cdot c_2\\oplus 0\\cdot c_1 \\oplus 0\\cdot c_0 = 0$\n",
        "\n",
        "ii. $|010\\rangle\\cdot c = 0\\cdot c_2\\oplus 1\\cdot c_1 \\oplus 0\\cdot c_0 = 0$\n",
        "\n",
        "iii. $|101\\rangle\\cdot c = 1\\cdot c_2\\oplus 0\\cdot c_1 \\oplus 1\\cdot c_0 = 0$\n",
        "\n",
        "iv. $|111\\rangle\\cdot c = 1\\cdot c_2\\oplus 1\\cdot c_1 \\oplus 1\\cdot c_0 = 0$\n",
        "\n",
        " la ecuación (ii) indica que $c_1 = 0$, la (iii) que $c_2\\oplus c_0 =0$ y la (iv) que $c_2\\oplus c_1 \\oplus c_0 =0$. Las únicas opciones para $c$ son $000$ o $101$, y como $c\\neq 0$, tenemos que $c=5$."
      ]
    },
    {
      "cell_type": "markdown",
      "id": "439b4488",
      "metadata": {
        "id": "439b4488"
      },
      "source": [
        "### Ejercicio 6\n",
        "\n",
        "Usamos el algoritmo de Simon para $n=3$ y obtenemos a la salida los siguientes estados: $|000\\rangle$, $|001\\rangle$, $|110\\rangle$ y $|111\\rangle$. ¿Cuánto vale $c$?"
      ]
    },
    {
      "cell_type": "markdown",
      "id": "a66e691e",
      "metadata": {
        "id": "a66e691e"
      },
      "source": []
    },
    {
      "cell_type": "markdown",
      "id": "73cae579",
      "metadata": {
        "id": "73cae579"
      },
      "source": [
        "### Oráculo para el algoritmo de Simon\n",
        "\n",
        "Supongamos $n=3$ y $c=110$. Una posible función es la siguiente:\n",
        "\n",
        "$$\n",
        "f(000) = f(110) = 000\\\\\n",
        "f(001) = f(111) = 001\\\\\n",
        "f(010) = f(100) = 100\\\\\n",
        "f(011) = f(101) = 101\n",
        "$$\n",
        "\n",
        "Esta función se define como sigue. Sea $i$ la posición del bit a 1 menos significativo de $c$ (en el ejemplo, $i=1$). Definimos f como:\n",
        "\n",
        "$$\n",
        "f(x) =\n",
        "\\begin{cases}\n",
        "x \\text{, si } x_i = 0\\\\\n",
        "x\\oplus c \\text{, si } x_i = 1\n",
        "\\end{cases}\n",
        "$$\n",
        "\n",
        "Para implementar esa función podemos hacer lo siguiente:\n",
        "\n",
        "1. Copiamos el valor de $|x\\rangle$ en los cúbits de ancilla para tener $|x\\rangle|x\\rangle$.\n",
        "2. Sea $i$ la posición del bit a 1 menos significativo de $c$. Usamos puertas CNOT con:\n",
        "   - Cúbit de control: $x_i$\n",
        "   - Cúbits target: todas las ancillas con $j\\ge i$ para las $j$ que verifiquen que $c_j = 1$.\n",
        "3. Adicionalmente, se pueden permutar e invertir las ancillas para introducir variabilidad."
      ]
    },
    {
      "cell_type": "code",
      "execution_count": null,
      "id": "e6a34ffc",
      "metadata": {
        "id": "e6a34ffc"
      },
      "outputs": [],
      "source": [
        "# Ejemplo de oráculo para n=3 y c=110\n",
        "# init es el valor inicial del registro x\n",
        "def simon_oraculo_simple(init):\n",
        "    x = QuantumRegister(3, name=\"|x\\\\rangle\")\n",
        "    ancilla = QuantumRegister(3, name=\"|ancilla\\\\rangle\")\n",
        "    meas = ClassicalRegister(3, name=\"Medida\")\n",
        "    qc = QuantumCircuit(x, ancilla, meas)\n",
        "    qc.initialize(init)\n",
        "\n",
        "    # Hacemos la copia de la x a las ancillas\n",
        "    qc.cx(x,ancilla)\n",
        "\n",
        "    qc.barrier()\n",
        "\n",
        "    qc.cx(x[1],ancilla[1])\n",
        "    qc.cx(x[1],ancilla[2])\n",
        "\n",
        "    qc.barrier()\n",
        "\n",
        "    qc.measure(ancilla, meas)\n",
        "    return(qc)"
      ]
    },
    {
      "cell_type": "code",
      "execution_count": null,
      "id": "3f75c4dd",
      "metadata": {
        "id": "3f75c4dd"
      },
      "outputs": [],
      "source": [
        "qc = simon_oraculo_simple(0)\n",
        "qc.draw('mpl')"
      ]
    },
    {
      "cell_type": "code",
      "source": [
        "# Probamos para diferentes valores\n",
        "sim = AerSimulator(method='automatic')\n",
        "for x in range(8):\n",
        "    qc = simon_oraculo_simple(x)\n",
        "\n",
        "    # Ejecutamos una simulación y obtenemos los resultados\n",
        "    qc_obj = transpile(qc, sim)\n",
        "    salida = sim.run(qc_obj, shots=1).result().get_counts()\n",
        "\n",
        "    print('f({0:03b}) = {1}'.format(x,list(salida.keys())[0]))"
      ],
      "metadata": {
        "id": "jsX3zt0FvUKU"
      },
      "id": "jsX3zt0FvUKU",
      "execution_count": null,
      "outputs": []
    },
    {
      "cell_type": "markdown",
      "id": "99e5da51",
      "metadata": {
        "id": "99e5da51"
      },
      "source": [
        "### Ejercicio 7\n",
        "\n",
        "Programa en Qiskit un oráculo para el algoritmo de Simon que implemente la función:$f:\\{0,1\\}^3 \\rightarrow \\{0,1\\}^3$ tal que:\n",
        "\n",
        "$$\n",
        "f(0) = f(5) = 4\\\\\n",
        "f(1) = f(4) = 5\\\\\n",
        "f(2) = f(7) = 6\\\\\n",
        "f(3) = f(6) = 7\n",
        "$$"
      ]
    },
    {
      "cell_type": "code",
      "execution_count": null,
      "id": "a93e00c4",
      "metadata": {
        "id": "a93e00c4"
      },
      "outputs": [],
      "source": []
    },
    {
      "cell_type": "markdown",
      "id": "b263cc7d",
      "metadata": {
        "id": "b263cc7d"
      },
      "source": [
        "-------------------------------\n",
        "--------------------------------\n",
        "---------------------------------"
      ]
    }
  ],
  "metadata": {
    "kernelspec": {
      "display_name": "Python 3 (ipykernel)",
      "language": "python",
      "name": "python3"
    },
    "language_info": {
      "codemirror_mode": {
        "name": "ipython",
        "version": 3
      },
      "file_extension": ".py",
      "mimetype": "text/x-python",
      "name": "python",
      "nbconvert_exporter": "python",
      "pygments_lexer": "ipython3",
      "version": "3.12.2"
    },
    "colab": {
      "provenance": [],
      "include_colab_link": true
    }
  },
  "nbformat": 4,
  "nbformat_minor": 5
}