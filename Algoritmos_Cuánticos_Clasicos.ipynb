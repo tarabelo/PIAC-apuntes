{
  "nbformat": 4,
  "nbformat_minor": 0,
  "metadata": {
    "colab": {
      "provenance": [],
      "authorship_tag": "ABX9TyMlGA8o4SyL254Nr0/qHvfU",
      "include_colab_link": true
    },
    "kernelspec": {
      "name": "python3",
      "display_name": "Python 3"
    },
    "language_info": {
      "name": "python"
    }
  },
  "cells": [
    {
      "cell_type": "markdown",
      "metadata": {
        "id": "view-in-github",
        "colab_type": "text"
      },
      "source": [
        "<a href=\"https://colab.research.google.com/github/tarabelo/PIAC-apuntes/blob/main/Algoritmos_Cu%C3%A1nticos_Clasicos.ipynb\" target=\"_parent\"><img src=\"https://colab.research.google.com/assets/colab-badge.svg\" alt=\"Open In Colab\"/></a>"
      ]
    },
    {
      "cell_type": "code",
      "execution_count": 1,
      "metadata": {
        "colab": {
          "base_uri": "https://localhost:8080/"
        },
        "id": "j6g5a-YB8UdV",
        "outputId": "fb193882-04ee-4aa2-930e-42da87a1ea94"
      },
      "outputs": [
        {
          "output_type": "stream",
          "name": "stdout",
          "text": [
            "Requirement already satisfied: qiskit in /usr/local/lib/python3.10/dist-packages (1.2.4)\n",
            "Requirement already satisfied: qiskit-aer in /usr/local/lib/python3.10/dist-packages (0.15.1)\n",
            "Requirement already satisfied: pylatexenc in /usr/local/lib/python3.10/dist-packages (2.10)\n",
            "Requirement already satisfied: rustworkx>=0.15.0 in /usr/local/lib/python3.10/dist-packages (from qiskit) (0.15.1)\n",
            "Requirement already satisfied: numpy<3,>=1.17 in /usr/local/lib/python3.10/dist-packages (from qiskit) (1.26.4)\n",
            "Requirement already satisfied: scipy>=1.5 in /usr/local/lib/python3.10/dist-packages (from qiskit) (1.13.1)\n",
            "Requirement already satisfied: sympy>=1.3 in /usr/local/lib/python3.10/dist-packages (from qiskit) (1.13.1)\n",
            "Requirement already satisfied: dill>=0.3 in /usr/local/lib/python3.10/dist-packages (from qiskit) (0.3.9)\n",
            "Requirement already satisfied: python-dateutil>=2.8.0 in /usr/local/lib/python3.10/dist-packages (from qiskit) (2.8.2)\n",
            "Requirement already satisfied: stevedore>=3.0.0 in /usr/local/lib/python3.10/dist-packages (from qiskit) (5.3.0)\n",
            "Requirement already satisfied: typing-extensions in /usr/local/lib/python3.10/dist-packages (from qiskit) (4.12.2)\n",
            "Requirement already satisfied: symengine<0.14,>=0.11 in /usr/local/lib/python3.10/dist-packages (from qiskit) (0.13.0)\n",
            "Requirement already satisfied: psutil>=5 in /usr/local/lib/python3.10/dist-packages (from qiskit-aer) (5.9.5)\n",
            "Requirement already satisfied: six>=1.5 in /usr/local/lib/python3.10/dist-packages (from python-dateutil>=2.8.0->qiskit) (1.16.0)\n",
            "Requirement already satisfied: pbr>=2.0.0 in /usr/local/lib/python3.10/dist-packages (from stevedore>=3.0.0->qiskit) (6.1.0)\n",
            "Requirement already satisfied: mpmath<1.4,>=1.1.0 in /usr/local/lib/python3.10/dist-packages (from sympy>=1.3->qiskit) (1.3.0)\n"
          ]
        }
      ],
      "source": [
        "# Instalamos qiskit en el notebook\n",
        "!pip install qiskit qiskit-aer pylatexenc"
      ]
    },
    {
      "cell_type": "code",
      "source": [
        "import numpy as np\n",
        "from math import sqrt\n",
        "\n",
        "# importing Qiskit\n",
        "from qiskit import QuantumCircuit, QuantumRegister, ClassicalRegister, transpile\n",
        "from qiskit.quantum_info import Statevector\n",
        "from qiskit_aer import AerSimulator, UnitarySimulator, StatevectorSimulator\n",
        "\n",
        "# import basic plot tools\n",
        "from qiskit.visualization import plot_histogram\n",
        "\n",
        "# Funciones auxiliares\n",
        "\n",
        "# Función para simular y mostrar el vector de estado\n",
        "def obten_estado(qcirc, etiqueta=\"|\\psi\\!\\!> = \", bloch=False):\n",
        "    # Usamos el simulador de vector de estado\n",
        "    # https://qiskit.github.io/qiskit-aer/stubs/qiskit_aer.StatevectorSimulator.html\n",
        "    sim = StatevectorSimulator()\n",
        "    qc_obj = transpile(qcirc, sim)\n",
        "    result = sim.run(qc_obj).result()\n",
        "    estado = result.get_statevector()\n",
        "    display(estado.draw('latex', prefix=etiqueta))\n",
        "    if bloch:\n",
        "      display(estado.draw('bloch'))\n",
        "\n",
        "# Funcion para obtener y mostrar la matriz unitaria\n",
        "def obten_unitaria(qcirc, etiqueta):\n",
        "    # Usamos el simulador de matriz unitaria\n",
        "    # https://qiskit.github.io/qiskit-aer/stubs/qiskit_aer.UnitarySimulator.html\n",
        "    sim_u = UnitarySimulator()\n",
        "    qc_obj = transpile(qcirc, sim_u)\n",
        "    result = sim_u.run(qcirc).result()\n",
        "    unitary = result.get_unitary(qcirc)\n",
        "    display(unitary.draw('latex', prefix=etiqueta))"
      ],
      "metadata": {
        "id": "R2XceCZ4-DWY"
      },
      "execution_count": 10,
      "outputs": []
    },
    {
      "cell_type": "markdown",
      "source": [
        "# Algoritmos cuánticos \"clásicos\"\n",
        "\n",
        "Algoritmos que presentan una ventaja real sobre sus homólogos clásicos.\n",
        "\n",
        "Algunas características:\n",
        " - Introducidos en los años 90 del siglo XX\n",
        " - Suponen que tenemos computadores cuánticos ideales\n",
        " - Algunos de ellos carecen de utilidad práctica, mientras que otros suelen formar parte de algoritmos más complejos."
      ],
      "metadata": {
        "id": "jZQaVpLk9Xng"
      }
    },
    {
      "cell_type": "markdown",
      "source": [
        "### Contenidos\n",
        "\n",
        "1. [Paralelismo cuántico](#paralelismo)\n",
        "1. [Oráculos cuánticos](#oraculo)\n",
        "2. [Algoritmo de Deutsch](#deutsch)\n",
        "3. [Algoritmo de Deutsch-Jozsa](#dj)\n",
        "4. [Algoritmo de Bernstein-Vazirani](#bv)\n",
        "4. [Algoritmo de periodicidad de Simon](#simon)\n",
        "5. [Algoritmo de búsqueda de Grover: amplificación de amplitud](#grover)"
      ],
      "metadata": {
        "id": "WLAD_q2Q9ixD"
      }
    },
    {
      "cell_type": "markdown",
      "source": [
        "# Paralelismo cuántico <a id=\"paralelismo\"></a>\n",
        "\n",
        "Permite evaluar una función $f(x)$ para múltiples valores de $x$ simultáneamente."
      ],
      "metadata": {
        "id": "97FAxhe19mEV"
      }
    },
    {
      "cell_type": "markdown",
      "source": [
        "Sea $f(x): \\{0,1\\}\\rightarrow\\{0,1\\}$. Para poder usar esa función en un sistema cuántico tenemos que obtener una unitaria $U_f$ que la implemente. Una forma simple es:\n",
        "\n",
        "<center><img src=\"https://drive.google.com/uc?export=view&id=1wE_Ts7MoneY2S4p11SqYHT4o0_SI7vEd\" alt=\"Puerta reversible\" width=\"300\"  /></center>\n",
        "\n",
        "Al cúbit auxiliar $|y\\rangle$ se le denomina *ancilla*\n",
        "\n",
        "\n",
        "Es fácil ver que $U_f$ es su propia inversa:\n",
        "\n",
        "<center><img src=\"https://drive.google.com/uc?export=view&id=1pHBMmR3su74ziSuXJK0p9zr1sAGejti_\" alt=\"Puerta reversible demo\" width=\"600\"  /></center>"
      ],
      "metadata": {
        "id": "Ke4rda7Y9pMd"
      }
    },
    {
      "cell_type": "markdown",
      "source": [
        "Para un sistema de dos cúbits $|yx\\rangle=|y\\rangle\\otimes|x\\rangle$ (siguiendo el orden de Qiskit) tenemos:\n",
        "\n",
        "$$\n",
        "U_f|yx\\rangle = |y\\oplus f(x)\\rangle\\otimes|x\\rangle\n",
        "$$\n",
        "\n",
        "Si hacemos $|x\\rangle = \\tfrac{1}{\\sqrt{2}}(|0\\rangle+|1\\rangle)$ e $|y\\rangle=|0\\rangle$:\n",
        "\n",
        "$$\n",
        "\\begin{aligned}\n",
        "U_f\\left(|0\\rangle\\otimes|\\tfrac{1}{\\sqrt{2}}(|0\\rangle+|1\\rangle)\\rangle\\right) &\n",
        "= U_f\\left(|\\tfrac{1}{\\sqrt{2}}(|00\\rangle+|01\\rangle)\\right)\n",
        "= \\tfrac{1}{\\sqrt{2}}\\left(U_f|00\\rangle+U_f|01\\rangle\\right) \\\\\n",
        "& = \\tfrac{1}{\\sqrt{2}}\\left(|0\\oplus f(0)\\rangle\\otimes|0\\rangle+|0\\oplus f(1)\\rangle\\otimes|1\\rangle\\right)\n",
        "= \\tfrac{1}{\\sqrt{2}}\\left(|f(0)\\rangle\\otimes|0\\rangle+|f(1)\\rangle\\otimes|1\\rangle\\right)\n",
        "\\end{aligned}\n",
        "$$\n",
        "\n",
        "Una única aplicación de $U_f$ obtiene a la vez $f(0)$ y $f(1)$.\n",
        "\n",
        "Este resultado se puede generalizar a un estado de $n$ cubits $|\\psi\\rangle = \\tfrac{1}{\\sqrt{2^n}}\\sum_{i=0}^{2^n-1} |i\\rangle$:\n",
        "\n",
        "$$\n",
        "U_f\\left(|0\\rangle\\otimes|\\psi\\rangle\\right) = \\frac{1}{\\sqrt{2^n}}\\sum_{i=0}^{2^n-1} |f(i)\\rangle\\otimes|i\\rangle\n",
        "$$\n",
        "\n",
        "Se evalúan simultáneamente todos los $f(x), \\forall x=0\\ldots 2^{n-1}$!\n",
        "\n",
        "&nbsp;\n",
        "\n",
        "<details><summary>¿Sirve esto para algo?</summary>\n",
        "Realmente, este paralelismo no sirve de mucho, ya que al medir solo vamos a obtener un valor de  $|i,f(i)\\rangle$ (y, además, no sabemos cuál va a ser!).\n",
        "</details>"
      ],
      "metadata": {
        "id": "5y3rhJJs9vsf"
      }
    },
    {
      "cell_type": "markdown",
      "source": [
        "# Oráculos cuánticos <a id=\"oraculo\"></a>\n",
        "\n",
        "Función de \"caja negra\" de la que solo podemos conocer su salida dada una entrada.\n",
        "\n",
        "Los primeros algoritmos que veremos permiten extraer propiedades de un oráculo.\n",
        "\n",
        "\n",
        "#### Ejemplo:\n",
        "\n",
        "Sea una función $f(x): \\{0,1\\}\\rightarrow\\{0,1\\}$. Solo hay 4 versiones de esta función:\n",
        "\n",
        "<center><img src=\"https://drive.google.com/uc?export=view&id=1hLNmVOxHoBaCkN6zYnEV3YP10aXIhwJk\" alt=\"Oráculo\" width=\"600\"  /></center>\n",
        "\n",
        "\n",
        "Estas funciones pueden expresarse como matrices:\n",
        "\n",
        "$$\n",
        "f_0 = \\begin{bmatrix}1 & 0\\\\0 & 1\\end{bmatrix}\\qquad\n",
        "f_1 = \\begin{bmatrix}0 & 1\\\\1 & 0\\end{bmatrix}\\qquad\n",
        "f_2 = \\begin{bmatrix}1 & 1\\\\0 & 0\\end{bmatrix}\\qquad\n",
        "f_3 = \\begin{bmatrix}0 & 0\\\\1 & 1\\end{bmatrix}\n",
        "$$\n",
        "\n",
        "Podemos convertir esas matrices en unitarias $U_{f_i}$ para usar en el circuito anterior.\n",
        "\n",
        "Por ejemplo, para $f_0$, podemos obtener la matriz correspondiente a $U_f$ a partir de la siguiente tabla:\n",
        "\n",
        "<center><img src=\"https://drive.google.com/uc?export=view&id=1q0VWpLV2AvreY43Jms_UMfs0Ahb8tRIM\" alt=\"Tabla f0\" width=\"400\"  /></center>\n",
        "\n",
        "\n",
        "Por tanto la matriz $U_{f_0}$ es:\n",
        "\n",
        "$$\n",
        "U_{f_0} =\n",
        "\\begin{bmatrix}\n",
        "1 & 0 & 0 & 0\\\\\n",
        "0 & 0 & 0 & 1\\\\\n",
        "0 & 0 & 1 & 0\\\\\n",
        "0 & 1 & 0 & 0\\end{bmatrix}\n",
        "$$"
      ],
      "metadata": {
        "id": "A6qBCMGFEfia"
      }
    },
    {
      "cell_type": "markdown",
      "source": [
        "### Ejercicio 1\n",
        "\n",
        "Obtén las matrices para las otras tres funciones."
      ],
      "metadata": {
        "id": "8lgnDoyAH1pP"
      }
    },
    {
      "cell_type": "markdown",
      "source": [],
      "metadata": {
        "id": "ZPePiKTFKpM7"
      }
    },
    {
      "cell_type": "markdown",
      "source": [
        "-----------------------------"
      ],
      "metadata": {
        "id": "LDEGq0ydH7wx"
      }
    },
    {
      "cell_type": "markdown",
      "source": [
        "La matriz $U_{f_0}$ corresponde a una puerta CNOT:"
      ],
      "metadata": {
        "id": "KX9d6iEuH8yb"
      }
    },
    {
      "cell_type": "code",
      "source": [
        "x = QuantumRegister(1, name=\"|x\\\\rangle\")\n",
        "y = QuantumRegister(1, name=\"|y\\\\rangle\")\n",
        "qc = QuantumCircuit(x,y)\n",
        "# Aplica CNOT, primer parámetro target, segundo control\n",
        "qc.cx(x,y)\n",
        "qc.draw('mpl')"
      ],
      "metadata": {
        "colab": {
          "base_uri": "https://localhost:8080/",
          "height": 211
        },
        "id": "IvXgViOeIATB",
        "outputId": "8b276b9e-9713-4abf-abd0-30eca4fc248d"
      },
      "execution_count": 2,
      "outputs": [
        {
          "output_type": "execute_result",
          "data": {
            "text/plain": [
              "<Figure size 209.693x200.667 with 1 Axes>"
            ],
            "image/png": "[encoded data removed]"
          },
          "metadata": {},
          "execution_count": 2
        }
      ]
    },
    {
      "cell_type": "code",
      "source": [
        "obten_unitaria(qc, \"U_{f_0} = \")"
      ],
      "metadata": {
        "colab": {
          "base_uri": "https://localhost:8080/",
          "height": 118
        },
        "id": "Kg25wbQXII7X",
        "outputId": "671693a3-a682-42ad-d546-5c2352eeeb22"
      },
      "execution_count": 3,
      "outputs": [
        {
          "output_type": "display_data",
          "data": {
            "text/plain": [
              "<IPython.core.display.Latex object>"
            ],
            "text/latex": "$$\nU_{f_0} = \n\\begin{bmatrix}\n1 & 0 & 0 & 0  \\\\\n 0 & 0 & 0 & 1  \\\\\n 0 & 0 & 1 & 0  \\\\\n 0 & 1 & 0 & 0  \\\\\n \\end{bmatrix}\n$$"
          },
          "metadata": {}
        }
      ]
    },
    {
      "cell_type": "markdown",
      "source": [
        "Qiskit permite definir este circuito como una puerta:"
      ],
      "metadata": {
        "id": "xF7dIRY6Irr4"
      }
    },
    {
      "cell_type": "code",
      "source": [
        "# Oráculo para f0\n",
        "def f0_oraculo():\n",
        "    \"\"\"\n",
        "    Define un oraculo para la funcion f0\n",
        "        return: circuito de 2 cúbit en forma de puerta\n",
        "    \"\"\"\n",
        "    x = QuantumRegister(1, name=\"|x\\\\rangle\")\n",
        "    y = QuantumRegister(1, name=\"|y\\\\rangle\")\n",
        "    qc = QuantumCircuit(x,y)\n",
        "    # Aplica CNOT, primer parámetro target, segundo control\n",
        "    qc.cx(x,y)\n",
        "\n",
        "    oraculo = qc.to_gate()\n",
        "    oraculo.name = \"$U_{f_0}$\"\n",
        "    return(oraculo)"
      ],
      "metadata": {
        "id": "YtL81WMmIQ6P"
      },
      "execution_count": 4,
      "outputs": []
    },
    {
      "cell_type": "markdown",
      "source": [
        "### Demostración del paralelismo cuántico\n",
        "\n",
        "Podemos ver como funciona el paralelismo cuántico haciendo un circuito en Qiskit con el oraculo asociado a $f_0$."
      ],
      "metadata": {
        "id": "VdIVDFCwI3UZ"
      }
    },
    {
      "cell_type": "code",
      "source": [
        "x = QuantumRegister(1, name=\"|x\\\\rangle\")\n",
        "y = QuantumRegister(1, name=\"|y\\\\rangle\")\n",
        "qc = QuantumCircuit(x,y)\n",
        "estado_mas = Statevector([1/sqrt(2), 1/sqrt(2)])\n",
        "qc.initialize(estado_mas,0)\n",
        "\n",
        "# Añadimos el oráculo\n",
        "qc = qc.compose(f0_oraculo())\n",
        "\n",
        "qc.draw('mpl')"
      ],
      "metadata": {
        "colab": {
          "base_uri": "https://localhost:8080/",
          "height": 211
        },
        "id": "6wFUm41nIvZL",
        "outputId": "d871e62c-0862-412d-ec04-73f028f5a74f"
      },
      "execution_count": 7,
      "outputs": [
        {
          "output_type": "execute_result",
          "data": {
            "text/plain": [
              "<Figure size 376.915x200.667 with 1 Axes>"
            ],
            "image/png": "[encoded data removed]"
          },
          "metadata": {},
          "execution_count": 7
        }
      ]
    },
    {
      "cell_type": "code",
      "source": [
        "obten_estado(qc)"
      ],
      "metadata": {
        "colab": {
          "base_uri": "https://localhost:8080/",
          "height": 61
        },
        "id": "qM2dglSVJOBK",
        "outputId": "3d6dfa89-a51a-455e-ec8d-a3d27130cece"
      },
      "execution_count": 14,
      "outputs": [
        {
          "output_type": "display_data",
          "data": {
            "text/plain": [
              "<IPython.core.display.Latex object>"
            ],
            "text/latex": "$$|\\psi\\!\\!> = \\frac{\\sqrt{2}}{2} |00\\rangle+\\frac{\\sqrt{2}}{2} |11\\rangle$$"
          },
          "metadata": {}
        }
      ]
    },
    {
      "cell_type": "markdown",
      "source": [
        "Se trata del estado:\n",
        "$$\n",
        "|\\psi\\rangle = \\tfrac{1}{\\sqrt{2}}(|00\\rangle+|11\\rangle) = \\tfrac{1}{\\sqrt{2}}(|f_0(0),0\\rangle+|f_1(1),1\\rangle)\n",
        "$$"
      ],
      "metadata": {
        "id": "ZcfUl6SPKtbz"
      }
    },
    {
      "cell_type": "markdown",
      "source": [
        "### Ejercicio 2\n",
        "\n",
        "Crea funciones oráculo en Qiskit para las otras 3 matrices y prueba el paralelismo cuantico en los 3 casos."
      ],
      "metadata": {
        "id": "gqCy1viQKyVn"
      }
    },
    {
      "cell_type": "code",
      "source": [],
      "metadata": {
        "id": "At6xQiwaMeWq"
      },
      "execution_count": null,
      "outputs": []
    },
    {
      "cell_type": "markdown",
      "source": [
        "## Complejidad de consultas\n",
        "\n",
        "En un algoritmo que hace uso de un oráculo, se denomina complejidad de consultas (*query complexity*) al número medio de *consultas* al oráculo que se necesitan para resolver el problema.\n",
        "\n",
        "La complejidad se expresa a través de la *notación asintótica*, principalmente la notación *Big-O*.\n",
        "\n",
        "Así, si el número $n$ de accesos al oráculo crece exponencialmente, la complejidad será $\\mathcal{O}\\left(2^n\\right)$ y si lo hace linealmente $\\mathcal{O}\\left(n\\right)$.\n",
        "\n",
        "Los algoritmos cuánticos que veremos a continuación tienen una menor complejidad de consultas que sus equivalentes clásicos."
      ],
      "metadata": {
        "id": "nGbqudHDMexY"
      }
    },
    {
      "cell_type": "markdown",
      "source": [],
      "metadata": {
        "id": "4Qe3g7YjMoSJ"
      }
    }
  ]
}