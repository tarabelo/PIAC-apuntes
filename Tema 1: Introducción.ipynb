{
  "cells": [
    {
      "cell_type": "markdown",
      "metadata": {
        "id": "view-in-github",
        "colab_type": "text"
      },
      "source": [
        "<a href=\"https://colab.research.google.com/github/tarabelo/PIAC-apuntes/blob/main/Tema%201%3A%20Introducci%C3%B3n.ipynb\" target=\"_parent\"><img src=\"https://colab.research.google.com/assets/colab-badge.svg\" alt=\"Open In Colab\"/></a>"
      ]
    },
    {
      "cell_type": "code",
      "source": [
        "# Instalamos qiskit en el notebook\n",
        "!pip install qiskit qiskit-aer pylatexenc"
      ],
      "metadata": {
        "id": "T0gD2RamevFL"
      },
      "id": "T0gD2RamevFL",
      "execution_count": null,
      "outputs": []
    },
    {
      "cell_type": "code",
      "execution_count": null,
      "id": "formal-celebration",
      "metadata": {
        "id": "formal-celebration"
      },
      "outputs": [],
      "source": [
        "import numpy as np\n",
        "from math import sqrt\n",
        "\n",
        "# importing Qiskit\n",
        "from qiskit import QuantumCircuit, QuantumRegister, ClassicalRegister, transpile\n",
        "from qiskit.quantum_info import Statevector\n",
        "from qiskit_aer import AerSimulator\n",
        "# import basic plot tools\n",
        "from qiskit.visualization import plot_histogram\n",
        "\n",
        "# Funciones auxiliares\n",
        "\n",
        "# Función para simular y mostrar el vector de estado\n",
        "def obten_estado(qcirc, etiqueta=\"|\\psi\\!\\!> = \", bloch=False):\n",
        "    # Usamos el simulador de vector de estado\n",
        "    # https://qiskit.github.io/qiskit-aer/stubs/qiskit_aer.AerSimulator.html\n",
        "    sim = AerSimulator(method='statevector')\n",
        "    qc_obj = transpile(qcirc, sim)\n",
        "    result = sim.run(qc_obj).result()\n",
        "    estado = result.get_statevector()\n",
        "    display(estado.draw('latex', prefix=etiqueta))\n",
        "    if bloch:\n",
        "      display(estado.draw('bloch'))\n",
        "\n",
        "# Funcion para obtener y mostrar la matriz unitaria\n",
        "def obten_unitaria(qcirc, etiqueta):\n",
        "    # Usamos el simulador de matriz unitaria\n",
        "    sim_u = AerSimulator(method='unitary')\n",
        "    qc_obj = transpile(qcirc, sim_u)\n",
        "    result = sim_u.run(qcirc).result()\n",
        "    unitary = result.get_unitary(qcirc)\n",
        "    display(unitary.draw('latex', prefix=etiqueta))"
      ]
    },
    {
      "cell_type": "markdown",
      "id": "substantial-medline",
      "metadata": {
        "id": "substantial-medline"
      },
      "source": [
        "# Tema 1: Introducción\n",
        "\n",
        "### Contenidos\n",
        "\n",
        "1. [Paralelismo cuántico](#paralelismo)\n",
        "1. [Oráculos cuánticos](#oraculos)\n",
        "1. [Complejidad de consultas](#complejidad)\n",
        "\n"
      ]
    },
    {
      "cell_type": "markdown",
      "id": "parental-continent",
      "metadata": {
        "id": "parental-continent"
      },
      "source": [
        "# Paralelismo cuántico <a name=\"paralelismo\"></a>\n",
        "\n",
        "Permite evaluar una función $f(x)$ para múltiples valores de $x$ simultáneamente."
      ]
    },
    {
      "cell_type": "markdown",
      "id": "failing-jason",
      "metadata": {
        "id": "failing-jason"
      },
      "source": [
        "Sea $f(x): \\{0,1\\}\\rightarrow\\{0,1\\}$. Para poder usar esa función en un sistema cuántico tenemos que obtener una unitaria $U_f$ que la implemente. Una forma simple es:\n",
        "\n",
        "<center><img src=\"https://drive.google.com/uc?export=view&id=1wE_Ts7MoneY2S4p11SqYHT4o0_SI7vEd\" alt=\"Puerta reversible\" width=\"300\"  /></center>\n",
        "\n",
        "Al cúbit auxiliar $|y\\rangle$ se le denomina *ancilla*\n",
        "\n",
        "\n",
        "Es fácil ver que $U_f$ es su propia inversa:\n",
        "\n",
        "<center><img src=\"https://drive.google.com/uc?export=view&id=1pHBMmR3su74ziSuXJK0p9zr1sAGejti_\" alt=\"Puerta reversible demo\" width=\"600\"  /></center>\n"
      ]
    },
    {
      "cell_type": "markdown",
      "id": "f3375ca1",
      "metadata": {
        "id": "f3375ca1"
      },
      "source": [
        "Para un sistema de dos cúbits $|yx\\rangle=|y\\rangle\\otimes|x\\rangle$ (siguiendo el orden de Qiskit) tenemos:\n",
        "\n",
        "$$\n",
        "U_f|yx\\rangle = |y\\oplus f(x)\\rangle\\otimes|x\\rangle\n",
        "$$\n",
        "\n",
        "Si hacemos $|x\\rangle = \\tfrac{1}{\\sqrt{2}}(|0\\rangle+|1\\rangle)$ e $|y\\rangle=|0\\rangle$:\n",
        "\n",
        "$$\n",
        "\\begin{aligned}\n",
        "U_f\\left(|0\\rangle\\otimes|\\tfrac{1}{\\sqrt{2}}(|0\\rangle+|1\\rangle)\\rangle\\right) &\n",
        "= U_f\\left(|\\tfrac{1}{\\sqrt{2}}(|00\\rangle+|01\\rangle)\\right)\n",
        "= \\tfrac{1}{\\sqrt{2}}\\left(U_f|00\\rangle+U_f|01\\rangle\\right) \\\\\n",
        "& = \\tfrac{1}{\\sqrt{2}}\\left(|0\\oplus f(0)\\rangle\\otimes|0\\rangle+|0\\oplus f(1)\\rangle\\otimes|1\\rangle\\right)\n",
        "= \\tfrac{1}{\\sqrt{2}}\\left(|f(0)\\rangle\\otimes|0\\rangle+|f(1)\\rangle\\otimes|1\\rangle\\right)\n",
        "\\end{aligned}\n",
        "$$\n",
        "\n",
        "Una única aplicación de $U_f$ obtiene a la vez $f(0)$ y $f(1)$.\n",
        "\n",
        "Este resultado se puede generalizar a un estado de $n$ cubits $|\\psi\\rangle = \\tfrac{1}{\\sqrt{2^n}}\\sum_{i=0}^{2^n-1} |i\\rangle$:\n",
        "\n",
        "$$\n",
        "U_f\\left(|0\\rangle\\otimes|\\psi\\rangle\\right) = \\frac{1}{\\sqrt{2^n}}\\sum_{i=0}^{2^n-1} |f(i)\\rangle\\otimes|i\\rangle\n",
        "$$\n",
        "\n",
        "Se evalúan simultáneamente todos los $f(x), \\forall x=0\\ldots 2^{n-1}$!\n",
        "\n",
        "&nbsp;\n",
        "\n",
        "<details><summary>¿Sirve esto para algo?</summary>\n",
        "Realmente, este paralelismo no sirve de mucho, ya que al medir solo vamos a obtener un valor de  $|i,f(i)\\rangle$ (y, además, no sabemos cuál va a ser!).\n",
        "</details>"
      ]
    },
    {
      "cell_type": "markdown",
      "source": [
        "\n",
        "\n",
        "---\n",
        "\n",
        "\n",
        "\n",
        "---\n",
        "\n",
        "\n",
        "\n",
        "---\n",
        "\n"
      ],
      "metadata": {
        "id": "XjxvrSM_r-ex"
      },
      "id": "XjxvrSM_r-ex"
    },
    {
      "cell_type": "markdown",
      "id": "5a86052a",
      "metadata": {
        "id": "5a86052a"
      },
      "source": [
        "# Oráculos cuánticos <a name=\"oraculos\"></a>"
      ]
    },
    {
      "cell_type": "markdown",
      "id": "4971c046",
      "metadata": {
        "id": "4971c046"
      },
      "source": [
        "# Oráculos <a name=\"oraculo\"></a>\n",
        "\n",
        "Función de \"caja negra\" de la que solo podemos conocer su salida dada una entrada.\n",
        "\n",
        "Los primeros algoritmos que veremos permiten extraer propiedades de un oráculo.\n",
        "\n",
        "\n",
        "#### Ejemplo:\n",
        "\n",
        "Sea una función $f(x): \\{0,1\\}\\rightarrow\\{0,1\\}$. Solo hay 4 versiones de esta función:\n",
        "\n",
        "<center><img src=\"https://drive.google.com/uc?export=view&id=1hLNmVOxHoBaCkN6zYnEV3YP10aXIhwJk\" alt=\"Oráculo\" width=\"600\"  /></center>\n",
        "\n",
        "\n",
        "Estas funciones pueden expresarse como matrices:\n",
        "\n",
        "$$\n",
        "f_0 = \\begin{bmatrix}1 & 0\\\\0 & 1\\end{bmatrix}\\qquad\n",
        "f_1 = \\begin{bmatrix}0 & 1\\\\1 & 0\\end{bmatrix}\\qquad\n",
        "f_2 = \\begin{bmatrix}1 & 1\\\\0 & 0\\end{bmatrix}\\qquad\n",
        "f_3 = \\begin{bmatrix}0 & 0\\\\1 & 1\\end{bmatrix}\n",
        "$$\n",
        "\n",
        "Podemos convertir esas matrices en unitarias $U_{f_i}$ para usar en el circuito anterior.\n",
        "\n",
        "Por ejemplo, para $f_0$, podemos obtener la matriz correspondiente a $U_f$ a partir de la siguiente tabla:\n",
        "\n",
        "<center><img src=\"https://drive.google.com/uc?export=view&id=1q0VWpLV2AvreY43Jms_UMfs0Ahb8tRIM\" alt=\"Tabla f0\" width=\"400\"  /></center>\n",
        "\n",
        "\n",
        "Por tanto la matriz $U_{f_0}$ es:\n",
        "\n",
        "$$\n",
        "U_{f_0} =\n",
        "\\begin{bmatrix}\n",
        "1 & 0 & 0 & 0\\\\\n",
        "0 & 0 & 0 & 1\\\\\n",
        "0 & 0 & 1 & 0\\\\\n",
        "0 & 1 & 0 & 0\\end{bmatrix}\n",
        "$$"
      ]
    },
    {
      "cell_type": "markdown",
      "id": "98f376b0",
      "metadata": {
        "id": "98f376b0"
      },
      "source": [
        "### Ejercicio 1\n",
        "\n",
        "Obtén las matrices para las otras tres funciones."
      ]
    },
    {
      "cell_type": "markdown",
      "source": [],
      "metadata": {
        "id": "_wGYSRKAfYvt"
      },
      "id": "_wGYSRKAfYvt"
    },
    {
      "cell_type": "markdown",
      "id": "39645a71",
      "metadata": {
        "id": "39645a71"
      },
      "source": [
        "\n",
        "\n",
        "---\n",
        "\n"
      ]
    },
    {
      "cell_type": "markdown",
      "id": "e8181ed8",
      "metadata": {
        "id": "e8181ed8"
      },
      "source": [
        "La matriz $U_{f_0}$ corresponde a una puerta CNOT:"
      ]
    },
    {
      "cell_type": "code",
      "execution_count": null,
      "id": "8d2ba80f",
      "metadata": {
        "id": "8d2ba80f"
      },
      "outputs": [],
      "source": [
        "x = QuantumRegister(1, name=\"|x\\\\rangle\")\n",
        "y = QuantumRegister(1, name=\"|y\\\\rangle\")\n",
        "qc = QuantumCircuit(x,y)\n",
        "\n",
        "# Aplica CNOT, primer parámetro target, segundo control\n",
        "qc.cx(x,y)\n",
        "qc.save_unitary()\n",
        "qc.draw('mpl')"
      ]
    },
    {
      "cell_type": "code",
      "execution_count": null,
      "id": "ab2831ba",
      "metadata": {
        "id": "ab2831ba"
      },
      "outputs": [],
      "source": [
        "obten_unitaria(qc, \"U_{f_0} = \")"
      ]
    },
    {
      "cell_type": "markdown",
      "id": "b662eb04",
      "metadata": {
        "id": "b662eb04"
      },
      "source": [
        "Qiskit permite definir este circuito como una puerta:"
      ]
    },
    {
      "cell_type": "code",
      "execution_count": null,
      "id": "5d1e56c0",
      "metadata": {
        "id": "5d1e56c0"
      },
      "outputs": [],
      "source": [
        "# Oráculo para f0\n",
        "def f0_oraculo():\n",
        "    \"\"\"\n",
        "    Define un oraculo para la funcion f0\n",
        "        return: circuito de 2 cúbit en forma de puerta\n",
        "    \"\"\"\n",
        "    x = QuantumRegister(1, name=\"|x\\\\rangle\")\n",
        "    y = QuantumRegister(1, name=\"|y\\\\rangle\")\n",
        "    qc = QuantumCircuit(x,y)\n",
        "    # Aplica CNOT, primer parámetro target, segundo control\n",
        "    qc.cx(x,y)\n",
        "\n",
        "\n",
        "    oraculo = qc.to_gate()\n",
        "    oraculo.name = \"$U_{f_0}$\"\n",
        "    return(oraculo)"
      ]
    },
    {
      "cell_type": "markdown",
      "id": "02bca9e1",
      "metadata": {
        "id": "02bca9e1"
      },
      "source": [
        "### Demostración del paralelismo cuántico\n",
        "\n",
        "Podemos ver como funciona el paralelismo cuántico haciendo un circuito en Qiskit con el oraculo asociado a $f_0$."
      ]
    },
    {
      "cell_type": "markdown",
      "id": "03c439c2",
      "metadata": {
        "id": "03c439c2"
      },
      "source": [
        "Se trata del estado:\n",
        "$$\n",
        "|\\psi\\rangle = \\tfrac{1}{\\sqrt{2}}(|00\\rangle+|11\\rangle) = \\tfrac{1}{\\sqrt{2}}(|f_0(0),0\\rangle+|f_1(1),1\\rangle)\n",
        "$$"
      ]
    },
    {
      "cell_type": "markdown",
      "id": "d8227cd6",
      "metadata": {
        "id": "d8227cd6"
      },
      "source": [
        "### Ejercicio 2\n",
        "\n",
        "Crea funciones oráculo en Qiskit para las otras 3 matrices y prueba el paralelismo cuantico en los 3 casos."
      ]
    },
    {
      "cell_type": "code",
      "execution_count": null,
      "id": "15073822",
      "metadata": {
        "id": "15073822"
      },
      "outputs": [],
      "source": []
    },
    {
      "cell_type": "markdown",
      "id": "b4312e45",
      "metadata": {
        "id": "b4312e45"
      },
      "source": [
        "# Complejidad de consultas<a name=\"complejidad\"></a>\n",
        "\n",
        "En un algoritmo que hace uso de un oráculo, se denomina complejidad de consultas (*query complexity*) al número medio de *consultas* al oráculo que se necesitan para resolver el problema.\n",
        "\n",
        "La complejidad se expresa a través de la *notación asintótica*, principalmente la notación *Big-O*.\n",
        "\n",
        "Así, si el número $n$ de accesos al oráculo crece exponencialmente, la complejidad será $\\mathcal{O}\\left(2^n\\right)$ y si lo hace linealmente $\\mathcal{O}\\left(n\\right)$.\n",
        "\n",
        "Los algoritmos cuánticos que veremos a continuación tienen una menor complejidad de consultas que sus equivalentes clásicos."
      ]
    },
    {
      "cell_type": "markdown",
      "id": "fbcf6628",
      "metadata": {
        "id": "fbcf6628"
      },
      "source": [
        "-------------------------------\n",
        "-------------------------------\n",
        "-------------------------------"
      ]
    },
    {
      "cell_type": "code",
      "execution_count": null,
      "id": "bfe0e09a",
      "metadata": {
        "id": "bfe0e09a"
      },
      "outputs": [],
      "source": []
    }
  ],
  "metadata": {
    "kernelspec": {
      "display_name": "Python 3 (ipykernel)",
      "language": "python",
      "name": "python3"
    },
    "language_info": {
      "codemirror_mode": {
        "name": "ipython",
        "version": 3
      },
      "file_extension": ".py",
      "mimetype": "text/x-python",
      "name": "python",
      "nbconvert_exporter": "python",
      "pygments_lexer": "ipython3",
      "version": "3.12.2"
    },
    "colab": {
      "provenance": [],
      "include_colab_link": true
    }
  },
  "nbformat": 4,
  "nbformat_minor": 5
}