{
  "cells": [
    {
      "cell_type": "markdown",
      "metadata": {
        "id": "view-in-github",
        "colab_type": "text"
      },
      "source": [
        "<a href=\"https://colab.research.google.com/github/tarabelo/PIAC-apuntes/blob/main/Pr%C3%A1ctica%203%3A%20algoritmo%20de%20Bernstein-Vazirani.ipynb\" target=\"_parent\"><img src=\"https://colab.research.google.com/assets/colab-badge.svg\" alt=\"Open In Colab\"/></a>"
      ]
    },
    {
      "cell_type": "markdown",
      "source": [
        "# **PON TU NOMBRE AQUÍ**"
      ],
      "metadata": {
        "id": "GKcdasYu78IY"
      },
      "id": "GKcdasYu78IY"
    },
    {
      "cell_type": "markdown",
      "id": "d623ac7c",
      "metadata": {
        "id": "d623ac7c"
      },
      "source": [
        "# Práctica 3: algoritmo de Bernstein-Vazirani\n",
        "\n",
        "Implementa en Qiskit el algoritmo de Bernstein-Vazirani para un $n$ y un $s$ con el oráculo implementado en el ejercicio 5.\n",
        "\n",
        "Obtén la salida y comprueba que puede encontrar el valor de $s$."
      ]
    },
    {
      "cell_type": "code",
      "execution_count": null,
      "id": "40f8569f",
      "metadata": {
        "id": "40f8569f"
      },
      "outputs": [],
      "source": []
    },
    {
      "cell_type": "markdown",
      "id": "cb4de7eb",
      "metadata": {
        "id": "cb4de7eb"
      },
      "source": [
        "-----------------------------\n",
        "-----------------------------\n",
        "-----------------------------"
      ]
    }
  ],
  "metadata": {
    "kernelspec": {
      "display_name": "Python 3 (ipykernel)",
      "language": "python",
      "name": "python3"
    },
    "language_info": {
      "codemirror_mode": {
        "name": "ipython",
        "version": 3
      },
      "file_extension": ".py",
      "mimetype": "text/x-python",
      "name": "python",
      "nbconvert_exporter": "python",
      "pygments_lexer": "ipython3",
      "version": "3.11.4"
    },
    "colab": {
      "provenance": [],
      "include_colab_link": true
    }
  },
  "nbformat": 4,
  "nbformat_minor": 5
}