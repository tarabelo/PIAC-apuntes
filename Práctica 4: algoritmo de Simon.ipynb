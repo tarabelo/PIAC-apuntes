{
  "cells": [
    {
      "cell_type": "markdown",
      "metadata": {
        "id": "view-in-github",
        "colab_type": "text"
      },
      "source": [
        "<a href=\"https://colab.research.google.com/github/tarabelo/PIAC-apuntes/blob/main/Pr%C3%A1ctica%204%3A%20algoritmo%20de%20Simon.ipynb\" target=\"_parent\"><img src=\"https://colab.research.google.com/assets/colab-badge.svg\" alt=\"Open In Colab\"/></a>"
      ]
    },
    {
      "cell_type": "markdown",
      "source": [
        "# **PON TU NOMBRE AQUÍ**\n",
        "\n",
        "---"
      ],
      "metadata": {
        "id": "EppLH_OqxvL4"
      },
      "id": "EppLH_OqxvL4"
    },
    {
      "cell_type": "markdown",
      "id": "8765bb7b",
      "metadata": {
        "id": "8765bb7b"
      },
      "source": [
        "# Práctica 4: algoritmo de Simon\n",
        "\n",
        "Implementa en Qiskit el algoritmo de Simon para un $n$ y un $c$ arbitrario y el oráculo simple que hemos visto.\n",
        "\n",
        "Empieza implementando el oráculo como una puerta.\n",
        "\n",
        "Para probarlo, supón $n=3$ y $c$ un valor aleatorio en el intervalo $[0,7]$. Obtén el valor de $c$ a partir de la salida del algoritmo."
      ]
    },
    {
      "cell_type": "code",
      "execution_count": null,
      "id": "dd08cc5b",
      "metadata": {
        "id": "dd08cc5b"
      },
      "outputs": [],
      "source": []
    },
    {
      "cell_type": "markdown",
      "id": "a5e530b8",
      "metadata": {
        "id": "a5e530b8"
      },
      "source": [
        "--------------------\n",
        "-------------------\n",
        "------------------"
      ]
    }
  ],
  "metadata": {
    "kernelspec": {
      "display_name": "Python 3 (ipykernel)",
      "language": "python",
      "name": "python3"
    },
    "language_info": {
      "codemirror_mode": {
        "name": "ipython",
        "version": 3
      },
      "file_extension": ".py",
      "mimetype": "text/x-python",
      "name": "python",
      "nbconvert_exporter": "python",
      "pygments_lexer": "ipython3",
      "version": "3.11.4"
    },
    "colab": {
      "provenance": [],
      "include_colab_link": true
    }
  },
  "nbformat": 4,
  "nbformat_minor": 5
}