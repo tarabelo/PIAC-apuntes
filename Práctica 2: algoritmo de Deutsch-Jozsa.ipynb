{
  "cells": [
    {
      "cell_type": "markdown",
      "metadata": {
        "id": "view-in-github",
        "colab_type": "text"
      },
      "source": [
        "<a href=\"https://colab.research.google.com/github/tarabelo/PIAC-apuntes/blob/main/Pr%C3%A1ctica%202%3A%20algoritmo%20de%20Deutsch-Jozsa.ipynb\" target=\"_parent\"><img src=\"https://colab.research.google.com/assets/colab-badge.svg\" alt=\"Open In Colab\"/></a>"
      ]
    },
    {
      "cell_type": "markdown",
      "source": [
        "# **PON TU NOMBRE AQUÍ**\n",
        "\n",
        "---\n",
        "\n"
      ],
      "metadata": {
        "id": "ltotLntW7iRm"
      },
      "id": "ltotLntW7iRm"
    },
    {
      "cell_type": "code",
      "source": [
        "# Instalamos qiskit en el notebook\n",
        "!pip install qiskit qiskit-aer pylatexenc"
      ],
      "metadata": {
        "id": "mYX5co4ixCTu"
      },
      "id": "mYX5co4ixCTu",
      "execution_count": null,
      "outputs": []
    },
    {
      "cell_type": "code",
      "source": [
        "# importing Qiskit\n",
        "from qiskit import QuantumCircuit, QuantumRegister, ClassicalRegister, transpile\n",
        "from qiskit_aer import AerSimulator\n",
        "# import basic plot tools\n",
        "from qiskit.visualization import plot_histogram"
      ],
      "metadata": {
        "id": "9TCFoo-3wtlP"
      },
      "id": "9TCFoo-3wtlP",
      "execution_count": null,
      "outputs": []
    },
    {
      "cell_type": "markdown",
      "id": "04fa1236",
      "metadata": {
        "id": "04fa1236"
      },
      "source": [
        "# Práctica 2: algoritmo de  Deutsch-Jozsa\n",
        "\n",
        "Implementa en Qiskit el algoritmo de Deutsch-Jozsa para un $n$ arbitrario.\n",
        "\n",
        "Pasos:\n",
        "\n",
        "1. Crea una función que devuelva un oráculo para $f$ constante."
      ]
    },
    {
      "cell_type": "code",
      "execution_count": null,
      "id": "059e23ac",
      "metadata": {
        "id": "059e23ac"
      },
      "outputs": [],
      "source": [
        "def cte_oraculo(n):\n",
        "    \"\"\"\n",
        "    Define un oraculo para una función constante de n bits\n",
        "        return: circuito de n+1 cúbits en forma de puerta\n",
        "    \"\"\"\n",
        "    qc = QuantumCircuit(n+1)\n",
        "\n",
        "    # TODO: Define el oráculo\n",
        "    ............................\n",
        "\n",
        "    # Salida\n",
        "    return qc"
      ]
    },
    {
      "cell_type": "markdown",
      "id": "2d7075e6",
      "metadata": {
        "id": "2d7075e6"
      },
      "source": [
        "2. Crea una función que devuelva un oráculo para $f$ balanceada."
      ]
    },
    {
      "cell_type": "code",
      "execution_count": null,
      "id": "52704cf8",
      "metadata": {
        "id": "52704cf8"
      },
      "outputs": [],
      "source": [
        "def bal_oraculo(n):\n",
        "    \"\"\"\n",
        "    Define un oraculo para una función balanceada de n bits\n",
        "        return: circuito de n+1 cúbits en forma de puerta\n",
        "    \"\"\"\n",
        "    qc = QuantumCircuit(n+1)\n",
        "\n",
        "    # TODO: Define el oráculo\n",
        "    # El más simple se puede implementar con CNOTS,\n",
        "    # de forma que f(x) = 0 si x tiene paridad par (nº de bits 1 par) o 1 en otro caso.\n",
        "    .............................\n",
        "\n",
        "    # Salida\n",
        "    return qc"
      ]
    },
    {
      "cell_type": "markdown",
      "id": "758650b7",
      "metadata": {
        "id": "758650b7"
      },
      "source": [
        "3. Crea una función que devuelva una puerta oráculo cte. o balanceado según un parámetro de entrada"
      ]
    },
    {
      "cell_type": "code",
      "execution_count": null,
      "id": "739ecc53",
      "metadata": {
        "id": "739ecc53"
      },
      "outputs": [],
      "source": [
        "def dj_oraculo(n, tipo):\n",
        "    \"\"\"\n",
        "    Devuelve un oraculo para el algoritmo de Deutsch-Jozsa\n",
        "\n",
        "        n: Número de cúbits de entrada\n",
        "        tipo: tipo de oráculo, 0 cte., 1 balanceado\n",
        "        return: circuito de n+1 cúbit en forma de puerta\n",
        "    \"\"\"\n",
        "    x = QuantumRegister(n, name=\"|x\\\\rangle\")\n",
        "    y = QuantumRegister(1, name=\"|y\\\\rangle\")\n",
        "    qc = QuantumCircuit(x,y)\n",
        "\n",
        "    ...................................\n",
        "\n",
        "    # Salida\n",
        "    oraculo = qc.to_gate()\n",
        "    oraculo.name = \"$U_{f}$\"\n",
        "    return oraculo"
      ]
    },
    {
      "cell_type": "markdown",
      "id": "a1211926",
      "metadata": {
        "id": "a1211926"
      },
      "source": [
        "4. Implementa paso a paso el circuito completo del algoritmo de Deutsch-Jozsa:"
      ]
    },
    {
      "cell_type": "markdown",
      "id": "7ebe035f",
      "metadata": {
        "id": "7ebe035f"
      },
      "source": [
        "Paso 0: Obtén el estado inicial:\n",
        "        \n",
        "$$\\vert \\psi_0 \\rangle = \\vert 1\\rangle\\vert0\\rangle^{\\otimes n} $$"
      ]
    },
    {
      "cell_type": "code",
      "execution_count": null,
      "id": "df4abad1",
      "metadata": {
        "id": "df4abad1"
      },
      "outputs": [],
      "source": [
        "def paso_0(n):\n",
        "    qc = QuantumCircuit(n+1,n)\n",
        "\n",
        "    #\n",
        "    # TODO: Añade las puertas necesarias para obtener el estado 𝜓0\n",
        "    #\n",
        "    ............\n",
        "\n",
        "    return qc\n",
        "\n",
        "# Mostramos el circuito\n",
        "paso_0(n).draw('mpl')"
      ]
    },
    {
      "cell_type": "markdown",
      "id": "79d1352c",
      "metadata": {
        "id": "79d1352c"
      },
      "source": [
        "Paso 1: Obtén el estado\n",
        "$$\\vert \\psi_1 \\rangle = \\frac{1}{\\sqrt{2^{n+1}}}\\sum_{x=0}^{2^n-1} \\left(|0\\rangle - |1 \\rangle \\right)\\vert x\\rangle $$"
      ]
    },
    {
      "cell_type": "code",
      "execution_count": null,
      "id": "a433425a",
      "metadata": {
        "id": "a433425a"
      },
      "outputs": [],
      "source": [
        "def paso_1(n):\n",
        "    qc = paso_0(n)\n",
        "\n",
        "    #\n",
        "    # TODO: Añade las puertas necesarias para obtener el estado 𝜓1\n",
        "    #\n",
        "    .........\n",
        "\n",
        "    return qc\n",
        "\n",
        "# Mostramos el circuito\n",
        "paso_1(n).draw('mpl')"
      ]
    },
    {
      "cell_type": "markdown",
      "id": "13010467",
      "metadata": {
        "id": "13010467"
      },
      "source": [
        "Paso 2: Añadimos el oráculo para obtener:\n",
        "\n",
        "$$\n",
        "\\lvert \\psi_2 \\rangle  \n",
        "= \\frac{|0\\rangle - |1\\rangle}{\\sqrt{2^{n+1}}}\\sum_{x=0}^{2^n-1}(-1)^{f(x)}|x\\rangle  \n",
        "$$"
      ]
    },
    {
      "cell_type": "code",
      "execution_count": null,
      "id": "9d3ca6a1",
      "metadata": {
        "id": "9d3ca6a1"
      },
      "outputs": [],
      "source": [
        "def paso_2(n, tipo_oraculo):\n",
        "    qc = paso_1(n)\n",
        "\n",
        "    # Añadimos barreras para una mejor visualización\n",
        "    qc.barrier()\n",
        "\n",
        "    # TODO: añade el oráculo\n",
        "    .........\n",
        "    qc.barrier()\n",
        "\n",
        "    return qc\n",
        "\n",
        "# Mostramos el circuito\n",
        "paso_2(n, 1).draw('mpl')"
      ]
    },
    {
      "cell_type": "markdown",
      "id": "c5482b56",
      "metadata": {
        "id": "c5482b56"
      },
      "source": [
        "Paso 3: Añade las últimas puertas H y la medida de los $n$ primeros cúbits."
      ]
    },
    {
      "cell_type": "code",
      "execution_count": null,
      "id": "307f006c",
      "metadata": {
        "id": "307f006c"
      },
      "outputs": [],
      "source": [
        "def paso_3(n, tipo_oraculo):\n",
        "    qc = paso_2(n, tipo_oraculo)\n",
        "    #\n",
        "    # TODO: Añade las puertas H y la medida\n",
        "    #\n",
        "    .........\n",
        "\n",
        "    return qc\n",
        "\n",
        "# Selecciona un oráculo aleatorio\n",
        "tipo_oraculo = np.random.randint(2)\n",
        "dj_circuito = paso_3(4, tipo_oraculo)\n",
        "dj_circuito.draw('mpl')"
      ]
    },
    {
      "cell_type": "markdown",
      "id": "07e48e84",
      "metadata": {
        "id": "07e48e84"
      },
      "source": [
        "Simulamos el circuito y obtenemos un histograma de la salida:"
      ]
    },
    {
      "cell_type": "code",
      "execution_count": null,
      "id": "d9b7a04c",
      "metadata": {
        "id": "d9b7a04c"
      },
      "outputs": [],
      "source": [
        "# Usamos Aer\n",
        "sim = AerSimulator(method='automatic')\n",
        "qc_obj = transpile(dj_circuito, sim)\n",
        "result = sim.run(qc_obj, shots=1024).result()\n",
        "salida = result.get_counts()\n",
        "plot_histogram(salida)"
      ]
    },
    {
      "cell_type": "markdown",
      "id": "aab3985c",
      "metadata": {
        "id": "aab3985c"
      },
      "source": [
        "Verifica que si el oráculo es constante, la salida es 0, y si es balanceado es $\\ne 0$."
      ]
    },
    {
      "cell_type": "markdown",
      "id": "bce70685",
      "metadata": {
        "id": "bce70685"
      },
      "source": [
        "-----------------------------\n",
        "-----------------------------\n",
        "-----------------------------"
      ]
    }
  ],
  "metadata": {
    "kernelspec": {
      "display_name": "Python 3 (ipykernel)",
      "language": "python",
      "name": "python3"
    },
    "language_info": {
      "codemirror_mode": {
        "name": "ipython",
        "version": 3
      },
      "file_extension": ".py",
      "mimetype": "text/x-python",
      "name": "python",
      "nbconvert_exporter": "python",
      "pygments_lexer": "ipython3",
      "version": "3.11.4"
    },
    "colab": {
      "provenance": [],
      "include_colab_link": true
    }
  },
  "nbformat": 4,
  "nbformat_minor": 5
}