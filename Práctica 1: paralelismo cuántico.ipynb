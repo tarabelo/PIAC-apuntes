{
  "cells": [
    {
      "cell_type": "markdown",
      "metadata": {
        "id": "view-in-github",
        "colab_type": "text"
      },
      "source": [
        "<a href=\"https://colab.research.google.com/github/tarabelo/PIAC-apuntes/blob/main/Pr%C3%A1ctica%201%3A%20paralelismo%20cu%C3%A1ntico.ipynb\" target=\"_parent\"><img src=\"https://colab.research.google.com/assets/colab-badge.svg\" alt=\"Open In Colab\"/></a>"
      ]
    },
    {
      "cell_type": "markdown",
      "source": [
        "# **PON TU NOMBRE AQUÍ**"
      ],
      "metadata": {
        "id": "LqYJr7Ae69iw"
      },
      "id": "LqYJr7Ae69iw"
    },
    {
      "cell_type": "markdown",
      "id": "997c8bca",
      "metadata": {
        "id": "997c8bca"
      },
      "source": [
        "# Práctica 1: paralelismo cuántico\n",
        "\n",
        "Utiliza el paralelismo cuántico para evaluar una función $f(x) = f(\\{x_{n-1},x_{n-2},\\ldots,x_0\\}) \\rightarrow \\{0,1\\}$, con $x_i \\in \\{0,1\\}$, que verifique:\n",
        "\n",
        "$$\n",
        "f(x) =\n",
        "\\begin{cases}\n",
        "1, \\text{si } x \\text{ es par}\\\\\n",
        "0, \\text{si } x \\text{ es impar}\\\\\n",
        "\\end{cases}\n",
        "$$\n",
        "\n",
        "Crea un circuito en Qiskit para $n=2$."
      ]
    },
    {
      "cell_type": "code",
      "execution_count": null,
      "id": "da3ba798",
      "metadata": {
        "id": "da3ba798"
      },
      "outputs": [],
      "source": []
    }
  ],
  "metadata": {
    "kernelspec": {
      "display_name": "Python 3 (ipykernel)",
      "language": "python",
      "name": "python3"
    },
    "language_info": {
      "codemirror_mode": {
        "name": "ipython",
        "version": 3
      },
      "file_extension": ".py",
      "mimetype": "text/x-python",
      "name": "python",
      "nbconvert_exporter": "python",
      "pygments_lexer": "ipython3",
      "version": "3.11.4"
    },
    "colab": {
      "provenance": [],
      "include_colab_link": true
    }
  },
  "nbformat": 4,
  "nbformat_minor": 5
}